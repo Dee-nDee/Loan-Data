{
 "cells": [
  {
   "cell_type": "markdown",
   "metadata": {},
   "source": [
    "# Part I - Loan Data from Prosper Dataset Exploration\n",
    "\n",
    "## by Ubogun O. Divine-Favour\n",
    "\n",
    "## Table of Content\n",
    "\n",
    "<ul>\n",
    "<li><a href=\"#intro\">Introduction</a></li>\n",
    "<li><a href=\"#wrangling\">Preliminary Wrangling</a></li>\n",
    "<li><a href=\"#univariate\">Univariate Exploration</a></li>\n",
    "<li><a href=\"#bivariate\">Bivariate Exploration</a></li>\n",
    "<li><a href=\"#multivariate\">Multivariate Exploration</a></li> \n",
    "<li><a href=\"#conclusions\">Conclusions</a></li>\n",
    "</ul>"
   ]
  },
  {
   "cell_type": "markdown",
   "metadata": {},
   "source": [
    "<a id=\"intro\"><\\a>"
   ]
  },
  {
   "cell_type": "markdown",
   "metadata": {},
   "source": [
    "## Introduction \n",
    " \n",
    "Loan Data from Prosper is a dataset with over 110,000 loan entries on 81 variables. In this document though, it is modified to have only 14,882 loan entries on 13 variables. The selected variables are TermMonths (originally \"Term\", but renamed \"TermMonths\"), LoanStatus, BorrowerAPR, BorrowerRate, ListingCategory, BorrowerState, Occupation, EmploymentStatus, IsBorrowerHomeowner, IncomeRange, and LoanOriginalAmount. Two other variables, JobStatus and Term, will also be created during the analysis of the dataset, making up the 13 variables of the modified dataset in this document.<br>\n",
    "\n",
    "- TermMonths is the length of the loan in months \n",
    "- Term states the term each month length represents (short term, mid term, and long term)\n",
    "- LoanStatus means the status of the loan which could be completed, current, charged off, defaulted, cancelled, final payment in progress, or past due. Past due usually includes the range in which the number of days for which the loan is past due falls into in parentheses. \n",
    "> During the analysis, the rows with \"Current\" values will be removed from our dataset as they will not be needed. \n",
    "- ListingCategory contains the listing category that the borrower selected when posting their listing for the loan. \n",
    "- BorrowerAPR is the borrower's Annual Percentage Rate, which is the totality of all the cost of a loan to a borrower (including the interest rate) in a year expressed in percentage. \n",
    "- BorrowerRate is the interest rate a borrower gets for a loan.\n",
    "- IsHomeonwer contains a boolean value (True/False) for whether the borrower owns a home. \n",
    "- Occupation, EmploymentStatus, and IncomeRange contain the occupation, employment status and income range of the borrower respectively. \n",
    "- BorrowerState is the state of residence of borrower\n",
    "- LoanOriginalAmount is the original amount loaned to the borrower.\n",
    "- JobStatus states if the borrower is working or not."
   ]
  },
  {
   "cell_type": "markdown",
   "metadata": {},
   "source": [
    "<a id=\"wrangling\"><\\a>    "
   ]
  },
  {
   "cell_type": "markdown",
   "metadata": {},
   "source": [
    "## Preliminary Wrangling\n",
    "\n",
    "In this section, the dataset is assessed and issues found are cleaned. The cleaning process would involve the removal of variables not necessary for this analysis. "
   ]
  },
  {
   "cell_type": "code",
   "execution_count": 1,
   "metadata": {},
   "outputs": [],
   "source": [
    "# import all packages and set plots to be embedded inline\n",
    "import numpy as np\n",
    "import pandas as pd\n",
    "import matplotlib.pyplot as plt\n",
    "import seaborn as sb\n",
    "\n",
    "%matplotlib inline"
   ]
  },
  {
   "cell_type": "code",
   "execution_count": 2,
   "metadata": {},
   "outputs": [],
   "source": [
    "#load dataset into a dataframe\n",
    "prosper_loans = pd.read_csv(\"prosperLoanData.csv\")\n"
   ]
  },
  {
   "cell_type": "code",
   "execution_count": 3,
   "metadata": {},
   "outputs": [],
   "source": [
    "def drop_unwanted_cols(df, list_of_cols_to_keep): \n",
    "    \"\"\"This function selects out unwanted columns in a dataframe \n",
    "    and drops them\"\"\"\n",
    "    new_list = []\n",
    "    for col in df.columns: \n",
    "        if col not in list_of_cols_to_keep: \n",
    "            new_list.append(col)\n",
    "    return df.drop(new_list, axis = 1) \n",
    "    "
   ]
  },
  {
   "cell_type": "code",
   "execution_count": 4,
   "metadata": {},
   "outputs": [],
   "source": [
    "#create a list of wanted columns\n",
    "wanted_cols = [\"Term\",\"LoanOriginalAmount\", \"LoanStatus\", \"BorrowerAPR\", \"BorrowerRate\", \"ListingCategory (numeric)\", \"BorrowerState\", \"Occupation\", \"EmploymentStatus\", \"IsBorrowerHomeowner\", \"IncomeRange\"]\n",
    "\n",
    "#apply the drop_unwanted_cols function to the dataframe  \n",
    "prosper_loans = drop_unwanted_cols(prosper_loans, wanted_cols)\n"
   ]
  },
  {
   "cell_type": "markdown",
   "metadata": {},
   "source": [
    "#### Assess data"
   ]
  },
  {
   "cell_type": "code",
   "execution_count": 5,
   "metadata": {},
   "outputs": [
    {
     "data": {
      "text/html": [
       "<div>\n",
       "<style scoped>\n",
       "    .dataframe tbody tr th:only-of-type {\n",
       "        vertical-align: middle;\n",
       "    }\n",
       "\n",
       "    .dataframe tbody tr th {\n",
       "        vertical-align: top;\n",
       "    }\n",
       "\n",
       "    .dataframe thead th {\n",
       "        text-align: right;\n",
       "    }\n",
       "</style>\n",
       "<table border=\"1\" class=\"dataframe\">\n",
       "  <thead>\n",
       "    <tr style=\"text-align: right;\">\n",
       "      <th></th>\n",
       "      <th>Term</th>\n",
       "      <th>LoanStatus</th>\n",
       "      <th>BorrowerAPR</th>\n",
       "      <th>BorrowerRate</th>\n",
       "      <th>ListingCategory (numeric)</th>\n",
       "      <th>BorrowerState</th>\n",
       "      <th>Occupation</th>\n",
       "      <th>EmploymentStatus</th>\n",
       "      <th>IsBorrowerHomeowner</th>\n",
       "      <th>IncomeRange</th>\n",
       "      <th>LoanOriginalAmount</th>\n",
       "    </tr>\n",
       "  </thead>\n",
       "  <tbody>\n",
       "    <tr>\n",
       "      <th>9446</th>\n",
       "      <td>60</td>\n",
       "      <td>Current</td>\n",
       "      <td>0.28930</td>\n",
       "      <td>0.2632</td>\n",
       "      <td>1</td>\n",
       "      <td>OH</td>\n",
       "      <td>Civil Service</td>\n",
       "      <td>Employed</td>\n",
       "      <td>True</td>\n",
       "      <td>$50,000-74,999</td>\n",
       "      <td>15000</td>\n",
       "    </tr>\n",
       "    <tr>\n",
       "      <th>17662</th>\n",
       "      <td>36</td>\n",
       "      <td>Current</td>\n",
       "      <td>0.14816</td>\n",
       "      <td>0.1199</td>\n",
       "      <td>1</td>\n",
       "      <td>MA</td>\n",
       "      <td>Other</td>\n",
       "      <td>Self-employed</td>\n",
       "      <td>False</td>\n",
       "      <td>$50,000-74,999</td>\n",
       "      <td>15000</td>\n",
       "    </tr>\n",
       "    <tr>\n",
       "      <th>96453</th>\n",
       "      <td>36</td>\n",
       "      <td>Current</td>\n",
       "      <td>0.08577</td>\n",
       "      <td>0.0724</td>\n",
       "      <td>1</td>\n",
       "      <td>WV</td>\n",
       "      <td>Other</td>\n",
       "      <td>Other</td>\n",
       "      <td>False</td>\n",
       "      <td>$1-24,999</td>\n",
       "      <td>4000</td>\n",
       "    </tr>\n",
       "    <tr>\n",
       "      <th>58947</th>\n",
       "      <td>36</td>\n",
       "      <td>Current</td>\n",
       "      <td>0.14446</td>\n",
       "      <td>0.1159</td>\n",
       "      <td>1</td>\n",
       "      <td>SC</td>\n",
       "      <td>Professional</td>\n",
       "      <td>Employed</td>\n",
       "      <td>True</td>\n",
       "      <td>$75,000-99,999</td>\n",
       "      <td>15000</td>\n",
       "    </tr>\n",
       "    <tr>\n",
       "      <th>84612</th>\n",
       "      <td>36</td>\n",
       "      <td>Current</td>\n",
       "      <td>0.14751</td>\n",
       "      <td>0.1189</td>\n",
       "      <td>1</td>\n",
       "      <td>NC</td>\n",
       "      <td>Food Service Management</td>\n",
       "      <td>Employed</td>\n",
       "      <td>True</td>\n",
       "      <td>$50,000-74,999</td>\n",
       "      <td>10000</td>\n",
       "    </tr>\n",
       "    <tr>\n",
       "      <th>13212</th>\n",
       "      <td>36</td>\n",
       "      <td>Current</td>\n",
       "      <td>0.32576</td>\n",
       "      <td>0.2899</td>\n",
       "      <td>1</td>\n",
       "      <td>KY</td>\n",
       "      <td>Skilled Labor</td>\n",
       "      <td>Employed</td>\n",
       "      <td>True</td>\n",
       "      <td>$50,000-74,999</td>\n",
       "      <td>5000</td>\n",
       "    </tr>\n",
       "    <tr>\n",
       "      <th>99744</th>\n",
       "      <td>36</td>\n",
       "      <td>Current</td>\n",
       "      <td>0.12691</td>\n",
       "      <td>0.0990</td>\n",
       "      <td>1</td>\n",
       "      <td>IL</td>\n",
       "      <td>Psychologist</td>\n",
       "      <td>Employed</td>\n",
       "      <td>False</td>\n",
       "      <td>$25,000-49,999</td>\n",
       "      <td>2500</td>\n",
       "    </tr>\n",
       "    <tr>\n",
       "      <th>90262</th>\n",
       "      <td>36</td>\n",
       "      <td>Completed</td>\n",
       "      <td>0.17722</td>\n",
       "      <td>0.1700</td>\n",
       "      <td>0</td>\n",
       "      <td>NaN</td>\n",
       "      <td>Laborer</td>\n",
       "      <td>Not available</td>\n",
       "      <td>True</td>\n",
       "      <td>Not displayed</td>\n",
       "      <td>3000</td>\n",
       "    </tr>\n",
       "    <tr>\n",
       "      <th>76980</th>\n",
       "      <td>36</td>\n",
       "      <td>Current</td>\n",
       "      <td>0.25279</td>\n",
       "      <td>0.2150</td>\n",
       "      <td>1</td>\n",
       "      <td>VA</td>\n",
       "      <td>Teacher</td>\n",
       "      <td>Employed</td>\n",
       "      <td>False</td>\n",
       "      <td>$25,000-49,999</td>\n",
       "      <td>5000</td>\n",
       "    </tr>\n",
       "    <tr>\n",
       "      <th>73934</th>\n",
       "      <td>36</td>\n",
       "      <td>Completed</td>\n",
       "      <td>0.21699</td>\n",
       "      <td>0.1800</td>\n",
       "      <td>13</td>\n",
       "      <td>KY</td>\n",
       "      <td>Other</td>\n",
       "      <td>Employed</td>\n",
       "      <td>True</td>\n",
       "      <td>$50,000-74,999</td>\n",
       "      <td>3500</td>\n",
       "    </tr>\n",
       "    <tr>\n",
       "      <th>91991</th>\n",
       "      <td>36</td>\n",
       "      <td>Current</td>\n",
       "      <td>0.32538</td>\n",
       "      <td>0.2859</td>\n",
       "      <td>13</td>\n",
       "      <td>FL</td>\n",
       "      <td>Professional</td>\n",
       "      <td>Employed</td>\n",
       "      <td>False</td>\n",
       "      <td>$50,000-74,999</td>\n",
       "      <td>2500</td>\n",
       "    </tr>\n",
       "    <tr>\n",
       "      <th>69229</th>\n",
       "      <td>36</td>\n",
       "      <td>Completed</td>\n",
       "      <td>0.17018</td>\n",
       "      <td>0.1485</td>\n",
       "      <td>1</td>\n",
       "      <td>MS</td>\n",
       "      <td>Other</td>\n",
       "      <td>Full-time</td>\n",
       "      <td>False</td>\n",
       "      <td>$50,000-74,999</td>\n",
       "      <td>2000</td>\n",
       "    </tr>\n",
       "    <tr>\n",
       "      <th>11622</th>\n",
       "      <td>36</td>\n",
       "      <td>Chargedoff</td>\n",
       "      <td>0.33553</td>\n",
       "      <td>0.2958</td>\n",
       "      <td>1</td>\n",
       "      <td>WI</td>\n",
       "      <td>Principal</td>\n",
       "      <td>Employed</td>\n",
       "      <td>True</td>\n",
       "      <td>$75,000-99,999</td>\n",
       "      <td>4000</td>\n",
       "    </tr>\n",
       "    <tr>\n",
       "      <th>105718</th>\n",
       "      <td>36</td>\n",
       "      <td>Current</td>\n",
       "      <td>0.21342</td>\n",
       "      <td>0.1765</td>\n",
       "      <td>1</td>\n",
       "      <td>VA</td>\n",
       "      <td>Tradesman - Mechanic</td>\n",
       "      <td>Employed</td>\n",
       "      <td>True</td>\n",
       "      <td>$50,000-74,999</td>\n",
       "      <td>15000</td>\n",
       "    </tr>\n",
       "    <tr>\n",
       "      <th>91213</th>\n",
       "      <td>36</td>\n",
       "      <td>Current</td>\n",
       "      <td>0.30899</td>\n",
       "      <td>0.2699</td>\n",
       "      <td>1</td>\n",
       "      <td>TX</td>\n",
       "      <td>Other</td>\n",
       "      <td>Employed</td>\n",
       "      <td>False</td>\n",
       "      <td>$25,000-49,999</td>\n",
       "      <td>5000</td>\n",
       "    </tr>\n",
       "  </tbody>\n",
       "</table>\n",
       "</div>"
      ],
      "text/plain": [
       "        Term  LoanStatus  BorrowerAPR  BorrowerRate  \\\n",
       "9446      60     Current      0.28930        0.2632   \n",
       "17662     36     Current      0.14816        0.1199   \n",
       "96453     36     Current      0.08577        0.0724   \n",
       "58947     36     Current      0.14446        0.1159   \n",
       "84612     36     Current      0.14751        0.1189   \n",
       "13212     36     Current      0.32576        0.2899   \n",
       "99744     36     Current      0.12691        0.0990   \n",
       "90262     36   Completed      0.17722        0.1700   \n",
       "76980     36     Current      0.25279        0.2150   \n",
       "73934     36   Completed      0.21699        0.1800   \n",
       "91991     36     Current      0.32538        0.2859   \n",
       "69229     36   Completed      0.17018        0.1485   \n",
       "11622     36  Chargedoff      0.33553        0.2958   \n",
       "105718    36     Current      0.21342        0.1765   \n",
       "91213     36     Current      0.30899        0.2699   \n",
       "\n",
       "        ListingCategory (numeric) BorrowerState               Occupation  \\\n",
       "9446                            1            OH            Civil Service   \n",
       "17662                           1            MA                    Other   \n",
       "96453                           1            WV                    Other   \n",
       "58947                           1            SC             Professional   \n",
       "84612                           1            NC  Food Service Management   \n",
       "13212                           1            KY            Skilled Labor   \n",
       "99744                           1            IL             Psychologist   \n",
       "90262                           0           NaN                  Laborer   \n",
       "76980                           1            VA                  Teacher   \n",
       "73934                          13            KY                    Other   \n",
       "91991                          13            FL             Professional   \n",
       "69229                           1            MS                    Other   \n",
       "11622                           1            WI                Principal   \n",
       "105718                          1            VA     Tradesman - Mechanic   \n",
       "91213                           1            TX                    Other   \n",
       "\n",
       "       EmploymentStatus  IsBorrowerHomeowner     IncomeRange  \\\n",
       "9446           Employed                 True  $50,000-74,999   \n",
       "17662     Self-employed                False  $50,000-74,999   \n",
       "96453             Other                False       $1-24,999   \n",
       "58947          Employed                 True  $75,000-99,999   \n",
       "84612          Employed                 True  $50,000-74,999   \n",
       "13212          Employed                 True  $50,000-74,999   \n",
       "99744          Employed                False  $25,000-49,999   \n",
       "90262     Not available                 True   Not displayed   \n",
       "76980          Employed                False  $25,000-49,999   \n",
       "73934          Employed                 True  $50,000-74,999   \n",
       "91991          Employed                False  $50,000-74,999   \n",
       "69229         Full-time                False  $50,000-74,999   \n",
       "11622          Employed                 True  $75,000-99,999   \n",
       "105718         Employed                 True  $50,000-74,999   \n",
       "91213          Employed                False  $25,000-49,999   \n",
       "\n",
       "        LoanOriginalAmount  \n",
       "9446                 15000  \n",
       "17662                15000  \n",
       "96453                 4000  \n",
       "58947                15000  \n",
       "84612                10000  \n",
       "13212                 5000  \n",
       "99744                 2500  \n",
       "90262                 3000  \n",
       "76980                 5000  \n",
       "73934                 3500  \n",
       "91991                 2500  \n",
       "69229                 2000  \n",
       "11622                 4000  \n",
       "105718               15000  \n",
       "91213                 5000  "
      ]
     },
     "execution_count": 5,
     "metadata": {},
     "output_type": "execute_result"
    }
   ],
   "source": [
    "#view random rows of dataframe \n",
    "prosper_loans.sample(15)"
   ]
  },
  {
   "cell_type": "code",
   "execution_count": 6,
   "metadata": {},
   "outputs": [
    {
     "data": {
      "text/plain": [
       "(113937, 11)"
      ]
     },
     "execution_count": 6,
     "metadata": {},
     "output_type": "execute_result"
    }
   ],
   "source": [
    "#check number of rows and columns of dataframe \n",
    "prosper_loans.shape\n"
   ]
  },
  {
   "cell_type": "code",
   "execution_count": 7,
   "metadata": {
    "scrolled": true
   },
   "outputs": [
    {
     "name": "stdout",
     "output_type": "stream",
     "text": [
      "<class 'pandas.core.frame.DataFrame'>\n",
      "RangeIndex: 113937 entries, 0 to 113936\n",
      "Data columns (total 11 columns):\n",
      " #   Column                     Non-Null Count   Dtype  \n",
      "---  ------                     --------------   -----  \n",
      " 0   Term                       113937 non-null  int64  \n",
      " 1   LoanStatus                 113937 non-null  object \n",
      " 2   BorrowerAPR                113912 non-null  float64\n",
      " 3   BorrowerRate               113937 non-null  float64\n",
      " 4   ListingCategory (numeric)  113937 non-null  int64  \n",
      " 5   BorrowerState              108422 non-null  object \n",
      " 6   Occupation                 110349 non-null  object \n",
      " 7   EmploymentStatus           111682 non-null  object \n",
      " 8   IsBorrowerHomeowner        113937 non-null  bool   \n",
      " 9   IncomeRange                113937 non-null  object \n",
      " 10  LoanOriginalAmount         113937 non-null  int64  \n",
      "dtypes: bool(1), float64(2), int64(3), object(5)\n",
      "memory usage: 8.8+ MB\n"
     ]
    }
   ],
   "source": [
    "#check summarized info of dataset \n",
    "prosper_loans.info()"
   ]
  },
  {
   "cell_type": "markdown",
   "metadata": {},
   "source": [
    "#### Note \n",
    "\n",
    "The listing category is present in the dataset in numeric form as __ListingCategory (numeric)__ variable. Each number has a word meaning and would be converted to the meaning in word during cleaning."
   ]
  },
  {
   "cell_type": "code",
   "execution_count": 8,
   "metadata": {
    "scrolled": true
   },
   "outputs": [
    {
     "data": {
      "text/plain": [
       "1742"
      ]
     },
     "execution_count": 8,
     "metadata": {},
     "output_type": "execute_result"
    }
   ],
   "source": [
    "#check for duplicated rows\n",
    "prosper_loans.duplicated().sum()"
   ]
  },
  {
   "cell_type": "code",
   "execution_count": 9,
   "metadata": {},
   "outputs": [
    {
     "data": {
      "text/plain": [
       "array([36, 60, 12])"
      ]
     },
     "execution_count": 9,
     "metadata": {},
     "output_type": "execute_result"
    }
   ],
   "source": [
    "#check for the unique values in Term column \n",
    "prosper_loans.Term.unique()\n"
   ]
  },
  {
   "cell_type": "code",
   "execution_count": 10,
   "metadata": {
    "scrolled": true
   },
   "outputs": [
    {
     "data": {
      "text/plain": [
       "array(['Completed', 'Current', 'Past Due (1-15 days)', 'Defaulted',\n",
       "       'Chargedoff', 'Past Due (16-30 days)', 'Cancelled',\n",
       "       'Past Due (61-90 days)', 'Past Due (31-60 days)',\n",
       "       'Past Due (91-120 days)', 'FinalPaymentInProgress',\n",
       "       'Past Due (>120 days)'], dtype=object)"
      ]
     },
     "execution_count": 10,
     "metadata": {},
     "output_type": "execute_result"
    }
   ],
   "source": [
    "#check for the unique values in the LoanStatus column\n",
    "prosper_loans.LoanStatus.unique()\n"
   ]
  },
  {
   "cell_type": "code",
   "execution_count": 11,
   "metadata": {},
   "outputs": [
    {
     "data": {
      "text/plain": [
       "Current                   56576\n",
       "Completed                 38074\n",
       "Chargedoff                11992\n",
       "Defaulted                  5018\n",
       "Past Due (1-15 days)        806\n",
       "Past Due (31-60 days)       363\n",
       "Past Due (61-90 days)       313\n",
       "Past Due (91-120 days)      304\n",
       "Past Due (16-30 days)       265\n",
       "FinalPaymentInProgress      205\n",
       "Past Due (>120 days)         16\n",
       "Cancelled                     5\n",
       "Name: LoanStatus, dtype: int64"
      ]
     },
     "execution_count": 11,
     "metadata": {},
     "output_type": "execute_result"
    }
   ],
   "source": [
    "#check values count for loan status variable \n",
    "prosper_loans.LoanStatus.value_counts()\n"
   ]
  },
  {
   "cell_type": "code",
   "execution_count": 12,
   "metadata": {
    "scrolled": true
   },
   "outputs": [
    {
     "data": {
      "text/plain": [
       "array(['Self-employed', 'Employed', 'Not available', 'Full-time', 'Other',\n",
       "       nan, 'Not employed', 'Part-time', 'Retired'], dtype=object)"
      ]
     },
     "execution_count": 12,
     "metadata": {},
     "output_type": "execute_result"
    }
   ],
   "source": [
    "#check for the unique values in the EmploymentStatus column\n",
    "prosper_loans.EmploymentStatus.unique()\n"
   ]
  },
  {
   "cell_type": "code",
   "execution_count": 13,
   "metadata": {},
   "outputs": [
    {
     "data": {
      "text/plain": [
       "Term                            0\n",
       "LoanStatus                      0\n",
       "BorrowerAPR                    25\n",
       "BorrowerRate                    0\n",
       "ListingCategory (numeric)       0\n",
       "BorrowerState                5515\n",
       "Occupation                   3588\n",
       "EmploymentStatus             2255\n",
       "IsBorrowerHomeowner             0\n",
       "IncomeRange                     0\n",
       "LoanOriginalAmount              0\n",
       "dtype: int64"
      ]
     },
     "execution_count": 13,
     "metadata": {},
     "output_type": "execute_result"
    }
   ],
   "source": [
    "#check for number of null values in each column\n",
    "prosper_loans.isnull().sum() \n"
   ]
  },
  {
   "cell_type": "code",
   "execution_count": 14,
   "metadata": {},
   "outputs": [
    {
     "data": {
      "text/plain": [
       "array(['$25,000-49,999', '$50,000-74,999', 'Not displayed', '$100,000+',\n",
       "       '$75,000-99,999', '$1-24,999', 'Not employed', '$0'], dtype=object)"
      ]
     },
     "execution_count": 14,
     "metadata": {},
     "output_type": "execute_result"
    }
   ],
   "source": [
    "#check for the unique values in the IncomeRange column\n",
    "prosper_loans.IncomeRange.unique()\n"
   ]
  },
  {
   "cell_type": "code",
   "execution_count": 15,
   "metadata": {},
   "outputs": [
    {
     "data": {
      "text/plain": [
       "array(['Full-time', 'Self-employed', 'Retired', 'Employed', 'Part-time',\n",
       "       'Not employed'], dtype=object)"
      ]
     },
     "execution_count": 15,
     "metadata": {},
     "output_type": "execute_result"
    }
   ],
   "source": [
    "#check employment status of people with $0 income range values\n",
    "prosper_loans[prosper_loans[\"IncomeRange\"] == \"$0\"][\"EmploymentStatus\"].unique()\n"
   ]
  },
  {
   "cell_type": "code",
   "execution_count": 16,
   "metadata": {},
   "outputs": [
    {
     "data": {
      "text/plain": [
       "array([ 0,  2, 16,  1,  7, 13,  6, 15, 20, 19,  3, 18,  8,  4, 11, 14,  5,\n",
       "        9, 17, 10, 12])"
      ]
     },
     "execution_count": 16,
     "metadata": {},
     "output_type": "execute_result"
    }
   ],
   "source": [
    "#obtain unique values for ListingCategory \n",
    "prosper_loans[\"ListingCategory (numeric)\"].unique()"
   ]
  },
  {
   "cell_type": "code",
   "execution_count": 17,
   "metadata": {},
   "outputs": [
    {
     "data": {
      "text/plain": [
       "17       52\n",
       "12       59\n",
       "9        85\n",
       "10       91\n",
       "8       199\n",
       "11      217\n",
       "16      304\n",
       "5       756\n",
       "19      768\n",
       "20      771\n",
       "14      876\n",
       "18      885\n",
       "15     1522\n",
       "13     1996\n",
       "4      2395\n",
       "6      2572\n",
       "3      7189\n",
       "2      7433\n",
       "7     10494\n",
       "0     16965\n",
       "1     58308\n",
       "Name: ListingCategory (numeric), dtype: int64"
      ]
     },
     "execution_count": 17,
     "metadata": {},
     "output_type": "execute_result"
    }
   ],
   "source": [
    "#obtain value counts of each unique value in ListingCategory (numeric) columm \n",
    "prosper_loans[\"ListingCategory (numeric)\"].value_counts().sort_values()\n"
   ]
  },
  {
   "cell_type": "markdown",
   "metadata": {},
   "source": [
    "#### Issues Noticed <br>\n",
    "\n",
    "- Too many variations of \"Past Due\" values in __LoanStatus__ column \n",
    "- Listing category in numbers \n",
    "- __ListingCategory (numeric)__ column name\n",
    "- \"Not Available\" values in __EmploymentStatus__ column \n",
    "- __IncomeRange__ values of \"Not Displayed\"\n",
    "- \"Not employed\" __IncomeRange__ values \n",
    "- Rows with \\\\$0 income range for borrowers with a job (that is borrowers with full-time or part-time or employed or self-employed employment status)  \n",
    "- Rows with \"Current\" loan status (__LoanStatus__) \n",
    "- Rows with \"Other\" value in __EmploymentStatus__ column\n",
    "- Job status column needed \n",
    "- __Term__ column name\n",
    "- A column depicting term in words needed\n",
    "- __TermMonths__, __Term__ and __IncomeRange__ datatypes\n",
    "- Null rows\n"
   ]
  },
  {
   "cell_type": "markdown",
   "metadata": {},
   "source": [
    "#### Clean data"
   ]
  },
  {
   "cell_type": "code",
   "execution_count": 18,
   "metadata": {},
   "outputs": [],
   "source": [
    "#make copy of dataset to clean \n",
    "loans_clean = prosper_loans.copy()"
   ]
  },
  {
   "cell_type": "markdown",
   "metadata": {},
   "source": [
    "First, the duplicate rows noticed in the assessment phase will be dropped."
   ]
  },
  {
   "cell_type": "code",
   "execution_count": 19,
   "metadata": {},
   "outputs": [],
   "source": [
    "#drop duplicated rows \n",
    "loans_clean.drop_duplicates(inplace = True)"
   ]
  },
  {
   "cell_type": "markdown",
   "metadata": {},
   "source": [
    "During the assessment of the __LoanStatus__ column, various variations of \"Past Due\" values were noticed. This is as the \"Past Due\" values were recorded with a range of the number of days for which the loan was past due in parentheses.\n",
    "\n",
    "Below, each of these variations will be modified into simply \"Past Due\"."
   ]
  },
  {
   "cell_type": "code",
   "execution_count": 20,
   "metadata": {},
   "outputs": [],
   "source": [
    "def rename_pastdue(x): \n",
    "    \"\"\"The function renames every variation of \"Past Due\" values \n",
    "    to just \"Past Due\"\"\"\n",
    "    \n",
    "    if \"Past Due\" in x: \n",
    "        return \"Past Due\" \n",
    "    else: \n",
    "        return x"
   ]
  },
  {
   "cell_type": "code",
   "execution_count": 21,
   "metadata": {},
   "outputs": [
    {
     "data": {
      "text/plain": [
       "array(['Completed', 'Current', 'Past Due', 'Defaulted', 'Chargedoff',\n",
       "       'Cancelled', 'FinalPaymentInProgress'], dtype=object)"
      ]
     },
     "execution_count": 21,
     "metadata": {},
     "output_type": "execute_result"
    }
   ],
   "source": [
    "#apply rename_pastdue on LoanStatus column \n",
    "loans_clean[\"LoanStatus\"] = loans_clean[\"LoanStatus\"].apply(rename_pastdue)\n",
    "\n",
    "#confirm \n",
    "loans_clean.LoanStatus.unique()\n"
   ]
  },
  {
   "cell_type": "markdown",
   "metadata": {},
   "source": [
    "Below, __ListingCategory (numeric)__ values will be converted to their various meanings in words and the column will be renamed.\n",
    "\n",
    "#### Note\n",
    "\n",
    "Each number in the __ListingCategory (numeric)__ column and its meaning:\n",
    "\n",
    "0 - Not Available, 1 - Debt Consolidation, 2 - Home \n",
    "Improvement, 3 - Business, 4 - Personal Loan, 5 - Student Use, 6 - Auto, 7 - Other, 8 - Baby&Adoption, 9 - Boat, 10 - Cosmetic \n",
    "Procedure, 11 - Engagement Ring, 12 - Green Loans, 13 - Household Expenses, 14 - Large Purchases, 15 - Medical/Dental, 16 - \n",
    "Motorcycle, 17 - RV, 18 - Taxes, 19 - Vacation, 20 - Wedding Loans"
   ]
  },
  {
   "cell_type": "code",
   "execution_count": 22,
   "metadata": {},
   "outputs": [
    {
     "data": {
      "text/plain": [
       "17       52\n",
       "12       58\n",
       "9        85\n",
       "10       91\n",
       "8       196\n",
       "11      214\n",
       "16      304\n",
       "5       756\n",
       "20      762\n",
       "19      764\n",
       "14      863\n",
       "18      882\n",
       "15     1507\n",
       "13     1984\n",
       "4      2393\n",
       "6      2568\n",
       "3      7145\n",
       "2      7379\n",
       "7     10427\n",
       "0     16518\n",
       "1     57247\n",
       "Name: ListingCategory (numeric), dtype: int64"
      ]
     },
     "execution_count": 22,
     "metadata": {},
     "output_type": "execute_result"
    }
   ],
   "source": [
    "#obtain value counts of each unique value in ListingCategory (numeric) columm \n",
    "loans_clean[\"ListingCategory (numeric)\"].value_counts().sort_values()\n"
   ]
  },
  {
   "cell_type": "code",
   "execution_count": 23,
   "metadata": {},
   "outputs": [],
   "source": [
    "def list_category(x): \n",
    "    \"\"\"This function changes each numeric value in the \"ListingCategory (numeric)\" column \n",
    "    to its appropriate word meaning\"\"\"\n",
    "    \n",
    "    cat_listing = {0 : \"Not Available\", 1 : \"Debt Consolidation\", 2 : \"Home Improvement\", \n",
    "                   3 : \"Business\", 4 : \"Personal Loan\", 5 : \"Student Use\", 6 : \"Auto\", \n",
    "                   7 : \"Other\", 8 : \"Baby & Adoption\", 9 : \"Boat\", 10 : \"Cosmetic Procedure\", \n",
    "                   11 : \"Engagement Ring\", 12 : \"Green Loans\", 13 : \"Household Expenses\", \n",
    "                   14 : \"Large Purchases\", 15 : \"Medical/Dental\", 16 : \"Motorcycle\", 17 : \"RV\", \n",
    "                   18 : \"Taxes\", 19 : \"Vacation\", 20 : \"Wedding Loans\"}\n",
    "    for key, value in cat_listing.items(): \n",
    "        if x == key: \n",
    "            return cat_listing[key]\n",
    "        "
   ]
  },
  {
   "cell_type": "code",
   "execution_count": 24,
   "metadata": {
    "scrolled": true
   },
   "outputs": [
    {
     "data": {
      "text/plain": [
       "RV                       52\n",
       "Green Loans              58\n",
       "Boat                     85\n",
       "Cosmetic Procedure       91\n",
       "Baby & Adoption         196\n",
       "Engagement Ring         214\n",
       "Motorcycle              304\n",
       "Student Use             756\n",
       "Wedding Loans           762\n",
       "Vacation                764\n",
       "Large Purchases         863\n",
       "Taxes                   882\n",
       "Medical/Dental         1507\n",
       "Household Expenses     1984\n",
       "Personal Loan          2393\n",
       "Auto                   2568\n",
       "Business               7145\n",
       "Home Improvement       7379\n",
       "Other                 10427\n",
       "Not Available         16518\n",
       "Debt Consolidation    57247\n",
       "Name: ListingCategory (numeric), dtype: int64"
      ]
     },
     "execution_count": 24,
     "metadata": {},
     "output_type": "execute_result"
    }
   ],
   "source": [
    "#apply function \n",
    "loans_clean[\"ListingCategory (numeric)\"] = loans_clean[\"ListingCategory (numeric)\"].apply(list_category)\n",
    "\n",
    "#check \n",
    "loans_clean[\"ListingCategory (numeric)\"].value_counts().sort_values()\n"
   ]
  },
  {
   "cell_type": "code",
   "execution_count": 25,
   "metadata": {},
   "outputs": [
    {
     "data": {
      "text/html": [
       "<div>\n",
       "<style scoped>\n",
       "    .dataframe tbody tr th:only-of-type {\n",
       "        vertical-align: middle;\n",
       "    }\n",
       "\n",
       "    .dataframe tbody tr th {\n",
       "        vertical-align: top;\n",
       "    }\n",
       "\n",
       "    .dataframe thead th {\n",
       "        text-align: right;\n",
       "    }\n",
       "</style>\n",
       "<table border=\"1\" class=\"dataframe\">\n",
       "  <thead>\n",
       "    <tr style=\"text-align: right;\">\n",
       "      <th></th>\n",
       "      <th>Term</th>\n",
       "      <th>LoanStatus</th>\n",
       "      <th>BorrowerAPR</th>\n",
       "      <th>BorrowerRate</th>\n",
       "      <th>ListingCategory</th>\n",
       "      <th>BorrowerState</th>\n",
       "      <th>Occupation</th>\n",
       "      <th>EmploymentStatus</th>\n",
       "      <th>IsBorrowerHomeowner</th>\n",
       "      <th>IncomeRange</th>\n",
       "      <th>LoanOriginalAmount</th>\n",
       "    </tr>\n",
       "  </thead>\n",
       "  <tbody>\n",
       "    <tr>\n",
       "      <th>0</th>\n",
       "      <td>36</td>\n",
       "      <td>Completed</td>\n",
       "      <td>0.16516</td>\n",
       "      <td>0.158</td>\n",
       "      <td>Not Available</td>\n",
       "      <td>CO</td>\n",
       "      <td>Other</td>\n",
       "      <td>Self-employed</td>\n",
       "      <td>True</td>\n",
       "      <td>$25,000-49,999</td>\n",
       "      <td>9425</td>\n",
       "    </tr>\n",
       "  </tbody>\n",
       "</table>\n",
       "</div>"
      ],
      "text/plain": [
       "   Term LoanStatus  BorrowerAPR  BorrowerRate ListingCategory BorrowerState  \\\n",
       "0    36  Completed      0.16516         0.158   Not Available            CO   \n",
       "\n",
       "  Occupation EmploymentStatus  IsBorrowerHomeowner     IncomeRange  \\\n",
       "0      Other    Self-employed                 True  $25,000-49,999   \n",
       "\n",
       "   LoanOriginalAmount  \n",
       "0                9425  "
      ]
     },
     "execution_count": 25,
     "metadata": {},
     "output_type": "execute_result"
    }
   ],
   "source": [
    "#Rename the \"ListingCategory (numeric)\" column \n",
    "loans_clean.rename(columns = {\"ListingCategory (numeric)\" : \"ListingCategory\"}, inplace = True)\n",
    "\n",
    "#confirm \n",
    "loans_clean.head(1)\n"
   ]
  },
  {
   "cell_type": "markdown",
   "metadata": {},
   "source": [
    "For some columns (e.g __EmploymentStatus__, __ListingCategory__ and __IncomeRange__), values such as \"Not Available\", \"Not available\" or \"Not Displayed\" are given. First, a function will be created to capitalize only the first letters of each word in a string and applied to __EmploymentStatus__ and __IncomeRange__ columns. Afterwards, another function would be created to convert the above-listed values to null values, and the function would be applied to the data frame."
   ]
  },
  {
   "cell_type": "code",
   "execution_count": 26,
   "metadata": {},
   "outputs": [],
   "source": [
    "def make_title(x): \n",
    "    \"\"\"This function capitalizes the first letter of each\n",
    "    word in a string\"\"\"\n",
    "    if type(x) == str: \n",
    "        return x.title() \n",
    "    else: \n",
    "        return x"
   ]
  },
  {
   "cell_type": "code",
   "execution_count": 27,
   "metadata": {},
   "outputs": [
    {
     "name": "stdout",
     "output_type": "stream",
     "text": [
      "['Self-Employed' 'Employed' 'Not Available' 'Full-Time' 'Other' nan\n",
      " 'Not Employed' 'Part-Time' 'Retired']\n"
     ]
    },
    {
     "data": {
      "text/plain": [
       "array(['$25,000-49,999', '$50,000-74,999', 'Not Displayed', '$100,000+',\n",
       "       '$75,000-99,999', '$1-24,999', 'Not Employed', '$0'], dtype=object)"
      ]
     },
     "execution_count": 27,
     "metadata": {},
     "output_type": "execute_result"
    }
   ],
   "source": [
    "#apply function on dataframe \n",
    "loans_clean[\"EmploymentStatus\"] = loans_clean[\"EmploymentStatus\"].apply(make_title) \n",
    "loans_clean[\"IncomeRange\"] = loans_clean[\"IncomeRange\"].apply(make_title)\n",
    "\n",
    "#view random rows \n",
    "print(loans_clean.EmploymentStatus.unique()) \n",
    "loans_clean.IncomeRange.unique()\n"
   ]
  },
  {
   "cell_type": "code",
   "execution_count": 28,
   "metadata": {},
   "outputs": [],
   "source": [
    "def change_to_null(x): \n",
    "    \"\"\"The function changes \"Not Available\" and \"Not \n",
    "    Displayed\" values in a column to null values\"\"\"\n",
    "    \n",
    "    if x == \"Not Available\" or x == \"Not Displayed\":\n",
    "        return np.nan\n",
    "    else:\n",
    "        return x"
   ]
  },
  {
   "cell_type": "code",
   "execution_count": 29,
   "metadata": {
    "scrolled": false
   },
   "outputs": [
    {
     "data": {
      "text/html": [
       "<div>\n",
       "<style scoped>\n",
       "    .dataframe tbody tr th:only-of-type {\n",
       "        vertical-align: middle;\n",
       "    }\n",
       "\n",
       "    .dataframe tbody tr th {\n",
       "        vertical-align: top;\n",
       "    }\n",
       "\n",
       "    .dataframe thead th {\n",
       "        text-align: right;\n",
       "    }\n",
       "</style>\n",
       "<table border=\"1\" class=\"dataframe\">\n",
       "  <thead>\n",
       "    <tr style=\"text-align: right;\">\n",
       "      <th></th>\n",
       "      <th>Term</th>\n",
       "      <th>LoanStatus</th>\n",
       "      <th>BorrowerAPR</th>\n",
       "      <th>BorrowerRate</th>\n",
       "      <th>ListingCategory</th>\n",
       "      <th>BorrowerState</th>\n",
       "      <th>Occupation</th>\n",
       "      <th>EmploymentStatus</th>\n",
       "      <th>IsBorrowerHomeowner</th>\n",
       "      <th>IncomeRange</th>\n",
       "      <th>LoanOriginalAmount</th>\n",
       "    </tr>\n",
       "  </thead>\n",
       "  <tbody>\n",
       "  </tbody>\n",
       "</table>\n",
       "</div>"
      ],
      "text/plain": [
       "Empty DataFrame\n",
       "Columns: [Term, LoanStatus, BorrowerAPR, BorrowerRate, ListingCategory, BorrowerState, Occupation, EmploymentStatus, IsBorrowerHomeowner, IncomeRange, LoanOriginalAmount]\n",
       "Index: []"
      ]
     },
     "execution_count": 29,
     "metadata": {},
     "output_type": "execute_result"
    }
   ],
   "source": [
    "#apply on dataframe \n",
    "loans_clean = loans_clean.applymap(change_to_null)\n",
    "\n",
    "#confirm \n",
    "loans_clean.query('EmploymentStatus == \"Not Available\" or IncomeRange == \"Not Displayed\" or ListingCategory == \"Not Available\"') \n",
    "                  \n"
   ]
  },
  {
   "cell_type": "markdown",
   "metadata": {},
   "source": [
    "During the assessment, it was noted that some rows having \\\\$0 income range also belonged to borrowers with jobs. That is borrowers with full-time, self-employed, employed, and part-time employment statuses. \n",
    "\n",
    "The \\\\$0 income range record for those borrowers may have been an error. Therefore, rows with such entries (rows having \\\\$0 __IncomeRange__ value and full-time or self-employed or employed or part-time __EmploymentStatus__) will be removed. "
   ]
  },
  {
   "cell_type": "code",
   "execution_count": 30,
   "metadata": {},
   "outputs": [],
   "source": [
    "#select out rows with zero dollars income range\n",
    "zero_dollars_df = loans_clean.query('IncomeRange == \"$0\"')  \n",
    "\n",
    "#filter out rows that belong to people with jobs \n",
    "zero_with_job = zero_dollars_df.query('EmploymentStatus == \"Full-Time\" or EmploymentStatus == \"Self-Employed\" or EmploymentStatus == \"Employed\" or EmploymentStatus == \"Part-Time\"')\n"
   ]
  },
  {
   "cell_type": "code",
   "execution_count": 31,
   "metadata": {},
   "outputs": [],
   "source": [
    "#drop rows in zero_with_job \n",
    "loans_clean.drop(zero_with_job.index, inplace = True) "
   ]
  },
  {
   "cell_type": "code",
   "execution_count": 32,
   "metadata": {},
   "outputs": [
    {
     "data": {
      "text/html": [
       "<div>\n",
       "<style scoped>\n",
       "    .dataframe tbody tr th:only-of-type {\n",
       "        vertical-align: middle;\n",
       "    }\n",
       "\n",
       "    .dataframe tbody tr th {\n",
       "        vertical-align: top;\n",
       "    }\n",
       "\n",
       "    .dataframe thead th {\n",
       "        text-align: right;\n",
       "    }\n",
       "</style>\n",
       "<table border=\"1\" class=\"dataframe\">\n",
       "  <thead>\n",
       "    <tr style=\"text-align: right;\">\n",
       "      <th></th>\n",
       "      <th>Term</th>\n",
       "      <th>LoanStatus</th>\n",
       "      <th>BorrowerAPR</th>\n",
       "      <th>BorrowerRate</th>\n",
       "      <th>ListingCategory</th>\n",
       "      <th>BorrowerState</th>\n",
       "      <th>Occupation</th>\n",
       "      <th>EmploymentStatus</th>\n",
       "      <th>IsBorrowerHomeowner</th>\n",
       "      <th>IncomeRange</th>\n",
       "      <th>LoanOriginalAmount</th>\n",
       "    </tr>\n",
       "  </thead>\n",
       "  <tbody>\n",
       "  </tbody>\n",
       "</table>\n",
       "</div>"
      ],
      "text/plain": [
       "Empty DataFrame\n",
       "Columns: [Term, LoanStatus, BorrowerAPR, BorrowerRate, ListingCategory, BorrowerState, Occupation, EmploymentStatus, IsBorrowerHomeowner, IncomeRange, LoanOriginalAmount]\n",
       "Index: []"
      ]
     },
     "execution_count": 32,
     "metadata": {},
     "output_type": "execute_result"
    }
   ],
   "source": [
    "#confirm for \"Full-Time\" EmploymentStatus\n",
    "loans_clean.query('IncomeRange == \"$0\" & EmploymentStatus == \"Full-Time\"')\n"
   ]
  },
  {
   "cell_type": "code",
   "execution_count": 33,
   "metadata": {},
   "outputs": [
    {
     "data": {
      "text/html": [
       "<div>\n",
       "<style scoped>\n",
       "    .dataframe tbody tr th:only-of-type {\n",
       "        vertical-align: middle;\n",
       "    }\n",
       "\n",
       "    .dataframe tbody tr th {\n",
       "        vertical-align: top;\n",
       "    }\n",
       "\n",
       "    .dataframe thead th {\n",
       "        text-align: right;\n",
       "    }\n",
       "</style>\n",
       "<table border=\"1\" class=\"dataframe\">\n",
       "  <thead>\n",
       "    <tr style=\"text-align: right;\">\n",
       "      <th></th>\n",
       "      <th>Term</th>\n",
       "      <th>LoanStatus</th>\n",
       "      <th>BorrowerAPR</th>\n",
       "      <th>BorrowerRate</th>\n",
       "      <th>ListingCategory</th>\n",
       "      <th>BorrowerState</th>\n",
       "      <th>Occupation</th>\n",
       "      <th>EmploymentStatus</th>\n",
       "      <th>IsBorrowerHomeowner</th>\n",
       "      <th>IncomeRange</th>\n",
       "      <th>LoanOriginalAmount</th>\n",
       "    </tr>\n",
       "  </thead>\n",
       "  <tbody>\n",
       "  </tbody>\n",
       "</table>\n",
       "</div>"
      ],
      "text/plain": [
       "Empty DataFrame\n",
       "Columns: [Term, LoanStatus, BorrowerAPR, BorrowerRate, ListingCategory, BorrowerState, Occupation, EmploymentStatus, IsBorrowerHomeowner, IncomeRange, LoanOriginalAmount]\n",
       "Index: []"
      ]
     },
     "execution_count": 33,
     "metadata": {},
     "output_type": "execute_result"
    }
   ],
   "source": [
    "#confirm for \"Self-Employed\" EmploymentStatus\n",
    "loans_clean.query('IncomeRange == \"$0\" & EmploymentStatus == \"Self-Employed\"')\n"
   ]
  },
  {
   "cell_type": "code",
   "execution_count": 34,
   "metadata": {},
   "outputs": [
    {
     "data": {
      "text/html": [
       "<div>\n",
       "<style scoped>\n",
       "    .dataframe tbody tr th:only-of-type {\n",
       "        vertical-align: middle;\n",
       "    }\n",
       "\n",
       "    .dataframe tbody tr th {\n",
       "        vertical-align: top;\n",
       "    }\n",
       "\n",
       "    .dataframe thead th {\n",
       "        text-align: right;\n",
       "    }\n",
       "</style>\n",
       "<table border=\"1\" class=\"dataframe\">\n",
       "  <thead>\n",
       "    <tr style=\"text-align: right;\">\n",
       "      <th></th>\n",
       "      <th>Term</th>\n",
       "      <th>LoanStatus</th>\n",
       "      <th>BorrowerAPR</th>\n",
       "      <th>BorrowerRate</th>\n",
       "      <th>ListingCategory</th>\n",
       "      <th>BorrowerState</th>\n",
       "      <th>Occupation</th>\n",
       "      <th>EmploymentStatus</th>\n",
       "      <th>IsBorrowerHomeowner</th>\n",
       "      <th>IncomeRange</th>\n",
       "      <th>LoanOriginalAmount</th>\n",
       "    </tr>\n",
       "  </thead>\n",
       "  <tbody>\n",
       "  </tbody>\n",
       "</table>\n",
       "</div>"
      ],
      "text/plain": [
       "Empty DataFrame\n",
       "Columns: [Term, LoanStatus, BorrowerAPR, BorrowerRate, ListingCategory, BorrowerState, Occupation, EmploymentStatus, IsBorrowerHomeowner, IncomeRange, LoanOriginalAmount]\n",
       "Index: []"
      ]
     },
     "execution_count": 34,
     "metadata": {},
     "output_type": "execute_result"
    }
   ],
   "source": [
    "#confirm for \"Employed\" EmploymentStatus\n",
    "loans_clean.query('IncomeRange == \"$0\" & EmploymentStatus == \"Employed\"')\n"
   ]
  },
  {
   "cell_type": "code",
   "execution_count": 35,
   "metadata": {
    "scrolled": false
   },
   "outputs": [
    {
     "data": {
      "text/html": [
       "<div>\n",
       "<style scoped>\n",
       "    .dataframe tbody tr th:only-of-type {\n",
       "        vertical-align: middle;\n",
       "    }\n",
       "\n",
       "    .dataframe tbody tr th {\n",
       "        vertical-align: top;\n",
       "    }\n",
       "\n",
       "    .dataframe thead th {\n",
       "        text-align: right;\n",
       "    }\n",
       "</style>\n",
       "<table border=\"1\" class=\"dataframe\">\n",
       "  <thead>\n",
       "    <tr style=\"text-align: right;\">\n",
       "      <th></th>\n",
       "      <th>Term</th>\n",
       "      <th>LoanStatus</th>\n",
       "      <th>BorrowerAPR</th>\n",
       "      <th>BorrowerRate</th>\n",
       "      <th>ListingCategory</th>\n",
       "      <th>BorrowerState</th>\n",
       "      <th>Occupation</th>\n",
       "      <th>EmploymentStatus</th>\n",
       "      <th>IsBorrowerHomeowner</th>\n",
       "      <th>IncomeRange</th>\n",
       "      <th>LoanOriginalAmount</th>\n",
       "    </tr>\n",
       "  </thead>\n",
       "  <tbody>\n",
       "  </tbody>\n",
       "</table>\n",
       "</div>"
      ],
      "text/plain": [
       "Empty DataFrame\n",
       "Columns: [Term, LoanStatus, BorrowerAPR, BorrowerRate, ListingCategory, BorrowerState, Occupation, EmploymentStatus, IsBorrowerHomeowner, IncomeRange, LoanOriginalAmount]\n",
       "Index: []"
      ]
     },
     "execution_count": 35,
     "metadata": {},
     "output_type": "execute_result"
    }
   ],
   "source": [
    "#confirm for \"Part-Time\" EmploymentStatus\n",
    "loans_clean.query('IncomeRange == \"$0\" & EmploymentStatus == \"Part-Time\"')\n"
   ]
  },
  {
   "cell_type": "markdown",
   "metadata": {},
   "source": [
    "As seen during assessment, some rows have \"Not Employed\" values in the __IncomeRange__ column, which means the borrowers to whom those row records belong have no job. Therefore, those \"Not Employed\" values will be replaced with \"\\\\$0\" values."
   ]
  },
  {
   "cell_type": "code",
   "execution_count": 36,
   "metadata": {},
   "outputs": [],
   "source": [
    "def zero_dollar(x): \n",
    "    \"\"\"This function replaces every \"Not Employed\"\n",
    "    value with a \"$0\" value\"\"\"\n",
    "    if x == \"Not Employed\": \n",
    "        return \"$0\"\n",
    "    else: \n",
    "        return x \n",
    "    "
   ]
  },
  {
   "cell_type": "code",
   "execution_count": 37,
   "metadata": {
    "scrolled": true
   },
   "outputs": [
    {
     "data": {
      "text/plain": [
       "array(['$25,000-49,999', '$50,000-74,999', nan, '$100,000+',\n",
       "       '$75,000-99,999', '$1-24,999', '$0'], dtype=object)"
      ]
     },
     "execution_count": 37,
     "metadata": {},
     "output_type": "execute_result"
    }
   ],
   "source": [
    "#apply the zero_dollar function on IncomeRange column \n",
    "loans_clean[\"IncomeRange\"] = loans_clean[\"IncomeRange\"].apply(zero_dollar) \n",
    "\n",
    "#confirm \n",
    "loans_clean.IncomeRange.unique()\n"
   ]
  },
  {
   "cell_type": "markdown",
   "metadata": {},
   "source": [
    "For this analysis, current loan entries will not be needed. Therefore, rows with \"Current\" values in the __LoanStatus__ column will be dropped."
   ]
  },
  {
   "cell_type": "code",
   "execution_count": 38,
   "metadata": {
    "scrolled": false
   },
   "outputs": [
    {
     "data": {
      "text/html": [
       "<div>\n",
       "<style scoped>\n",
       "    .dataframe tbody tr th:only-of-type {\n",
       "        vertical-align: middle;\n",
       "    }\n",
       "\n",
       "    .dataframe tbody tr th {\n",
       "        vertical-align: top;\n",
       "    }\n",
       "\n",
       "    .dataframe thead th {\n",
       "        text-align: right;\n",
       "    }\n",
       "</style>\n",
       "<table border=\"1\" class=\"dataframe\">\n",
       "  <thead>\n",
       "    <tr style=\"text-align: right;\">\n",
       "      <th></th>\n",
       "      <th>Term</th>\n",
       "      <th>LoanStatus</th>\n",
       "      <th>BorrowerAPR</th>\n",
       "      <th>BorrowerRate</th>\n",
       "      <th>ListingCategory</th>\n",
       "      <th>BorrowerState</th>\n",
       "      <th>Occupation</th>\n",
       "      <th>EmploymentStatus</th>\n",
       "      <th>IsBorrowerHomeowner</th>\n",
       "      <th>IncomeRange</th>\n",
       "      <th>LoanOriginalAmount</th>\n",
       "    </tr>\n",
       "  </thead>\n",
       "  <tbody>\n",
       "  </tbody>\n",
       "</table>\n",
       "</div>"
      ],
      "text/plain": [
       "Empty DataFrame\n",
       "Columns: [Term, LoanStatus, BorrowerAPR, BorrowerRate, ListingCategory, BorrowerState, Occupation, EmploymentStatus, IsBorrowerHomeowner, IncomeRange, LoanOriginalAmount]\n",
       "Index: []"
      ]
     },
     "execution_count": 38,
     "metadata": {},
     "output_type": "execute_result"
    }
   ],
   "source": [
    "#filter out rows with \"Current\" loan status \n",
    "current_loans = loans_clean.query('LoanStatus == \"Current\"') \n",
    "\n",
    "#drop rows with \"Current\" loan status \n",
    "loans_clean.drop(current_loans.index, inplace = True) \n",
    "\n",
    "#confirm \n",
    "loans_clean.query('LoanStatus == \"Current\"') \n"
   ]
  },
  {
   "cell_type": "markdown",
   "metadata": {},
   "source": [
    "Below, rows for which the value in __EmploymentStatus__ are \"Other\" will be dropped as they have no clear interpretation and will not be useful in this analysis."
   ]
  },
  {
   "cell_type": "code",
   "execution_count": 39,
   "metadata": {},
   "outputs": [
    {
     "data": {
      "text/html": [
       "<div>\n",
       "<style scoped>\n",
       "    .dataframe tbody tr th:only-of-type {\n",
       "        vertical-align: middle;\n",
       "    }\n",
       "\n",
       "    .dataframe tbody tr th {\n",
       "        vertical-align: top;\n",
       "    }\n",
       "\n",
       "    .dataframe thead th {\n",
       "        text-align: right;\n",
       "    }\n",
       "</style>\n",
       "<table border=\"1\" class=\"dataframe\">\n",
       "  <thead>\n",
       "    <tr style=\"text-align: right;\">\n",
       "      <th></th>\n",
       "      <th>Term</th>\n",
       "      <th>LoanStatus</th>\n",
       "      <th>BorrowerAPR</th>\n",
       "      <th>BorrowerRate</th>\n",
       "      <th>ListingCategory</th>\n",
       "      <th>BorrowerState</th>\n",
       "      <th>Occupation</th>\n",
       "      <th>EmploymentStatus</th>\n",
       "      <th>IsBorrowerHomeowner</th>\n",
       "      <th>IncomeRange</th>\n",
       "      <th>LoanOriginalAmount</th>\n",
       "    </tr>\n",
       "  </thead>\n",
       "  <tbody>\n",
       "  </tbody>\n",
       "</table>\n",
       "</div>"
      ],
      "text/plain": [
       "Empty DataFrame\n",
       "Columns: [Term, LoanStatus, BorrowerAPR, BorrowerRate, ListingCategory, BorrowerState, Occupation, EmploymentStatus, IsBorrowerHomeowner, IncomeRange, LoanOriginalAmount]\n",
       "Index: []"
      ]
     },
     "execution_count": 39,
     "metadata": {},
     "output_type": "execute_result"
    }
   ],
   "source": [
    "#select out rows with \"Other\" value in employment status column \n",
    "other_status = loans_clean[loans_clean[\"EmploymentStatus\"] == \"Other\"] \n",
    "\n",
    "#drop the rows \n",
    "loans_clean.drop(other_status.index, inplace = True) \n",
    "\n",
    "#confirm \n",
    "loans_clean[loans_clean[\"EmploymentStatus\"] == \"Other\"] \n"
   ]
  },
  {
   "cell_type": "markdown",
   "metadata": {},
   "source": [
    "The __EmploymentStatus__ variable has 6 unique values: \"Full-Time\", \"Part-Time\", \"Self-Employed\", \"Employed\", \"Not Employed\", and \"Retired\".\n",
    "\n",
    "Of the 6 unique variables, 4 (\"Full-Time\", \"Part-Time\", \"Self-Employed\", and \"Employed\") represent borrowers who work or have a job, and only 2 (\"Not Employed\" and \"Retired\") represent borrowers without jobs. \n",
    "\n",
    "Below, a new column will be created for job status with values stating if a borrower is working or not."
   ]
  },
  {
   "cell_type": "code",
   "execution_count": 40,
   "metadata": {},
   "outputs": [],
   "source": [
    "def job_status(col_name): \n",
    "    \"\"\"This function returns a list containing values \n",
    "    of \"Working\" or \"Not Working\" for a borrower's job \n",
    "    status\"\"\"\n",
    "    status_list = [] \n",
    "    for x in col_name: \n",
    "        if x == \"Not Employed\" or x == \"Retired\":\n",
    "            status_list.append(\"Not Working\") \n",
    "        \n",
    "        else:\n",
    "            status_list.append(\"Working\") \n",
    "    return status_list \n",
    "\n"
   ]
  },
  {
   "cell_type": "code",
   "execution_count": 41,
   "metadata": {},
   "outputs": [],
   "source": [
    "#apply the function to the EmploymentStatus column \n",
    "#and assign the list returned to a new variable \n",
    "job_status_list = job_status(loans_clean.EmploymentStatus) \n",
    "\n",
    "\n",
    "#create new column for job status in clean loans dataframe\n",
    "loans_clean[\"JobStatus\"] = job_status_list\n"
   ]
  },
  {
   "cell_type": "code",
   "execution_count": 42,
   "metadata": {},
   "outputs": [
    {
     "data": {
      "text/html": [
       "<div>\n",
       "<style scoped>\n",
       "    .dataframe tbody tr th:only-of-type {\n",
       "        vertical-align: middle;\n",
       "    }\n",
       "\n",
       "    .dataframe tbody tr th {\n",
       "        vertical-align: top;\n",
       "    }\n",
       "\n",
       "    .dataframe thead th {\n",
       "        text-align: right;\n",
       "    }\n",
       "</style>\n",
       "<table border=\"1\" class=\"dataframe\">\n",
       "  <thead>\n",
       "    <tr style=\"text-align: right;\">\n",
       "      <th></th>\n",
       "      <th>Term</th>\n",
       "      <th>LoanStatus</th>\n",
       "      <th>BorrowerAPR</th>\n",
       "      <th>BorrowerRate</th>\n",
       "      <th>ListingCategory</th>\n",
       "      <th>BorrowerState</th>\n",
       "      <th>Occupation</th>\n",
       "      <th>EmploymentStatus</th>\n",
       "      <th>IsBorrowerHomeowner</th>\n",
       "      <th>IncomeRange</th>\n",
       "      <th>LoanOriginalAmount</th>\n",
       "      <th>JobStatus</th>\n",
       "    </tr>\n",
       "  </thead>\n",
       "  <tbody>\n",
       "  </tbody>\n",
       "</table>\n",
       "</div>"
      ],
      "text/plain": [
       "Empty DataFrame\n",
       "Columns: [Term, LoanStatus, BorrowerAPR, BorrowerRate, ListingCategory, BorrowerState, Occupation, EmploymentStatus, IsBorrowerHomeowner, IncomeRange, LoanOriginalAmount, JobStatus]\n",
       "Index: []"
      ]
     },
     "execution_count": 42,
     "metadata": {},
     "output_type": "execute_result"
    }
   ],
   "source": [
    "#confirm for borrowers with \"Full-Time\" employment status \n",
    "loans_clean.query('EmploymentStatus == \"Full-Time\" & JobStatus == \"Not Working\"')\n"
   ]
  },
  {
   "cell_type": "code",
   "execution_count": 43,
   "metadata": {},
   "outputs": [
    {
     "data": {
      "text/html": [
       "<div>\n",
       "<style scoped>\n",
       "    .dataframe tbody tr th:only-of-type {\n",
       "        vertical-align: middle;\n",
       "    }\n",
       "\n",
       "    .dataframe tbody tr th {\n",
       "        vertical-align: top;\n",
       "    }\n",
       "\n",
       "    .dataframe thead th {\n",
       "        text-align: right;\n",
       "    }\n",
       "</style>\n",
       "<table border=\"1\" class=\"dataframe\">\n",
       "  <thead>\n",
       "    <tr style=\"text-align: right;\">\n",
       "      <th></th>\n",
       "      <th>Term</th>\n",
       "      <th>LoanStatus</th>\n",
       "      <th>BorrowerAPR</th>\n",
       "      <th>BorrowerRate</th>\n",
       "      <th>ListingCategory</th>\n",
       "      <th>BorrowerState</th>\n",
       "      <th>Occupation</th>\n",
       "      <th>EmploymentStatus</th>\n",
       "      <th>IsBorrowerHomeowner</th>\n",
       "      <th>IncomeRange</th>\n",
       "      <th>LoanOriginalAmount</th>\n",
       "      <th>JobStatus</th>\n",
       "    </tr>\n",
       "  </thead>\n",
       "  <tbody>\n",
       "  </tbody>\n",
       "</table>\n",
       "</div>"
      ],
      "text/plain": [
       "Empty DataFrame\n",
       "Columns: [Term, LoanStatus, BorrowerAPR, BorrowerRate, ListingCategory, BorrowerState, Occupation, EmploymentStatus, IsBorrowerHomeowner, IncomeRange, LoanOriginalAmount, JobStatus]\n",
       "Index: []"
      ]
     },
     "execution_count": 43,
     "metadata": {},
     "output_type": "execute_result"
    }
   ],
   "source": [
    "#confirm for borrowers with \"Part-Time\" EmploymentStatus\n",
    "loans_clean.query('EmploymentStatus == \"Part-Time\" & JobStatus == \"Not Working\"')\n"
   ]
  },
  {
   "cell_type": "code",
   "execution_count": 44,
   "metadata": {},
   "outputs": [
    {
     "data": {
      "text/html": [
       "<div>\n",
       "<style scoped>\n",
       "    .dataframe tbody tr th:only-of-type {\n",
       "        vertical-align: middle;\n",
       "    }\n",
       "\n",
       "    .dataframe tbody tr th {\n",
       "        vertical-align: top;\n",
       "    }\n",
       "\n",
       "    .dataframe thead th {\n",
       "        text-align: right;\n",
       "    }\n",
       "</style>\n",
       "<table border=\"1\" class=\"dataframe\">\n",
       "  <thead>\n",
       "    <tr style=\"text-align: right;\">\n",
       "      <th></th>\n",
       "      <th>Term</th>\n",
       "      <th>LoanStatus</th>\n",
       "      <th>BorrowerAPR</th>\n",
       "      <th>BorrowerRate</th>\n",
       "      <th>ListingCategory</th>\n",
       "      <th>BorrowerState</th>\n",
       "      <th>Occupation</th>\n",
       "      <th>EmploymentStatus</th>\n",
       "      <th>IsBorrowerHomeowner</th>\n",
       "      <th>IncomeRange</th>\n",
       "      <th>LoanOriginalAmount</th>\n",
       "      <th>JobStatus</th>\n",
       "    </tr>\n",
       "  </thead>\n",
       "  <tbody>\n",
       "  </tbody>\n",
       "</table>\n",
       "</div>"
      ],
      "text/plain": [
       "Empty DataFrame\n",
       "Columns: [Term, LoanStatus, BorrowerAPR, BorrowerRate, ListingCategory, BorrowerState, Occupation, EmploymentStatus, IsBorrowerHomeowner, IncomeRange, LoanOriginalAmount, JobStatus]\n",
       "Index: []"
      ]
     },
     "execution_count": 44,
     "metadata": {},
     "output_type": "execute_result"
    }
   ],
   "source": [
    "#confirm for borrowers with \"Self-Employed\" EmploymentStatus\n",
    "loans_clean.query('EmploymentStatus == \"Self-Employed\" & JobStatus == \"Not Working\"')\n"
   ]
  },
  {
   "cell_type": "code",
   "execution_count": 45,
   "metadata": {},
   "outputs": [
    {
     "data": {
      "text/html": [
       "<div>\n",
       "<style scoped>\n",
       "    .dataframe tbody tr th:only-of-type {\n",
       "        vertical-align: middle;\n",
       "    }\n",
       "\n",
       "    .dataframe tbody tr th {\n",
       "        vertical-align: top;\n",
       "    }\n",
       "\n",
       "    .dataframe thead th {\n",
       "        text-align: right;\n",
       "    }\n",
       "</style>\n",
       "<table border=\"1\" class=\"dataframe\">\n",
       "  <thead>\n",
       "    <tr style=\"text-align: right;\">\n",
       "      <th></th>\n",
       "      <th>Term</th>\n",
       "      <th>LoanStatus</th>\n",
       "      <th>BorrowerAPR</th>\n",
       "      <th>BorrowerRate</th>\n",
       "      <th>ListingCategory</th>\n",
       "      <th>BorrowerState</th>\n",
       "      <th>Occupation</th>\n",
       "      <th>EmploymentStatus</th>\n",
       "      <th>IsBorrowerHomeowner</th>\n",
       "      <th>IncomeRange</th>\n",
       "      <th>LoanOriginalAmount</th>\n",
       "      <th>JobStatus</th>\n",
       "    </tr>\n",
       "  </thead>\n",
       "  <tbody>\n",
       "  </tbody>\n",
       "</table>\n",
       "</div>"
      ],
      "text/plain": [
       "Empty DataFrame\n",
       "Columns: [Term, LoanStatus, BorrowerAPR, BorrowerRate, ListingCategory, BorrowerState, Occupation, EmploymentStatus, IsBorrowerHomeowner, IncomeRange, LoanOriginalAmount, JobStatus]\n",
       "Index: []"
      ]
     },
     "execution_count": 45,
     "metadata": {},
     "output_type": "execute_result"
    }
   ],
   "source": [
    "#confirm for borrowers with \"Employed\" EmploymentStatus \n",
    "loans_clean.query('EmploymentStatus == \"Employed\" & JobStatus == \"Not Working\"')\n"
   ]
  },
  {
   "cell_type": "code",
   "execution_count": 46,
   "metadata": {},
   "outputs": [
    {
     "data": {
      "text/html": [
       "<div>\n",
       "<style scoped>\n",
       "    .dataframe tbody tr th:only-of-type {\n",
       "        vertical-align: middle;\n",
       "    }\n",
       "\n",
       "    .dataframe tbody tr th {\n",
       "        vertical-align: top;\n",
       "    }\n",
       "\n",
       "    .dataframe thead th {\n",
       "        text-align: right;\n",
       "    }\n",
       "</style>\n",
       "<table border=\"1\" class=\"dataframe\">\n",
       "  <thead>\n",
       "    <tr style=\"text-align: right;\">\n",
       "      <th></th>\n",
       "      <th>Term</th>\n",
       "      <th>LoanStatus</th>\n",
       "      <th>BorrowerAPR</th>\n",
       "      <th>BorrowerRate</th>\n",
       "      <th>ListingCategory</th>\n",
       "      <th>BorrowerState</th>\n",
       "      <th>Occupation</th>\n",
       "      <th>EmploymentStatus</th>\n",
       "      <th>IsBorrowerHomeowner</th>\n",
       "      <th>IncomeRange</th>\n",
       "      <th>LoanOriginalAmount</th>\n",
       "      <th>JobStatus</th>\n",
       "    </tr>\n",
       "  </thead>\n",
       "  <tbody>\n",
       "  </tbody>\n",
       "</table>\n",
       "</div>"
      ],
      "text/plain": [
       "Empty DataFrame\n",
       "Columns: [Term, LoanStatus, BorrowerAPR, BorrowerRate, ListingCategory, BorrowerState, Occupation, EmploymentStatus, IsBorrowerHomeowner, IncomeRange, LoanOriginalAmount, JobStatus]\n",
       "Index: []"
      ]
     },
     "execution_count": 46,
     "metadata": {},
     "output_type": "execute_result"
    }
   ],
   "source": [
    "#confirm for borrowers with \"Not Employed\" EmploymentStatus \n",
    "loans_clean.query('EmploymentStatus == \"Not Employed\" & JobStatus == \"Working\"')\n"
   ]
  },
  {
   "cell_type": "code",
   "execution_count": 47,
   "metadata": {},
   "outputs": [
    {
     "data": {
      "text/html": [
       "<div>\n",
       "<style scoped>\n",
       "    .dataframe tbody tr th:only-of-type {\n",
       "        vertical-align: middle;\n",
       "    }\n",
       "\n",
       "    .dataframe tbody tr th {\n",
       "        vertical-align: top;\n",
       "    }\n",
       "\n",
       "    .dataframe thead th {\n",
       "        text-align: right;\n",
       "    }\n",
       "</style>\n",
       "<table border=\"1\" class=\"dataframe\">\n",
       "  <thead>\n",
       "    <tr style=\"text-align: right;\">\n",
       "      <th></th>\n",
       "      <th>Term</th>\n",
       "      <th>LoanStatus</th>\n",
       "      <th>BorrowerAPR</th>\n",
       "      <th>BorrowerRate</th>\n",
       "      <th>ListingCategory</th>\n",
       "      <th>BorrowerState</th>\n",
       "      <th>Occupation</th>\n",
       "      <th>EmploymentStatus</th>\n",
       "      <th>IsBorrowerHomeowner</th>\n",
       "      <th>IncomeRange</th>\n",
       "      <th>LoanOriginalAmount</th>\n",
       "      <th>JobStatus</th>\n",
       "    </tr>\n",
       "  </thead>\n",
       "  <tbody>\n",
       "  </tbody>\n",
       "</table>\n",
       "</div>"
      ],
      "text/plain": [
       "Empty DataFrame\n",
       "Columns: [Term, LoanStatus, BorrowerAPR, BorrowerRate, ListingCategory, BorrowerState, Occupation, EmploymentStatus, IsBorrowerHomeowner, IncomeRange, LoanOriginalAmount, JobStatus]\n",
       "Index: []"
      ]
     },
     "execution_count": 47,
     "metadata": {},
     "output_type": "execute_result"
    }
   ],
   "source": [
    "#confirm for borrowers with \"Retired\" EmploymentStatus \n",
    "loans_clean.query('EmploymentStatus == \"Retired\" & JobStatus == \"Working\"')\n"
   ]
  },
  {
   "cell_type": "markdown",
   "metadata": {},
   "source": [
    "The __Term__ variable in the dataset is given in terms of the number of months. There are three groups: 12 months, 36 months and 60 months. \n",
    "\n",
    "To represent them in \"Term\" (Short Term, Mid Term, and Long Term), a new feature will be created. But first, the initial __Term__ variable will be renamed as __TermMonths__ and the new feature to be created will be named __Term__."
   ]
  },
  {
   "cell_type": "code",
   "execution_count": 48,
   "metadata": {},
   "outputs": [
    {
     "data": {
      "text/html": [
       "<div>\n",
       "<style scoped>\n",
       "    .dataframe tbody tr th:only-of-type {\n",
       "        vertical-align: middle;\n",
       "    }\n",
       "\n",
       "    .dataframe tbody tr th {\n",
       "        vertical-align: top;\n",
       "    }\n",
       "\n",
       "    .dataframe thead th {\n",
       "        text-align: right;\n",
       "    }\n",
       "</style>\n",
       "<table border=\"1\" class=\"dataframe\">\n",
       "  <thead>\n",
       "    <tr style=\"text-align: right;\">\n",
       "      <th></th>\n",
       "      <th>TermMonths</th>\n",
       "      <th>LoanStatus</th>\n",
       "      <th>BorrowerAPR</th>\n",
       "      <th>BorrowerRate</th>\n",
       "      <th>ListingCategory</th>\n",
       "      <th>BorrowerState</th>\n",
       "      <th>Occupation</th>\n",
       "      <th>EmploymentStatus</th>\n",
       "      <th>IsBorrowerHomeowner</th>\n",
       "      <th>IncomeRange</th>\n",
       "      <th>LoanOriginalAmount</th>\n",
       "      <th>JobStatus</th>\n",
       "    </tr>\n",
       "  </thead>\n",
       "  <tbody>\n",
       "    <tr>\n",
       "      <th>0</th>\n",
       "      <td>36</td>\n",
       "      <td>Completed</td>\n",
       "      <td>0.16516</td>\n",
       "      <td>0.158</td>\n",
       "      <td>NaN</td>\n",
       "      <td>CO</td>\n",
       "      <td>Other</td>\n",
       "      <td>Self-Employed</td>\n",
       "      <td>True</td>\n",
       "      <td>$25,000-49,999</td>\n",
       "      <td>9425</td>\n",
       "      <td>Working</td>\n",
       "    </tr>\n",
       "  </tbody>\n",
       "</table>\n",
       "</div>"
      ],
      "text/plain": [
       "   TermMonths LoanStatus  BorrowerAPR  BorrowerRate ListingCategory  \\\n",
       "0          36  Completed      0.16516         0.158             NaN   \n",
       "\n",
       "  BorrowerState Occupation EmploymentStatus  IsBorrowerHomeowner  \\\n",
       "0            CO      Other    Self-Employed                 True   \n",
       "\n",
       "      IncomeRange  LoanOriginalAmount JobStatus  \n",
       "0  $25,000-49,999                9425   Working  "
      ]
     },
     "execution_count": 48,
     "metadata": {},
     "output_type": "execute_result"
    }
   ],
   "source": [
    "#Rename Term variable \n",
    "loans_clean.rename(columns = {\"Term\" : \"TermMonths\"}, inplace = True)\n",
    "\n",
    "#confirm \n",
    "loans_clean.head(1)\n",
    "                              "
   ]
  },
  {
   "cell_type": "code",
   "execution_count": 49,
   "metadata": {},
   "outputs": [],
   "source": [
    "def term_words(col_name): \n",
    "    \"\"\"This function returns a list of the term \n",
    "    (in words) each loan belongs in\"\"\"\n",
    "    term_list = [] \n",
    "    for x in col_name: \n",
    "        if x == 12: \n",
    "            term_list.append(\"Short Term\") \n",
    "        elif x == 36: \n",
    "            term_list.append(\"Mid Term\")\n",
    "        else: \n",
    "            term_list.append(\"Long Term\")\n",
    "    return term_list \n"
   ]
  },
  {
   "cell_type": "code",
   "execution_count": 50,
   "metadata": {},
   "outputs": [],
   "source": [
    "#apply function to TermMonths column \n",
    "term_words_list = term_words(loans_clean.TermMonths)\n",
    "\n",
    "#create a new variable for the term in words \n",
    "loans_clean[\"Term\"] = term_words_list\n"
   ]
  },
  {
   "cell_type": "code",
   "execution_count": 51,
   "metadata": {},
   "outputs": [
    {
     "name": "stdout",
     "output_type": "stream",
     "text": [
      "36    49535\n",
      "60     4276\n",
      "12     1505\n",
      "Name: TermMonths, dtype: int64\n"
     ]
    },
    {
     "data": {
      "text/plain": [
       "Mid Term      49535\n",
       "Long Term      4276\n",
       "Short Term     1505\n",
       "Name: Term, dtype: int64"
      ]
     },
     "execution_count": 51,
     "metadata": {},
     "output_type": "execute_result"
    }
   ],
   "source": [
    "#confirm by viewing random rows\n",
    "print(loans_clean.TermMonths.value_counts()) \n",
    "\n",
    "loans_clean.Term.value_counts()\n"
   ]
  },
  {
   "cell_type": "markdown",
   "metadata": {},
   "source": [
    "__TermMonths__, __IncomeRange__, and __Term__ variables are ordinal variables, that is, their unique values are sequential. Therefore, their datatype should be \"category\", showing that they are ordered. <br> \n",
    "\n",
    "Hence, below the datatype for each of the variables are changed into \"category\" by specifying the order of their unique values."
   ]
  },
  {
   "cell_type": "code",
   "execution_count": 52,
   "metadata": {},
   "outputs": [],
   "source": [
    "#create loop to change TermMonths, IncomeRange and Term datatypes to category\n",
    "ord_data_dict = {\"TermMonths\": [12, 36, 60], \n",
    "            \"IncomeRange\": [\"$0\", \"$1-24,999\", \"$25,000-49,999\" \n",
    "                             \"$50,000-74,999\", \"$75,000-99,999\", \"$100,000+\"], \n",
    "                 \"Term\": [\"Short Term\", \"Mid Term\", \"Long Term\"]\n",
    "                }\n",
    "\n",
    "for ord_data in ord_data_dict: \n",
    "    ord_cat = pd.api.types.CategoricalDtype(ordered = True, categories = ord_data_dict[ord_data]) \n",
    "    loans_clean[ord_data] = loans_clean[ord_data].astype(ord_cat)\n",
    "\n"
   ]
  },
  {
   "cell_type": "code",
   "execution_count": 53,
   "metadata": {},
   "outputs": [
    {
     "data": {
      "text/plain": [
       "TermMonths             category\n",
       "LoanStatus               object\n",
       "BorrowerAPR             float64\n",
       "BorrowerRate            float64\n",
       "ListingCategory          object\n",
       "BorrowerState            object\n",
       "Occupation               object\n",
       "EmploymentStatus         object\n",
       "IsBorrowerHomeowner        bool\n",
       "IncomeRange            category\n",
       "LoanOriginalAmount        int64\n",
       "JobStatus                object\n",
       "Term                   category\n",
       "dtype: object"
      ]
     },
     "execution_count": 53,
     "metadata": {},
     "output_type": "execute_result"
    }
   ],
   "source": [
    "#confirm \n",
    "loans_clean.dtypes"
   ]
  },
  {
   "cell_type": "markdown",
   "metadata": {},
   "source": [
    "Lastly, null rows were also noticed during the assessment of the dataset. Below, the null rows will be dropped."
   ]
  },
  {
   "cell_type": "code",
   "execution_count": 54,
   "metadata": {},
   "outputs": [],
   "source": [
    "#drop null values\n",
    "loans_clean.dropna(inplace = True)\n"
   ]
  },
  {
   "cell_type": "code",
   "execution_count": 55,
   "metadata": {
    "scrolled": true
   },
   "outputs": [
    {
     "data": {
      "text/plain": [
       "(14882, 13)"
      ]
     },
     "execution_count": 55,
     "metadata": {},
     "output_type": "execute_result"
    }
   ],
   "source": [
    "#obtain number of rows and columns of clean dataset\n",
    "loans_clean.shape \n"
   ]
  },
  {
   "cell_type": "markdown",
   "metadata": {},
   "source": [
    "### What is the structure of your dataset?\n",
    "\n",
    "The clean Loan Data from Prosper dataset __`loans_clean`__ has 14,882 loan entries on 13 variables (14,882 rows and 13 columns). It consists of numeric, nominal categorical, and ordinal categorical variables.\n",
    "\n",
    "The __numeric variables__ are: BorrowerAPR, BorrowerRate, and LoanOriginalAmount. \n",
    "\n",
    "The __nominal categorical variables__ are: LoanStatus, ListingCategory, Occupation, EmploymentStatus, BorrowerState, IsBorrowerHomeowner, and JobStatus.\n",
    "\n",
    "The __ordinal categorical variables__ are: TermMonths, and IncomeRange, and Term.<br>\n",
    "\n",
    "Below, the unique values in each of the variables are arranged in increasing order.\n",
    "\n",
    "(smallest --> greatest) <br>\n",
    "__TermMonths__: 12, 36, 60 <br>\n",
    "__IncomeRange__: \\\\$0, \\\\$1-24,999, \\\\$25,000-49,999, \\\\$50,000-74,999, \\\\$75,000-99,999, \\\\$100,000+ <br>\n",
    "__Term__: Short Term, Mid Term, Long Term \n",
    "\n",
    "\n",
    "\n",
    "### What is/are the main feature(s) of interest in your dataset?\n",
    "\n",
    "I am mainly interested in determining the features that affect loan status, the features that tell the proportion of loans taken for student use that  was completed, and how the length of a loan affects the interest rate. I am also interested in the features that determine if loan amount increases with increasing income range, if higher loan amounts are usually associated with longer loan length, and if borrowers who take loan for debt consolidation are mostly high income earners?<br> \n",
    "\n",
    "\n",
    "### What features in the dataset do you think will help support your investigation into your feature(s) of interest?\n",
    "\n",
    "The following features: __LoanStatus__, __Term__, __ListingCategory__, __LoanOriginalAmount__, __IncomeRange__, and __BorrowerRate__ will be useful in determining the outcome of my investigation into the features of interest stated above."
   ]
  },
  {
   "cell_type": "markdown",
   "metadata": {},
   "source": [
    "<a id=\"univariate\"><\\a>"
   ]
  },
  {
   "cell_type": "markdown",
   "metadata": {},
   "source": [
    "## Univariate Exploration\n",
    "\n",
    "This section involves investigation of distributions of individual variables in the dataset. "
   ]
  },
  {
   "cell_type": "markdown",
   "metadata": {},
   "source": [
    "##### What is the status of most loans?"
   ]
  },
  {
   "cell_type": "code",
   "execution_count": 56,
   "metadata": {
    "scrolled": true
   },
   "outputs": [
    {
     "data": {
      "image/png": "[encoded data removed]",
      "text/plain": [
       "<Figure size 432x288 with 1 Axes>"
      ]
     },
     "metadata": {
      "needs_background": "light"
     },
     "output_type": "display_data"
    }
   ],
   "source": [
    "#visualize loan status variable \n",
    "#choose color of bars\n",
    "base_color = sb.color_palette()[0]\n",
    "\n",
    "#create order for values from highest to least count\n",
    "group_order = loans_clean.LoanStatus.value_counts().index\n",
    "\n",
    "#plot\n",
    "sb.countplot(data = loans_clean, y = \"LoanStatus\", color = base_color, order = group_order)\n",
    "plt.ylabel(\"Loan Status\")\n",
    "plt.title(\"Loan Status Distribution\");\n"
   ]
  },
  {
   "cell_type": "markdown",
   "metadata": {},
   "source": [
    "##### Observations\n",
    "- Most borrowers complete their loans.\n",
    "- There are more borrowers whose loans are charged off than there are those with their loans past due.\n",
    "- The number of borrowers who defaulted on their loans is only slightly less than those for whom their loans are past due.\n",
    "- Borrowers with their final payment in progress are the least."
   ]
  },
  {
   "cell_type": "markdown",
   "metadata": {},
   "source": [
    "##### How are the interest rates distributed?"
   ]
  },
  {
   "cell_type": "code",
   "execution_count": 57,
   "metadata": {
    "scrolled": true
   },
   "outputs": [
    {
     "data": {
      "text/plain": [
       "count    14882.000000\n",
       "mean         0.201281\n",
       "std          0.085881\n",
       "min          0.000000\n",
       "25%          0.128825\n",
       "50%          0.194500\n",
       "75%          0.271200\n",
       "max          0.360000\n",
       "Name: BorrowerRate, dtype: float64"
      ]
     },
     "execution_count": 57,
     "metadata": {},
     "output_type": "execute_result"
    }
   ],
   "source": [
    "#summary statistics on borrower rate\n",
    "loans_clean.BorrowerRate.describe()"
   ]
  },
  {
   "cell_type": "code",
   "execution_count": 58,
   "metadata": {
    "scrolled": true
   },
   "outputs": [
    {
     "data": {
      "image/png": "[encoded data removed]",
      "text/plain": [
       "<Figure size 432x288 with 1 Axes>"
      ]
     },
     "metadata": {
      "needs_background": "light"
     },
     "output_type": "display_data"
    }
   ],
   "source": [
    "#visualize borrow rate variable \n",
    "#create bin edges\n",
    "bins = np.arange(0, loans_clean.BorrowerRate.max() + 0.01, 0.01)\n",
    "\n",
    "#plot\n",
    "plt.hist(data = loans_clean, x = \"BorrowerRate\", bins = bins)\n",
    "\n",
    "plt.xlabel(\"Interest Rate\");\n",
    "#plt.xlim(0.03, 0.37)\n",
    "plt.title(\"Interest Rate Distribution\"); \n",
    "\n"
   ]
  },
  {
   "cell_type": "markdown",
   "metadata": {},
   "source": [
    "##### Observations \n",
    "\n",
    "- It is multi-modal \n",
    "- The highest peak is for interest rate between 0.31 and 0.32\n",
    "- There are outliers between 0.00 and 0.02, also between 0.35 and 0.36 <br> "
   ]
  },
  {
   "cell_type": "code",
   "execution_count": 59,
   "metadata": {},
   "outputs": [
    {
     "data": {
      "text/html": [
       "<div>\n",
       "<style scoped>\n",
       "    .dataframe tbody tr th:only-of-type {\n",
       "        vertical-align: middle;\n",
       "    }\n",
       "\n",
       "    .dataframe tbody tr th {\n",
       "        vertical-align: top;\n",
       "    }\n",
       "\n",
       "    .dataframe thead th {\n",
       "        text-align: right;\n",
       "    }\n",
       "</style>\n",
       "<table border=\"1\" class=\"dataframe\">\n",
       "  <thead>\n",
       "    <tr style=\"text-align: right;\">\n",
       "      <th></th>\n",
       "      <th>TermMonths</th>\n",
       "      <th>LoanStatus</th>\n",
       "      <th>BorrowerAPR</th>\n",
       "      <th>BorrowerRate</th>\n",
       "      <th>ListingCategory</th>\n",
       "      <th>BorrowerState</th>\n",
       "      <th>Occupation</th>\n",
       "      <th>EmploymentStatus</th>\n",
       "      <th>IsBorrowerHomeowner</th>\n",
       "      <th>IncomeRange</th>\n",
       "      <th>LoanOriginalAmount</th>\n",
       "      <th>JobStatus</th>\n",
       "      <th>Term</th>\n",
       "    </tr>\n",
       "  </thead>\n",
       "  <tbody>\n",
       "    <tr>\n",
       "      <th>15993</th>\n",
       "      <td>36</td>\n",
       "      <td>Chargedoff</td>\n",
       "      <td>0.01823</td>\n",
       "      <td>0.0100</td>\n",
       "      <td>Debt Consolidation</td>\n",
       "      <td>NY</td>\n",
       "      <td>Retail Management</td>\n",
       "      <td>Full-Time</td>\n",
       "      <td>False</td>\n",
       "      <td>$1-24,999</td>\n",
       "      <td>2000</td>\n",
       "      <td>Working</td>\n",
       "      <td>Mid Term</td>\n",
       "    </tr>\n",
       "    <tr>\n",
       "      <th>37201</th>\n",
       "      <td>36</td>\n",
       "      <td>Completed</td>\n",
       "      <td>0.02998</td>\n",
       "      <td>0.0100</td>\n",
       "      <td>Student Use</td>\n",
       "      <td>CA</td>\n",
       "      <td>Administrative Assistant</td>\n",
       "      <td>Part-Time</td>\n",
       "      <td>False</td>\n",
       "      <td>$1-24,999</td>\n",
       "      <td>1500</td>\n",
       "      <td>Working</td>\n",
       "      <td>Mid Term</td>\n",
       "    </tr>\n",
       "    <tr>\n",
       "      <th>50251</th>\n",
       "      <td>36</td>\n",
       "      <td>Completed</td>\n",
       "      <td>0.01325</td>\n",
       "      <td>0.0001</td>\n",
       "      <td>Debt Consolidation</td>\n",
       "      <td>AR</td>\n",
       "      <td>Professional</td>\n",
       "      <td>Full-Time</td>\n",
       "      <td>False</td>\n",
       "      <td>$1-24,999</td>\n",
       "      <td>5000</td>\n",
       "      <td>Working</td>\n",
       "      <td>Mid Term</td>\n",
       "    </tr>\n",
       "    <tr>\n",
       "      <th>78920</th>\n",
       "      <td>36</td>\n",
       "      <td>Completed</td>\n",
       "      <td>0.01987</td>\n",
       "      <td>0.0000</td>\n",
       "      <td>Debt Consolidation</td>\n",
       "      <td>NJ</td>\n",
       "      <td>Dentist</td>\n",
       "      <td>Full-Time</td>\n",
       "      <td>True</td>\n",
       "      <td>$75,000-99,999</td>\n",
       "      <td>25000</td>\n",
       "      <td>Working</td>\n",
       "      <td>Mid Term</td>\n",
       "    </tr>\n",
       "    <tr>\n",
       "      <th>105191</th>\n",
       "      <td>36</td>\n",
       "      <td>Chargedoff</td>\n",
       "      <td>0.02998</td>\n",
       "      <td>0.0100</td>\n",
       "      <td>Personal Loan</td>\n",
       "      <td>NY</td>\n",
       "      <td>Other</td>\n",
       "      <td>Self-Employed</td>\n",
       "      <td>False</td>\n",
       "      <td>$1-24,999</td>\n",
       "      <td>1500</td>\n",
       "      <td>Working</td>\n",
       "      <td>Mid Term</td>\n",
       "    </tr>\n",
       "    <tr>\n",
       "      <th>112717</th>\n",
       "      <td>36</td>\n",
       "      <td>Completed</td>\n",
       "      <td>0.01315</td>\n",
       "      <td>0.0000</td>\n",
       "      <td>Other</td>\n",
       "      <td>CA</td>\n",
       "      <td>Analyst</td>\n",
       "      <td>Full-Time</td>\n",
       "      <td>False</td>\n",
       "      <td>$100,000+</td>\n",
       "      <td>3000</td>\n",
       "      <td>Working</td>\n",
       "      <td>Mid Term</td>\n",
       "    </tr>\n",
       "  </tbody>\n",
       "</table>\n",
       "</div>"
      ],
      "text/plain": [
       "       TermMonths  LoanStatus  BorrowerAPR  BorrowerRate     ListingCategory  \\\n",
       "15993          36  Chargedoff      0.01823        0.0100  Debt Consolidation   \n",
       "37201          36   Completed      0.02998        0.0100         Student Use   \n",
       "50251          36   Completed      0.01325        0.0001  Debt Consolidation   \n",
       "78920          36   Completed      0.01987        0.0000  Debt Consolidation   \n",
       "105191         36  Chargedoff      0.02998        0.0100       Personal Loan   \n",
       "112717         36   Completed      0.01315        0.0000               Other   \n",
       "\n",
       "       BorrowerState                Occupation EmploymentStatus  \\\n",
       "15993             NY         Retail Management        Full-Time   \n",
       "37201             CA  Administrative Assistant        Part-Time   \n",
       "50251             AR              Professional        Full-Time   \n",
       "78920             NJ                   Dentist        Full-Time   \n",
       "105191            NY                     Other    Self-Employed   \n",
       "112717            CA                   Analyst        Full-Time   \n",
       "\n",
       "        IsBorrowerHomeowner     IncomeRange  LoanOriginalAmount JobStatus  \\\n",
       "15993                 False       $1-24,999                2000   Working   \n",
       "37201                 False       $1-24,999                1500   Working   \n",
       "50251                 False       $1-24,999                5000   Working   \n",
       "78920                  True  $75,000-99,999               25000   Working   \n",
       "105191                False       $1-24,999                1500   Working   \n",
       "112717                False       $100,000+                3000   Working   \n",
       "\n",
       "            Term  \n",
       "15993   Mid Term  \n",
       "37201   Mid Term  \n",
       "50251   Mid Term  \n",
       "78920   Mid Term  \n",
       "105191  Mid Term  \n",
       "112717  Mid Term  "
      ]
     },
     "execution_count": 59,
     "metadata": {},
     "output_type": "execute_result"
    }
   ],
   "source": [
    "#investigate outliers \n",
    "#check rows with interest rate betwee  0 and 0.02\n",
    "low_rates = loans_clean.query('BorrowerRate >= 0.00 & BorrowerRate < 0.02')\n",
    "low_rates\n",
    "      "
   ]
  },
  {
   "cell_type": "code",
   "execution_count": 60,
   "metadata": {
    "scrolled": true
   },
   "outputs": [
    {
     "data": {
      "text/plain": [
       "count      554.000000\n",
       "mean      3342.194946\n",
       "std       3047.936633\n",
       "min       1000.000000\n",
       "25%       1500.000000\n",
       "50%       2525.500000\n",
       "75%       4000.000000\n",
       "max      25000.000000\n",
       "Name: LoanOriginalAmount, dtype: float64"
      ]
     },
     "execution_count": 60,
     "metadata": {},
     "output_type": "execute_result"
    }
   ],
   "source": [
    "#obtain summary statistics for rows with interest rate between 0.35 and 0.36\n",
    "high_rates = loans_clean.query('BorrowerRate >= 0.35 & BorrowerRate < 0.36')\n",
    "high_rates.LoanOriginalAmount.describe()\n",
    "                  "
   ]
  },
  {
   "cell_type": "code",
   "execution_count": 61,
   "metadata": {},
   "outputs": [
    {
     "data": {
      "text/plain": [
       "35000"
      ]
     },
     "execution_count": 61,
     "metadata": {},
     "output_type": "execute_result"
    }
   ],
   "source": [
    "#obtain maximum original loan amount value\n",
    "loans_clean.LoanOriginalAmount.max() \n"
   ]
  },
  {
   "cell_type": "markdown",
   "metadata": {},
   "source": [
    "__For interest rates between 0 and 0.02__:<br>\n",
    "There are two loan entries or rows with 0 value interest rates and an original loan amount of \\\\$25,000 and \\\\$3,000 respectively.<br>\n",
    "A third loan entry with an original loan amount of \\\\$5,000 has an interest rate of 0.0001 which is lower than the interest rate for a loan amount of \\\\$1,500.<br> \n",
    "The two other loan entries with original loan amounts of \\\\$1,500 and \\\\$2,000 have relatively low interest rates compared to other loans of the same amount.<br>\n",
    "\n",
    "\n",
    "__For interest rates between 0.35 and 0.36__:<br> \n",
    "Interest rates in this range are relatively high and seeing how no rows with original loan amounts of \\\\$35,000 have an interest rate in that range, it is possible that the record of interest rates for these rows is erroneous. <br> \n",
    "\n",
    "\n",
    "To be safe, these rows will be dropped, and a new plot will be created for the __BorrowerRate__ variable. "
   ]
  },
  {
   "cell_type": "code",
   "execution_count": 62,
   "metadata": {},
   "outputs": [
    {
     "data": {
      "text/html": [
       "<div>\n",
       "<style scoped>\n",
       "    .dataframe tbody tr th:only-of-type {\n",
       "        vertical-align: middle;\n",
       "    }\n",
       "\n",
       "    .dataframe tbody tr th {\n",
       "        vertical-align: top;\n",
       "    }\n",
       "\n",
       "    .dataframe thead th {\n",
       "        text-align: right;\n",
       "    }\n",
       "</style>\n",
       "<table border=\"1\" class=\"dataframe\">\n",
       "  <thead>\n",
       "    <tr style=\"text-align: right;\">\n",
       "      <th></th>\n",
       "      <th>TermMonths</th>\n",
       "      <th>LoanStatus</th>\n",
       "      <th>BorrowerAPR</th>\n",
       "      <th>BorrowerRate</th>\n",
       "      <th>ListingCategory</th>\n",
       "      <th>BorrowerState</th>\n",
       "      <th>Occupation</th>\n",
       "      <th>EmploymentStatus</th>\n",
       "      <th>IsBorrowerHomeowner</th>\n",
       "      <th>IncomeRange</th>\n",
       "      <th>LoanOriginalAmount</th>\n",
       "      <th>JobStatus</th>\n",
       "      <th>Term</th>\n",
       "    </tr>\n",
       "  </thead>\n",
       "  <tbody>\n",
       "  </tbody>\n",
       "</table>\n",
       "</div>"
      ],
      "text/plain": [
       "Empty DataFrame\n",
       "Columns: [TermMonths, LoanStatus, BorrowerAPR, BorrowerRate, ListingCategory, BorrowerState, Occupation, EmploymentStatus, IsBorrowerHomeowner, IncomeRange, LoanOriginalAmount, JobStatus, Term]\n",
       "Index: []"
      ]
     },
     "execution_count": 62,
     "metadata": {},
     "output_type": "execute_result"
    }
   ],
   "source": [
    "#drop BorrowerRate outlier rows \n",
    "loans_clean.drop(low_rates.index, inplace = True) \n",
    "loans_clean.drop(high_rates.index, inplace = True) \n",
    "\n",
    "#confirm \n",
    "#for low interest rates \n",
    "loans_clean.query('BorrowerRate >= 0.00 & BorrowerRate < 0.02')\n"
   ]
  },
  {
   "cell_type": "code",
   "execution_count": 63,
   "metadata": {},
   "outputs": [
    {
     "data": {
      "text/html": [
       "<div>\n",
       "<style scoped>\n",
       "    .dataframe tbody tr th:only-of-type {\n",
       "        vertical-align: middle;\n",
       "    }\n",
       "\n",
       "    .dataframe tbody tr th {\n",
       "        vertical-align: top;\n",
       "    }\n",
       "\n",
       "    .dataframe thead th {\n",
       "        text-align: right;\n",
       "    }\n",
       "</style>\n",
       "<table border=\"1\" class=\"dataframe\">\n",
       "  <thead>\n",
       "    <tr style=\"text-align: right;\">\n",
       "      <th></th>\n",
       "      <th>TermMonths</th>\n",
       "      <th>LoanStatus</th>\n",
       "      <th>BorrowerAPR</th>\n",
       "      <th>BorrowerRate</th>\n",
       "      <th>ListingCategory</th>\n",
       "      <th>BorrowerState</th>\n",
       "      <th>Occupation</th>\n",
       "      <th>EmploymentStatus</th>\n",
       "      <th>IsBorrowerHomeowner</th>\n",
       "      <th>IncomeRange</th>\n",
       "      <th>LoanOriginalAmount</th>\n",
       "      <th>JobStatus</th>\n",
       "      <th>Term</th>\n",
       "    </tr>\n",
       "  </thead>\n",
       "  <tbody>\n",
       "  </tbody>\n",
       "</table>\n",
       "</div>"
      ],
      "text/plain": [
       "Empty DataFrame\n",
       "Columns: [TermMonths, LoanStatus, BorrowerAPR, BorrowerRate, ListingCategory, BorrowerState, Occupation, EmploymentStatus, IsBorrowerHomeowner, IncomeRange, LoanOriginalAmount, JobStatus, Term]\n",
       "Index: []"
      ]
     },
     "execution_count": 63,
     "metadata": {},
     "output_type": "execute_result"
    }
   ],
   "source": [
    "#for high interest rates \n",
    "loans_clean.query('BorrowerRate >= 0.35 & BorrowerRate < 0.36')\n"
   ]
  },
  {
   "cell_type": "code",
   "execution_count": 64,
   "metadata": {},
   "outputs": [
    {
     "data": {
      "image/png": "[encoded data removed]",
      "text/plain": [
       "<Figure size 432x288 with 1 Axes>"
      ]
     },
     "metadata": {
      "needs_background": "light"
     },
     "output_type": "display_data"
    }
   ],
   "source": [
    "#revisualize borrow rate variable \n",
    "#create bin edges\n",
    "bins = np.arange(0, loans_clean.BorrowerRate.max() + 0.01, 0.01)\n",
    "\n",
    "#plot\n",
    "plt.hist(data = loans_clean, x = \"BorrowerRate\", bins = bins)\n",
    "plt.xlabel(\"Interest Rate\");\n",
    "plt.xlim(0.03, 0.36)\n",
    "plt.title(\"Interest Rate Distribution without Outliers\"); \n"
   ]
  },
  {
   "cell_type": "markdown",
   "metadata": {},
   "source": [
    "##### How is loan amount distributed?"
   ]
  },
  {
   "cell_type": "code",
   "execution_count": 65,
   "metadata": {
    "scrolled": true
   },
   "outputs": [
    {
     "data": {
      "text/plain": [
       "count    14322.000000\n",
       "mean      7540.879067\n",
       "std       5885.548949\n",
       "min       1000.000000\n",
       "25%       3200.000000\n",
       "50%       5000.000000\n",
       "75%      10000.000000\n",
       "max      35000.000000\n",
       "Name: LoanOriginalAmount, dtype: float64"
      ]
     },
     "execution_count": 65,
     "metadata": {},
     "output_type": "execute_result"
    }
   ],
   "source": [
    "#obtain summary statistics for LoanOriginalAmount variable\n",
    "loans_clean.LoanOriginalAmount.describe()"
   ]
  },
  {
   "cell_type": "code",
   "execution_count": 66,
   "metadata": {
    "scrolled": false
   },
   "outputs": [
    {
     "data": {
      "image/png": "[encoded data removed]",
      "text/plain": [
       "<Figure size 432x288 with 1 Axes>"
      ]
     },
     "metadata": {
      "needs_background": "light"
     },
     "output_type": "display_data"
    }
   ],
   "source": [
    "#create bin edges\n",
    "bins = np.arange(500, 35500 + 1000, 1000) \n",
    "\n",
    "#plot\n",
    "plt.hist(data = loans_clean, x = \"LoanOriginalAmount\", bins = bins)\n",
    "\n",
    "#create tick labels\n",
    "ticks = [1000, 5000, 10000, 15000, 20000, 25000, 30000, 35000] \n",
    "tick_labels = [\"{}\".format(tick) for tick in ticks]\n",
    "\n",
    "plt.xticks(ticks, tick_labels)\n",
    "#plt.xlim(0, 25500)\n",
    "plt.xlabel(\"Loan Amount($)\")\n",
    "plt.title(\"Loan Amount Distribution\");\n",
    "\n"
   ]
  },
  {
   "cell_type": "markdown",
   "metadata": {},
   "source": [
    "##### Observations \n",
    "\n",
    "- The data distribution is multimodal\n",
    "- There are outliers having values of 30,000 and 35,000 <br> "
   ]
  },
  {
   "cell_type": "code",
   "execution_count": 67,
   "metadata": {},
   "outputs": [
    {
     "data": {
      "text/html": [
       "<div>\n",
       "<style scoped>\n",
       "    .dataframe tbody tr th:only-of-type {\n",
       "        vertical-align: middle;\n",
       "    }\n",
       "\n",
       "    .dataframe tbody tr th {\n",
       "        vertical-align: top;\n",
       "    }\n",
       "\n",
       "    .dataframe thead th {\n",
       "        text-align: right;\n",
       "    }\n",
       "</style>\n",
       "<table border=\"1\" class=\"dataframe\">\n",
       "  <thead>\n",
       "    <tr style=\"text-align: right;\">\n",
       "      <th></th>\n",
       "      <th>TermMonths</th>\n",
       "      <th>LoanStatus</th>\n",
       "      <th>BorrowerAPR</th>\n",
       "      <th>BorrowerRate</th>\n",
       "      <th>ListingCategory</th>\n",
       "      <th>BorrowerState</th>\n",
       "      <th>Occupation</th>\n",
       "      <th>EmploymentStatus</th>\n",
       "      <th>IsBorrowerHomeowner</th>\n",
       "      <th>IncomeRange</th>\n",
       "      <th>LoanOriginalAmount</th>\n",
       "      <th>JobStatus</th>\n",
       "      <th>Term</th>\n",
       "    </tr>\n",
       "  </thead>\n",
       "  <tbody>\n",
       "    <tr>\n",
       "      <th>2636</th>\n",
       "      <td>36</td>\n",
       "      <td>Past Due</td>\n",
       "      <td>0.17754</td>\n",
       "      <td>0.1414</td>\n",
       "      <td>Debt Consolidation</td>\n",
       "      <td>FL</td>\n",
       "      <td>Computer Programmer</td>\n",
       "      <td>Employed</td>\n",
       "      <td>False</td>\n",
       "      <td>$100,000+</td>\n",
       "      <td>35000</td>\n",
       "      <td>Working</td>\n",
       "      <td>Mid Term</td>\n",
       "    </tr>\n",
       "    <tr>\n",
       "      <th>10825</th>\n",
       "      <td>36</td>\n",
       "      <td>Completed</td>\n",
       "      <td>0.13138</td>\n",
       "      <td>0.1034</td>\n",
       "      <td>Business</td>\n",
       "      <td>CA</td>\n",
       "      <td>Computer Programmer</td>\n",
       "      <td>Employed</td>\n",
       "      <td>True</td>\n",
       "      <td>$100,000+</td>\n",
       "      <td>34000</td>\n",
       "      <td>Working</td>\n",
       "      <td>Mid Term</td>\n",
       "    </tr>\n",
       "    <tr>\n",
       "      <th>15459</th>\n",
       "      <td>36</td>\n",
       "      <td>Completed</td>\n",
       "      <td>0.20053</td>\n",
       "      <td>0.1639</td>\n",
       "      <td>Debt Consolidation</td>\n",
       "      <td>OR</td>\n",
       "      <td>Other</td>\n",
       "      <td>Employed</td>\n",
       "      <td>True</td>\n",
       "      <td>$100,000+</td>\n",
       "      <td>35000</td>\n",
       "      <td>Working</td>\n",
       "      <td>Mid Term</td>\n",
       "    </tr>\n",
       "    <tr>\n",
       "      <th>41694</th>\n",
       "      <td>60</td>\n",
       "      <td>Completed</td>\n",
       "      <td>0.14760</td>\n",
       "      <td>0.1249</td>\n",
       "      <td>Debt Consolidation</td>\n",
       "      <td>PA</td>\n",
       "      <td>Pharmacist</td>\n",
       "      <td>Employed</td>\n",
       "      <td>True</td>\n",
       "      <td>$100,000+</td>\n",
       "      <td>35000</td>\n",
       "      <td>Working</td>\n",
       "      <td>Long Term</td>\n",
       "    </tr>\n",
       "    <tr>\n",
       "      <th>44659</th>\n",
       "      <td>60</td>\n",
       "      <td>Completed</td>\n",
       "      <td>0.16294</td>\n",
       "      <td>0.1399</td>\n",
       "      <td>Debt Consolidation</td>\n",
       "      <td>WI</td>\n",
       "      <td>Professional</td>\n",
       "      <td>Employed</td>\n",
       "      <td>True</td>\n",
       "      <td>$100,000+</td>\n",
       "      <td>35000</td>\n",
       "      <td>Working</td>\n",
       "      <td>Long Term</td>\n",
       "    </tr>\n",
       "    <tr>\n",
       "      <th>46741</th>\n",
       "      <td>36</td>\n",
       "      <td>Completed</td>\n",
       "      <td>0.15833</td>\n",
       "      <td>0.1299</td>\n",
       "      <td>Debt Consolidation</td>\n",
       "      <td>CA</td>\n",
       "      <td>Professional</td>\n",
       "      <td>Employed</td>\n",
       "      <td>True</td>\n",
       "      <td>$100,000+</td>\n",
       "      <td>30000</td>\n",
       "      <td>Working</td>\n",
       "      <td>Mid Term</td>\n",
       "    </tr>\n",
       "    <tr>\n",
       "      <th>49022</th>\n",
       "      <td>36</td>\n",
       "      <td>Completed</td>\n",
       "      <td>0.20462</td>\n",
       "      <td>0.1679</td>\n",
       "      <td>Motorcycle</td>\n",
       "      <td>CT</td>\n",
       "      <td>Accountant/CPA</td>\n",
       "      <td>Employed</td>\n",
       "      <td>True</td>\n",
       "      <td>$100,000+</td>\n",
       "      <td>35000</td>\n",
       "      <td>Working</td>\n",
       "      <td>Mid Term</td>\n",
       "    </tr>\n",
       "    <tr>\n",
       "      <th>50066</th>\n",
       "      <td>60</td>\n",
       "      <td>Completed</td>\n",
       "      <td>0.16294</td>\n",
       "      <td>0.1399</td>\n",
       "      <td>Debt Consolidation</td>\n",
       "      <td>NY</td>\n",
       "      <td>Analyst</td>\n",
       "      <td>Employed</td>\n",
       "      <td>True</td>\n",
       "      <td>$100,000+</td>\n",
       "      <td>34000</td>\n",
       "      <td>Working</td>\n",
       "      <td>Long Term</td>\n",
       "    </tr>\n",
       "    <tr>\n",
       "      <th>51770</th>\n",
       "      <td>36</td>\n",
       "      <td>Past Due</td>\n",
       "      <td>0.17601</td>\n",
       "      <td>0.1399</td>\n",
       "      <td>Vacation</td>\n",
       "      <td>CA</td>\n",
       "      <td>Construction</td>\n",
       "      <td>Employed</td>\n",
       "      <td>True</td>\n",
       "      <td>$100,000+</td>\n",
       "      <td>35000</td>\n",
       "      <td>Working</td>\n",
       "      <td>Mid Term</td>\n",
       "    </tr>\n",
       "    <tr>\n",
       "      <th>56440</th>\n",
       "      <td>36</td>\n",
       "      <td>Completed</td>\n",
       "      <td>0.19645</td>\n",
       "      <td>0.1599</td>\n",
       "      <td>Debt Consolidation</td>\n",
       "      <td>CA</td>\n",
       "      <td>Professional</td>\n",
       "      <td>Employed</td>\n",
       "      <td>True</td>\n",
       "      <td>$100,000+</td>\n",
       "      <td>28000</td>\n",
       "      <td>Working</td>\n",
       "      <td>Mid Term</td>\n",
       "    </tr>\n",
       "    <tr>\n",
       "      <th>61917</th>\n",
       "      <td>60</td>\n",
       "      <td>Completed</td>\n",
       "      <td>0.15783</td>\n",
       "      <td>0.1349</td>\n",
       "      <td>Debt Consolidation</td>\n",
       "      <td>NY</td>\n",
       "      <td>Other</td>\n",
       "      <td>Employed</td>\n",
       "      <td>True</td>\n",
       "      <td>$100,000+</td>\n",
       "      <td>30000</td>\n",
       "      <td>Working</td>\n",
       "      <td>Long Term</td>\n",
       "    </tr>\n",
       "    <tr>\n",
       "      <th>62729</th>\n",
       "      <td>36</td>\n",
       "      <td>Completed</td>\n",
       "      <td>0.14348</td>\n",
       "      <td>0.1153</td>\n",
       "      <td>Debt Consolidation</td>\n",
       "      <td>CA</td>\n",
       "      <td>Computer Programmer</td>\n",
       "      <td>Employed</td>\n",
       "      <td>True</td>\n",
       "      <td>$100,000+</td>\n",
       "      <td>27500</td>\n",
       "      <td>Working</td>\n",
       "      <td>Mid Term</td>\n",
       "    </tr>\n",
       "    <tr>\n",
       "      <th>65984</th>\n",
       "      <td>36</td>\n",
       "      <td>Past Due</td>\n",
       "      <td>0.14857</td>\n",
       "      <td>0.1203</td>\n",
       "      <td>Debt Consolidation</td>\n",
       "      <td>WA</td>\n",
       "      <td>Nurse (RN)</td>\n",
       "      <td>Employed</td>\n",
       "      <td>True</td>\n",
       "      <td>$100,000+</td>\n",
       "      <td>35000</td>\n",
       "      <td>Working</td>\n",
       "      <td>Mid Term</td>\n",
       "    </tr>\n",
       "    <tr>\n",
       "      <th>79411</th>\n",
       "      <td>36</td>\n",
       "      <td>Completed</td>\n",
       "      <td>0.12274</td>\n",
       "      <td>0.0949</td>\n",
       "      <td>Business</td>\n",
       "      <td>WA</td>\n",
       "      <td>Professional</td>\n",
       "      <td>Employed</td>\n",
       "      <td>True</td>\n",
       "      <td>$100,000+</td>\n",
       "      <td>35000</td>\n",
       "      <td>Working</td>\n",
       "      <td>Mid Term</td>\n",
       "    </tr>\n",
       "    <tr>\n",
       "      <th>81597</th>\n",
       "      <td>60</td>\n",
       "      <td>Completed</td>\n",
       "      <td>0.20593</td>\n",
       "      <td>0.1819</td>\n",
       "      <td>Business</td>\n",
       "      <td>UT</td>\n",
       "      <td>Other</td>\n",
       "      <td>Employed</td>\n",
       "      <td>True</td>\n",
       "      <td>$100,000+</td>\n",
       "      <td>35000</td>\n",
       "      <td>Working</td>\n",
       "      <td>Long Term</td>\n",
       "    </tr>\n",
       "    <tr>\n",
       "      <th>82248</th>\n",
       "      <td>36</td>\n",
       "      <td>Completed</td>\n",
       "      <td>0.14857</td>\n",
       "      <td>0.1203</td>\n",
       "      <td>Debt Consolidation</td>\n",
       "      <td>CA</td>\n",
       "      <td>Professional</td>\n",
       "      <td>Employed</td>\n",
       "      <td>True</td>\n",
       "      <td>$100,000+</td>\n",
       "      <td>30000</td>\n",
       "      <td>Working</td>\n",
       "      <td>Mid Term</td>\n",
       "    </tr>\n",
       "    <tr>\n",
       "      <th>83858</th>\n",
       "      <td>36</td>\n",
       "      <td>Completed</td>\n",
       "      <td>0.12081</td>\n",
       "      <td>0.0930</td>\n",
       "      <td>Debt Consolidation</td>\n",
       "      <td>WY</td>\n",
       "      <td>Engineer - Mechanical</td>\n",
       "      <td>Employed</td>\n",
       "      <td>True</td>\n",
       "      <td>$100,000+</td>\n",
       "      <td>30000</td>\n",
       "      <td>Working</td>\n",
       "      <td>Mid Term</td>\n",
       "    </tr>\n",
       "    <tr>\n",
       "      <th>90748</th>\n",
       "      <td>36</td>\n",
       "      <td>Past Due</td>\n",
       "      <td>0.20053</td>\n",
       "      <td>0.1639</td>\n",
       "      <td>Debt Consolidation</td>\n",
       "      <td>NY</td>\n",
       "      <td>Construction</td>\n",
       "      <td>Employed</td>\n",
       "      <td>False</td>\n",
       "      <td>$100,000+</td>\n",
       "      <td>35000</td>\n",
       "      <td>Working</td>\n",
       "      <td>Mid Term</td>\n",
       "    </tr>\n",
       "    <tr>\n",
       "      <th>94875</th>\n",
       "      <td>60</td>\n",
       "      <td>Completed</td>\n",
       "      <td>0.13227</td>\n",
       "      <td>0.1099</td>\n",
       "      <td>Business</td>\n",
       "      <td>VA</td>\n",
       "      <td>Attorney</td>\n",
       "      <td>Employed</td>\n",
       "      <td>True</td>\n",
       "      <td>$100,000+</td>\n",
       "      <td>35000</td>\n",
       "      <td>Working</td>\n",
       "      <td>Long Term</td>\n",
       "    </tr>\n",
       "    <tr>\n",
       "      <th>96715</th>\n",
       "      <td>60</td>\n",
       "      <td>Past Due</td>\n",
       "      <td>0.17522</td>\n",
       "      <td>0.1519</td>\n",
       "      <td>Debt Consolidation</td>\n",
       "      <td>IN</td>\n",
       "      <td>Sales - Commission</td>\n",
       "      <td>Employed</td>\n",
       "      <td>True</td>\n",
       "      <td>$100,000+</td>\n",
       "      <td>35000</td>\n",
       "      <td>Working</td>\n",
       "      <td>Long Term</td>\n",
       "    </tr>\n",
       "    <tr>\n",
       "      <th>101601</th>\n",
       "      <td>36</td>\n",
       "      <td>Completed</td>\n",
       "      <td>0.14409</td>\n",
       "      <td>0.1159</td>\n",
       "      <td>Debt Consolidation</td>\n",
       "      <td>TX</td>\n",
       "      <td>Skilled Labor</td>\n",
       "      <td>Employed</td>\n",
       "      <td>False</td>\n",
       "      <td>$100,000+</td>\n",
       "      <td>30000</td>\n",
       "      <td>Working</td>\n",
       "      <td>Mid Term</td>\n",
       "    </tr>\n",
       "    <tr>\n",
       "      <th>108637</th>\n",
       "      <td>36</td>\n",
       "      <td>FinalPaymentInProgress</td>\n",
       "      <td>0.14409</td>\n",
       "      <td>0.1159</td>\n",
       "      <td>Other</td>\n",
       "      <td>CA</td>\n",
       "      <td>Other</td>\n",
       "      <td>Employed</td>\n",
       "      <td>True</td>\n",
       "      <td>$100,000+</td>\n",
       "      <td>31000</td>\n",
       "      <td>Working</td>\n",
       "      <td>Mid Term</td>\n",
       "    </tr>\n",
       "  </tbody>\n",
       "</table>\n",
       "</div>"
      ],
      "text/plain": [
       "       TermMonths              LoanStatus  BorrowerAPR  BorrowerRate  \\\n",
       "2636           36                Past Due      0.17754        0.1414   \n",
       "10825          36               Completed      0.13138        0.1034   \n",
       "15459          36               Completed      0.20053        0.1639   \n",
       "41694          60               Completed      0.14760        0.1249   \n",
       "44659          60               Completed      0.16294        0.1399   \n",
       "46741          36               Completed      0.15833        0.1299   \n",
       "49022          36               Completed      0.20462        0.1679   \n",
       "50066          60               Completed      0.16294        0.1399   \n",
       "51770          36                Past Due      0.17601        0.1399   \n",
       "56440          36               Completed      0.19645        0.1599   \n",
       "61917          60               Completed      0.15783        0.1349   \n",
       "62729          36               Completed      0.14348        0.1153   \n",
       "65984          36                Past Due      0.14857        0.1203   \n",
       "79411          36               Completed      0.12274        0.0949   \n",
       "81597          60               Completed      0.20593        0.1819   \n",
       "82248          36               Completed      0.14857        0.1203   \n",
       "83858          36               Completed      0.12081        0.0930   \n",
       "90748          36                Past Due      0.20053        0.1639   \n",
       "94875          60               Completed      0.13227        0.1099   \n",
       "96715          60                Past Due      0.17522        0.1519   \n",
       "101601         36               Completed      0.14409        0.1159   \n",
       "108637         36  FinalPaymentInProgress      0.14409        0.1159   \n",
       "\n",
       "           ListingCategory BorrowerState             Occupation  \\\n",
       "2636    Debt Consolidation            FL    Computer Programmer   \n",
       "10825             Business            CA    Computer Programmer   \n",
       "15459   Debt Consolidation            OR                  Other   \n",
       "41694   Debt Consolidation            PA             Pharmacist   \n",
       "44659   Debt Consolidation            WI           Professional   \n",
       "46741   Debt Consolidation            CA           Professional   \n",
       "49022           Motorcycle            CT         Accountant/CPA   \n",
       "50066   Debt Consolidation            NY                Analyst   \n",
       "51770             Vacation            CA           Construction   \n",
       "56440   Debt Consolidation            CA           Professional   \n",
       "61917   Debt Consolidation            NY                  Other   \n",
       "62729   Debt Consolidation            CA    Computer Programmer   \n",
       "65984   Debt Consolidation            WA             Nurse (RN)   \n",
       "79411             Business            WA           Professional   \n",
       "81597             Business            UT                  Other   \n",
       "82248   Debt Consolidation            CA           Professional   \n",
       "83858   Debt Consolidation            WY  Engineer - Mechanical   \n",
       "90748   Debt Consolidation            NY           Construction   \n",
       "94875             Business            VA               Attorney   \n",
       "96715   Debt Consolidation            IN     Sales - Commission   \n",
       "101601  Debt Consolidation            TX          Skilled Labor   \n",
       "108637               Other            CA                  Other   \n",
       "\n",
       "       EmploymentStatus  IsBorrowerHomeowner IncomeRange  LoanOriginalAmount  \\\n",
       "2636           Employed                False   $100,000+               35000   \n",
       "10825          Employed                 True   $100,000+               34000   \n",
       "15459          Employed                 True   $100,000+               35000   \n",
       "41694          Employed                 True   $100,000+               35000   \n",
       "44659          Employed                 True   $100,000+               35000   \n",
       "46741          Employed                 True   $100,000+               30000   \n",
       "49022          Employed                 True   $100,000+               35000   \n",
       "50066          Employed                 True   $100,000+               34000   \n",
       "51770          Employed                 True   $100,000+               35000   \n",
       "56440          Employed                 True   $100,000+               28000   \n",
       "61917          Employed                 True   $100,000+               30000   \n",
       "62729          Employed                 True   $100,000+               27500   \n",
       "65984          Employed                 True   $100,000+               35000   \n",
       "79411          Employed                 True   $100,000+               35000   \n",
       "81597          Employed                 True   $100,000+               35000   \n",
       "82248          Employed                 True   $100,000+               30000   \n",
       "83858          Employed                 True   $100,000+               30000   \n",
       "90748          Employed                False   $100,000+               35000   \n",
       "94875          Employed                 True   $100,000+               35000   \n",
       "96715          Employed                 True   $100,000+               35000   \n",
       "101601         Employed                False   $100,000+               30000   \n",
       "108637         Employed                 True   $100,000+               31000   \n",
       "\n",
       "       JobStatus       Term  \n",
       "2636     Working   Mid Term  \n",
       "10825    Working   Mid Term  \n",
       "15459    Working   Mid Term  \n",
       "41694    Working  Long Term  \n",
       "44659    Working  Long Term  \n",
       "46741    Working   Mid Term  \n",
       "49022    Working   Mid Term  \n",
       "50066    Working  Long Term  \n",
       "51770    Working   Mid Term  \n",
       "56440    Working   Mid Term  \n",
       "61917    Working  Long Term  \n",
       "62729    Working   Mid Term  \n",
       "65984    Working   Mid Term  \n",
       "79411    Working   Mid Term  \n",
       "81597    Working  Long Term  \n",
       "82248    Working   Mid Term  \n",
       "83858    Working   Mid Term  \n",
       "90748    Working   Mid Term  \n",
       "94875    Working  Long Term  \n",
       "96715    Working  Long Term  \n",
       "101601   Working   Mid Term  \n",
       "108637   Working   Mid Term  "
      ]
     },
     "execution_count": 67,
     "metadata": {},
     "output_type": "execute_result"
    }
   ],
   "source": [
    "#investigate outliers \n",
    "loans_clean.query('LoanOriginalAmount > 27000 and LoanOriginalAmount < 36000')\n"
   ]
  },
  {
   "cell_type": "markdown",
   "metadata": {},
   "source": [
    "These outliers are quite valid, and so will not be dropped."
   ]
  },
  {
   "cell_type": "markdown",
   "metadata": {},
   "source": [
    "##### What income range do most borrowers belong in?"
   ]
  },
  {
   "cell_type": "code",
   "execution_count": 68,
   "metadata": {},
   "outputs": [],
   "source": [
    "#obtain number of count for each income range \n",
    "range1 = loans_clean.query('IncomeRange == \"$0\"').IncomeRange.count()\n",
    "range2 = loans_clean.query('IncomeRange == \"$1-24,999\"').IncomeRange.count() \n",
    "range3 = loans_clean.query('IncomeRange == \"$25,000-49,999\"').IncomeRange.count() \n",
    "range4 = loans_clean.query('IncomeRange == \"$50,000-74,999\"').IncomeRange.count() \n",
    "range5 = loans_clean.query('IncomeRange == \"$75,000-99,999\"').IncomeRange.count() \n",
    "range6 = loans_clean.query('IncomeRange == \"$100,000+\"').IncomeRange.count() \n",
    "\n"
   ]
  },
  {
   "cell_type": "code",
   "execution_count": 69,
   "metadata": {},
   "outputs": [
    {
     "data": {
      "image/png": "[encoded data removed]",
      "text/plain": [
       "<Figure size 432x288 with 1 Axes>"
      ]
     },
     "metadata": {
      "needs_background": "light"
     },
     "output_type": "display_data"
    }
   ],
   "source": [
    "#visualize the income range variable\n",
    "x_num = np.arange(6) \n",
    "y_values = [range1, range2, range3, range4, range5, range6] \n",
    "x_labels = [\"$0\", \"$1-24,999\", \"$25,000-49,999\", \"$50,000-74,999\", \"$75,000-99,999\", \"$100,000+\"] \n",
    "\n",
    "\n",
    "#plot \n",
    "plt.bar(x_num, y_values, tick_label = x_labels)\n",
    "plt.xticks(rotation = 90)\n",
    "plt.xlabel(\"Income Range\")\n",
    "plt.title(\"Distribution of the Income Range of Borrowers\") ;\n"
   ]
  },
  {
   "cell_type": "markdown",
   "metadata": {},
   "source": [
    "##### Observations \n",
    "- Most of the borrowers have an income range of \\\\$75,000-99,999. This is closely followed by borrowers in the \\\\$100,000+ income range.\n",
    "- Borrowers in the \\\\$0 income range are the least. \n",
    "- There are more borrowers in the \\\\$1-24,999 income range than there are in \\\\$0 income range, but they are less than those in \\\\$100,000+ income range.\n",
    "-Lastly, there are no borrowers in the \\\\$25,000-49,999 and \\\\$50,000-74,999 income range.<br>\n",
    "\n",
    "\n",
    "##### Are there more borrowers with job than there are those without?"
   ]
  },
  {
   "cell_type": "code",
   "execution_count": 70,
   "metadata": {},
   "outputs": [
    {
     "data": {
      "image/png": "[encoded data removed]",
      "text/plain": [
       "<Figure size 432x288 with 1 Axes>"
      ]
     },
     "metadata": {
      "needs_background": "light"
     },
     "output_type": "display_data"
    }
   ],
   "source": [
    "#visualize the job status variable \n",
    "sb.countplot(data = loans_clean, x = \"JobStatus\", color = base_color)\n",
    "\n",
    "plt.xlabel(\"Job Status\")\n",
    "plt.title(\"Distribution of Borrowers' Job Status\"); \n"
   ]
  },
  {
   "cell_type": "markdown",
   "metadata": {},
   "source": [
    "##### Observations \n",
    "- There are only a few borrowers without a job.\n",
    "- There is a large difference in number between borrowers with job and borrowers without jobs.<br>\n",
    "\n",
    "Below, the __EmploymentStatus__ variable will be visualized to further explain the reason for the large difference between borrowers that are working and those not working.<br>\n",
    "\n",
    "##### What employment status has the highest frequency?"
   ]
  },
  {
   "cell_type": "code",
   "execution_count": 71,
   "metadata": {
    "scrolled": true
   },
   "outputs": [
    {
     "data": {
      "image/png": "[encoded data removed]",
      "text/plain": [
       "<Figure size 432x288 with 1 Axes>"
      ]
     },
     "metadata": {
      "needs_background": "light"
     },
     "output_type": "display_data"
    }
   ],
   "source": [
    "#visualize employment status \n",
    "#choose color of bars\n",
    "color5 = sb.color_palette()[4]\n",
    "\n",
    "#create order from highest to least\n",
    "group_order = loans_clean.EmploymentStatus.value_counts().index\n",
    "\n",
    "#plot\n",
    "sb.countplot(data = loans_clean, x = \"EmploymentStatus\", color = color5, order = group_order)\n",
    "plt.xticks(rotation = 90)\n",
    "plt.xlabel(\"Employment Status\")\n",
    "plt.title(\"Distribution of the Employment Status of Borrowers\");\n"
   ]
  },
  {
   "cell_type": "markdown",
   "metadata": {},
   "source": [
    "##### Observations \n",
    "- The highest employment status count belongs to borrowers with \"Employed\" status, followed by those with \"Full-Time\" status. \n",
    "- The count of borrowers with \"Self-Employed\", \"Not-Employed\", \"Part-Time\", and \"Retired\" statuses are relatively less than the count of borrowers with \"Employed\" and \"Full-Time\" employment statuses.\n",
    "- There are more self-employed borrowers than not employed and part-time borrowers.\n",
    "- The \"Not Employed\" bar looks almost equal / slightly less than the \"Part-Time\" status bar.\n",
    "- Retired borrowers are the least. <br>\n",
    "\n",
    "This explains the large difference between the number of borrowers with jobs and those without.<br> \n",
    "\n",
    "\n",
    "##### What listing category has the highest proportion?"
   ]
  },
  {
   "cell_type": "code",
   "execution_count": 72,
   "metadata": {},
   "outputs": [],
   "source": [
    "#assign value counts of ListingCategory column to a variable\n",
    "col_count = loans_clean.ListingCategory.value_counts()\n",
    "\n",
    "#obtain total sum of values in ListingCategory column  \n",
    "total_sum = col_count.sum() \n"
   ]
  },
  {
   "cell_type": "code",
   "execution_count": 73,
   "metadata": {},
   "outputs": [],
   "source": [
    "#create group order from highest count of values to least \n",
    "group_order = loans_clean.ListingCategory.value_counts().index\n",
    "\n",
    "#create tick marks and labels for x-axis\n",
    "ticks = [1, 2, 5, 10, 20, 50, 100, 200, 500, 1000, 2000, 5000, 10000]\n",
    "x_labels = ['{}'.format(tick) for tick in ticks]\n"
   ]
  },
  {
   "cell_type": "code",
   "execution_count": 74,
   "metadata": {
    "scrolled": true
   },
   "outputs": [
    {
     "data": {
      "image/png": "[encoded data removed]",
      "text/plain": [
       "<Figure size 432x288 with 1 Axes>"
      ]
     },
     "metadata": {
      "needs_background": "light"
     },
     "output_type": "display_data"
    }
   ],
   "source": [
    "#visualize proportion of each listing category \n",
    "#plot a horizontal bar chart\n",
    "ax = sb.countplot(data = loans_clean, y = \"ListingCategory\", color = base_color, order = group_order)\n",
    "\n",
    "#rescale the x-axis in logarithm\n",
    "plt.xscale(\"log\")\n",
    "\n",
    "plt.xticks(ticks, x_labels)\n",
    "plt.xticks(rotation = 90)\n",
    "plt.ylabel(\"Listing Category\");\n",
    "\n",
    "#turn off top, bottom, right, and left spine \n",
    "ax.spines[\"top\"].set_visible(False)\n",
    "ax.spines[\"bottom\"].set_visible(False)\n",
    "ax.spines[\"right\"].set_visible(False) \n",
    "ax.spines[\"left\"].set_visible(False)\n",
    "\n",
    "#turn off x-axis \n",
    "ax.get_xaxis().set_visible(False)\n",
    "\n",
    "#include the proportion of each listing category as text om their appropriate bars \n",
    "for i in range(col_count.shape[0]): \n",
    "    count = col_count[i] \n",
    "    count_str = \"{:0.2}\".format(count / total_sum) \n",
    "    plt.text(count + 2, i, count_str, va = \"center\") \n",
    "    \n",
    "plt.title(\"Proportional Distribution of Listing Category\");\n",
    "    "
   ]
  },
  {
   "cell_type": "markdown",
   "metadata": {},
   "source": [
    "##### Observations \n",
    "- Almost half the listings are for debt consolidation.\n",
    "- Only approximately 2% of listings are for student use.<br> \n",
    "\n",
    "\n",
    "##### Are there more loans with longer loan lengths?"
   ]
  },
  {
   "cell_type": "code",
   "execution_count": 75,
   "metadata": {},
   "outputs": [
    {
     "data": {
      "image/png": "[encoded data removed]",
      "text/plain": [
       "<Figure size 432x288 with 1 Axes>"
      ]
     },
     "metadata": {
      "needs_background": "light"
     },
     "output_type": "display_data"
    }
   ],
   "source": [
    "#visualize Term variable \n",
    "#choose color of bars \n",
    "color6 = sb.color_palette()[5]\n",
    "\n",
    "#plot\n",
    "sb.countplot(data = loans_clean, x = \"Term\", color = color6)\n",
    "\n",
    "plt.xlabel(\"Loan Length\")\n",
    "plt.title(\"Loan Length Distribution\");\n",
    "             "
   ]
  },
  {
   "cell_type": "markdown",
   "metadata": {},
   "source": [
    "##### Observations \n",
    "\n",
    "- There are by far more mid term loans than there are long term and short term loans.\n",
    "- Short term loans are the fewest "
   ]
  },
  {
   "cell_type": "markdown",
   "metadata": {},
   "source": [
    "### Discuss the distribution(s) of your variable(s) of interest. Were there any unusual points? Did you need to perform any transformations?<br> \n",
    "\n",
    "The loan status was unevenly distributed across completed, charged off, past due, defaulted, and final payment in progress. The majority of the loans were completed, and this was followed by loans charged off. Loans with final payment in progress had the least number of counts or frequency, and there was only a small difference between the number of loans past due and the number of defaulted loans.<br>  \n",
    "\n",
    "There were more borrowers with an income range of \\\\$75,000-99,999, and this was closely followed by borrowers with an income range of \\\\$100,000+. Fewer borrowers were in the \\\\$0 income range, and the borrowers in the \\\\$1-24,999 income range were greater than those in the \\\\$0 range by a wide margin but less than those in the \\\\$100,00+ range.<br> \n",
    "\n",
    "The frequency of borrowers working in the job status variable was by far more than those not working.<br> \n",
    "\n",
    "Almost half the values in the listing category were \"Debt Consolidation\", with the least being \"RV\" with only a percentage proportion of 0.035%. Also, only approximately 2% of the listings were for \"Student Use\".<br> \n",
    "The scale of the x-axis (axis representing count/frequency) was transformed to a log scale because of the large values its large range of values.<br>\n",
    "\n",
    "Compared to mid term loans, there were only a few long and short term loans, as more than half the loans were mid term. Short term loans were the least in number.<br>\n",
    "\n",
    "\n",
    "\n",
    "### Of the features you investigated, were there any unusual distributions? Did you perform any operations on the data to tidy, adjust, or change the form of the data? If so, why did you do this?<br>\n",
    "\n",
    "In the interest rate variable (__BorrowerRate__), there were some outliers on both extremes (high and low). The interest rate values were considered either too high or too low when compared with the trend of interest rate for their loan amount, and the rows were dropped to be safe.<br> \n",
    "\n",
    "Outliers were also present in the loan amount variable (__LoanOriginalAmount__), but these rows were not dropped as they were considered valid.\n",
    "\n"
   ]
  },
  {
   "cell_type": "markdown",
   "metadata": {},
   "source": [
    "<a id=\"bivariate\"><\\a>"
   ]
  },
  {
   "cell_type": "markdown",
   "metadata": {},
   "source": [
    "## Bivariate Exploration\n",
    "\n",
    "In this section, relationships between pairs of variables in the dataset will be investigated. "
   ]
  },
  {
   "cell_type": "markdown",
   "metadata": {},
   "source": [
    "##### Does loan length affect loan status?"
   ]
  },
  {
   "cell_type": "code",
   "execution_count": 76,
   "metadata": {},
   "outputs": [
    {
     "name": "stderr",
     "output_type": "stream",
     "text": [
      "/data/user/0/ru.iiec.pydroid3/files/aarch64-linux-android/lib/python3.9/site-packages/seaborn/axisgrid.py:670: UserWarning: Using the countplot function without specifying `order` is likely to produce an incorrect plot.\n",
      "  warnings.warn(warning)\n"
     ]
    },
    {
     "data": {
      "image/png": "[encoded data removed]",
      "text/plain": [
       "<Figure size 648x216 with 3 Axes>"
      ]
     },
     "metadata": {
      "needs_background": "light"
     },
     "output_type": "display_data"
    }
   ],
   "source": [
    "#visualize\n",
    "g = sb.FacetGrid(data = loans_clean, col = \"Term\", sharey = False)\n",
    "g.map(sb.countplot, \"LoanStatus\");\n",
    "\n",
    "for ax in g.axes.flat: \n",
    "    label = ax.get_xticklabels()\n",
    "    ax.set_xticklabels(label, rotation = 90)\n",
    "    ax.set_xlabel(\"Loan Status\");\n",
    "\n",
    "#set title of figure\n",
    "plt.suptitle(\"Loan Status Distribution by Loan Length\", y = 1.1);\n",
    " \n"
   ]
  },
  {
   "cell_type": "markdown",
   "metadata": {},
   "source": [
    "##### Observations\n",
    "\n",
    "__Short Term__<br>\n",
    "- Most loans are completed.\n",
    "- Only a very few loans are charged off or defaulted or have their final payment in progress.\n",
    "- The amount of loans past due are more that those charged off, defaulted, or that have their final payment in progress, but is by far less than completed loans.<br>\n",
    "\n",
    "__Mid Term__<br>\n",
    "- The majority of the loans are completed, and only a very few have their final payment in progress. \n",
    "- An amount of the loans far less than that of loans that are completed, but greater than those of loans that are past due, defaulted, and have their final payment in progress are charged off.\n",
    "- Loans that are past due are present in the same amount as defaulted loans.<br> \n",
    "\n",
    "__Long Term__<br>\n",
    "- More loans are completed than charged off or past due or defaulted. \n",
    "- Less than half the loans are charged off.\n",
    "- There is a slight decrease from the number of loans charged off to the number of loans past due.\n",
    "- Only a very few loans are defaulted, and fewer have their final payment in progress."
   ]
  },
  {
   "cell_type": "markdown",
   "metadata": {},
   "source": [
    "##### What is the effect of loan amount on loan status?"
   ]
  },
  {
   "cell_type": "code",
   "execution_count": 77,
   "metadata": {},
   "outputs": [
    {
     "data": {
      "image/png": "[encoded data removed]",
      "text/plain": [
       "<Figure size 432x288 with 1 Axes>"
      ]
     },
     "metadata": {
      "needs_background": "light"
     },
     "output_type": "display_data"
    }
   ],
   "source": [
    "sb.boxplot(data = loans_clean, x = \"LoanStatus\", y = \"LoanOriginalAmount\", \n",
    "              color = base_color, order = [\"FinalPaymentInProgress\", \"Past Due\", \n",
    "                                           \"Completed\", \"Chargedoff\", \"Defaulted\"])\n",
    "\n",
    "plt.xticks(rotation = 90)\n",
    "plt.xlabel(\"Loan Status\")\n",
    "plt.ylabel(\"Loan Amount($)\")\n",
    "plt.title(\"Effect of Loan Amount on Loan Status\"); \n"
   ]
  },
  {
   "cell_type": "markdown",
   "metadata": {},
   "source": [
    "##### Observations \n",
    "\n",
    "- Generally, as the loan amount decreases, it goes from final payment in progress to past due to completed and then to defaulted and chargedoff.\n",
    "- There are high outlier loan amounts with past due and completed statuses."
   ]
  },
  {
   "cell_type": "markdown",
   "metadata": {},
   "source": [
    "##### What percentage of loans taken for student use gets completed?"
   ]
  },
  {
   "cell_type": "code",
   "execution_count": 78,
   "metadata": {},
   "outputs": [],
   "source": [
    "#select out rows with listing category as Student Use\n",
    "student_use = loans_clean.query('ListingCategory == \"Student Use\"')\n",
    "\n",
    "#get the count for each loan status\n",
    "loan_stats_count = student_use.LoanStatus.value_counts() \n",
    "\n",
    "#get the total number of loan status values \n",
    "total_student_stats = loan_stats_count.sum()\n",
    "\n",
    "#obtain status order for the student use data \n",
    "stat_order = loan_stats_count.index\n"
   ]
  },
  {
   "cell_type": "code",
   "execution_count": 79,
   "metadata": {},
   "outputs": [
    {
     "data": {
      "image/png": "[encoded data removed]",
      "text/plain": [
       "<Figure size 432x288 with 1 Axes>"
      ]
     },
     "metadata": {
      "needs_background": "light"
     },
     "output_type": "display_data"
    }
   ],
   "source": [
    "#visualize \n",
    "g = sb.countplot(data = student_use, y = \"LoanStatus\", color = base_color, \n",
    "            order = stat_order)\n",
    "\n",
    "#input percentage of each status as texts on their respective bars\n",
    "for i in range(loan_stats_count.shape[0]):\n",
    "    count = loan_stats_count[i]\n",
    "    pct_text = \"{:0.2f}%\".format(100 * (count/total_student_stats))\n",
    "    plt.text(count + 15, i , pct_text, ha = \"center\");  \n",
    "    \n",
    "#remove spines \n",
    "g.spines[\"top\"].set_visible(False)\n",
    "g.spines[\"right\"].set_visible(False)\n",
    "g.spines[\"left\"].set_visible(False)\n",
    "g.spines[\"bottom\"].set_visible(False)\n",
    "\n",
    "#remove y-axis \n",
    "g.get_xaxis().set_visible(False)\n",
    "\n",
    "plt.ylabel(\"Loan Status\")\n",
    "plt.title(\"Percentage Proportion of Loan Status for Loans Taken for Student Use\");\n"
   ]
  },
  {
   "cell_type": "markdown",
   "metadata": {},
   "source": [
    "##### Observations<br> \n",
    "\n",
    "- More than half the loans are completed \n",
    "- A few percent of the loans were charged off and defaulted, with charged-off loans being more than defaulted loans."
   ]
  },
  {
   "cell_type": "markdown",
   "metadata": {},
   "source": [
    "##### How does the length of a loan affect interest rate?"
   ]
  },
  {
   "cell_type": "code",
   "execution_count": 80,
   "metadata": {},
   "outputs": [
    {
     "data": {
      "image/png": "[encoded data removed]",
      "text/plain": [
       "<Figure size 1080x360 with 2 Axes>"
      ]
     },
     "metadata": {
      "needs_background": "light"
     },
     "output_type": "display_data"
    }
   ],
   "source": [
    "#set fig size \n",
    "plt.figure(figsize = (15, 5))\n",
    "\n",
    "#subplot for point plot \n",
    "plt.subplot(1, 2, 1)\n",
    "g = sb.pointplot(data = loans_clean, x = \"Term\", y = \"BorrowerRate\",\n",
    "             color = base_color);\n",
    "#remove top and right spines\n",
    "g.spines[\"top\"].set_visible(False)\n",
    "g.spines[\"right\"].set_visible(False)\n",
    "plt.xlabel(\"Loan Length\") \n",
    "plt.ylabel(\"Average Interest Rate\")\n",
    "\n",
    "\n",
    "\n",
    "#subplot for violin plot\n",
    "plt.subplot(1, 2, 2) \n",
    "sb.violinplot(data = loans_clean, x = \"Term\", y = \"BorrowerRate\", \n",
    "              color = base_color, inner = \"quartile\"); \n",
    "plt.xlabel(\"Loan Length\") \n",
    "plt.ylabel(\"Interest Rate\")\n",
    "\n",
    "#set title of figure\n",
    "plt.suptitle(\"Effect of Loan Length on Interest Rate\");\n"
   ]
  },
  {
   "cell_type": "markdown",
   "metadata": {},
   "source": [
    "##### Observations \n",
    "- There is a positive relationship between both variables.\n",
    "- The distributions are multimodal. \n",
    "- Generally, there is an increase in interest rate from short term to long term.\n",
    "- Most of the interest rate values for long term loans are between 0.15 and 0.27."
   ]
  },
  {
   "cell_type": "markdown",
   "metadata": {},
   "source": [
    "##### Are higher loan amount usually associated with long loan length?"
   ]
  },
  {
   "cell_type": "code",
   "execution_count": 81,
   "metadata": {},
   "outputs": [
    {
     "data": {
      "image/png": "[encoded data removed]",
      "text/plain": [
       "<Figure size 432x288 with 1 Axes>"
      ]
     },
     "metadata": {
      "needs_background": "light"
     },
     "output_type": "display_data"
    }
   ],
   "source": [
    "#visualize\n",
    "sb.violinplot(data = loans_clean, x = \"Term\", y = \"LoanOriginalAmount\", \n",
    "              color = base_color, inner = \"quartile\");\n",
    "\n",
    "\n",
    "plt.xlabel(\"Loan Length\") \n",
    "plt.ylabel(\"Loan Amount($)\")\n",
    "plt.title(\"Distribution of Loan Amount by Length of Loan\");\n",
    "\n"
   ]
  },
  {
   "cell_type": "markdown",
   "metadata": {},
   "source": [
    "##### Observations \n",
    "\n",
    "- The relationship is positive. There is an increase in loan amount as loan length increases.\n",
    "- The distributions are multimodal. \n",
    "- Most short term loans are less than \\\\$5,000.\n",
    "- Long term loans has its highest distribution of loan amount at about \\\\$15,000."
   ]
  },
  {
   "cell_type": "markdown",
   "metadata": {},
   "source": [
    "##### Does loan amount increase with increasing income range?"
   ]
  },
  {
   "cell_type": "code",
   "execution_count": 82,
   "metadata": {},
   "outputs": [],
   "source": [
    "#obtain the average loan amount for each income range values \n",
    "range1_mean = loans_clean[loans_clean[\"IncomeRange\"] == \"$0\"].LoanOriginalAmount.mean() \n",
    "range2_mean = loans_clean[loans_clean[\"IncomeRange\"] == \"$1-24,999\"].LoanOriginalAmount.mean() \n",
    "range3_mean = loans_clean[loans_clean[\"IncomeRange\"] == \"$25,000-49,999\"].LoanOriginalAmount.mean() \n",
    "range4_mean = loans_clean[loans_clean[\"IncomeRange\"] == \"$50,000-74,999\"].LoanOriginalAmount.mean() \n",
    "range5_mean = loans_clean[loans_clean[\"IncomeRange\"] == \"$75,000-99,999\"].LoanOriginalAmount.mean() \n",
    "range6_mean = loans_clean[loans_clean[\"IncomeRange\"] == \"$100,000+\"].LoanOriginalAmount.mean() \n",
    "\n"
   ]
  },
  {
   "cell_type": "code",
   "execution_count": 83,
   "metadata": {},
   "outputs": [],
   "source": [
    "#set parameters for bar plot\n",
    "x_num = np.arange(6) \n",
    "y_values = [range1_mean, range2_mean, range3_mean, range4_mean, range5_mean,\n",
    "            range6_mean]\n",
    "labels = [\"$0\", \"$1-24,999\", \"$25,000-49,999\", \n",
    "          \"$50,000-74,999\", \"$75,000-99,999\",\n",
    "          \"$100,000+\"]"
   ]
  },
  {
   "cell_type": "code",
   "execution_count": 84,
   "metadata": {},
   "outputs": [
    {
     "data": {
      "image/png": "[encoded data removed]",
      "text/plain": [
       "<Figure size 432x288 with 1 Axes>"
      ]
     },
     "metadata": {
      "needs_background": "light"
     },
     "output_type": "display_data"
    }
   ],
   "source": [
    "#plot bar plot \n",
    "plt.bar(x_num, y_values, tick_label = labels)\n",
    "plt.xticks(rotation = 90)\n",
    "plt.xlabel(\"Income Range\")\n",
    "plt.ylabel(\"Average Loan Amount ($)\");\n",
    "plt.title(\"Distribution of Loan Amount by Income Range\"); \n"
   ]
  },
  {
   "cell_type": "markdown",
   "metadata": {},
   "source": [
    "###### Observations \n",
    "\n",
    "- The average loan amount of the \\\\$1-24,999 income range is slightly less than that of the \\\\$0 income range.\n",
    "- Generally, there is an increase in loan amount from the \\\\$0 income range to \\\\$100,000+.\n"
   ]
  },
  {
   "cell_type": "markdown",
   "metadata": {},
   "source": [
    "##### Are borrowers who take loans for debt consolidation mostly high-income earners? <br>\n",
    "\n",
    "From the univariate exploration of this dataset, it has been established that there are no borrowers in the \\\\$25,000-49,999 and \\\\$50,000-74,999 income range. Hence the low-income range in this analysis will only consist of the \\\\$0 and \\\\$1-24,999 income ranges, and the high-income ranges are \\\\$75,000-99,999 and \\\\$100,000+."
   ]
  },
  {
   "cell_type": "code",
   "execution_count": 85,
   "metadata": {},
   "outputs": [],
   "source": [
    "#filter out debt consolidation rows \n",
    "debt_cons = loans_clean[loans_clean[\"ListingCategory\"] == \"Debt Consolidation\"] \n",
    "\n",
    "#select out the count of each income range \n",
    "cons_inc1 = debt_cons[debt_cons[\"IncomeRange\"] == \"$0\"].IncomeRange.count()\n",
    "cons_inc2 = debt_cons[debt_cons[\"IncomeRange\"] == \"$1-24,999\"].IncomeRange.count()\n",
    "cons_inc3 = debt_cons[debt_cons[\"IncomeRange\"] == \"$25,000-49,999\"].IncomeRange.count() \n",
    "cons_inc4 = debt_cons[debt_cons[\"IncomeRange\"] == \"$50,000-74,999\"].IncomeRange.count() \n",
    "cons_inc5 = debt_cons[debt_cons[\"IncomeRange\"] == \"$75,000-99,999\"].IncomeRange.count()\n",
    "cons_inc6 = debt_cons[debt_cons[\"IncomeRange\"] == \"$100,000+\"].IncomeRange.count()\n",
    "\n"
   ]
  },
  {
   "cell_type": "code",
   "execution_count": 86,
   "metadata": {},
   "outputs": [],
   "source": [
    "#get total value for low income earners \n",
    "#sum of count for income range $0 - $74,999\n",
    "total_low_inc = cons_inc1 + cons_inc2\n",
    "\n",
    "\n",
    "#get total value for higher income earners \n",
    "#sum of count for income range $75,000-99,999\n",
    "#and $100,0000+ \n",
    "total_high_inc = cons_inc5 + cons_inc6\n"
   ]
  },
  {
   "cell_type": "code",
   "execution_count": 87,
   "metadata": {},
   "outputs": [
    {
     "data": {
      "image/png": "[encoded data removed]",
      "text/plain": [
       "<Figure size 432x288 with 1 Axes>"
      ]
     },
     "metadata": {
      "needs_background": "light"
     },
     "output_type": "display_data"
    }
   ],
   "source": [
    "#set bar chart parameters \n",
    "x_num = np.arange(2)\n",
    "y_values = [total_low_inc, total_high_inc]\n",
    "labels = [\"Low-income Range\", \"High-Income Range\"]\n",
    "\n",
    "#plot \n",
    "plt.bar(x_num, y_values, tick_label = labels)\n",
    "plt.xlabel(\"Income Range Level\")\n",
    "plt.ylabel(\"Count\")\n",
    "plt.title(\"Income Range Level Distribution for Debt Consolidation Loans\");\n"
   ]
  },
  {
   "cell_type": "markdown",
   "metadata": {},
   "source": [
    "##### Observations \n",
    "\n",
    "- There is a higher number of high-income earners."
   ]
  },
  {
   "cell_type": "markdown",
   "metadata": {},
   "source": [
    "##### Does interest rate increase with an increase in loan amount?"
   ]
  },
  {
   "cell_type": "code",
   "execution_count": 88,
   "metadata": {},
   "outputs": [
    {
     "data": {
      "image/png": "[encoded data removed]",
      "text/plain": [
       "<Figure size 432x288 with 1 Axes>"
      ]
     },
     "metadata": {
      "needs_background": "light"
     },
     "output_type": "display_data"
    }
   ],
   "source": [
    "#visualize\n",
    "sb.regplot(data = loans_clean, x = \"LoanOriginalAmount\", y = \"BorrowerRate\", \n",
    "           truncate = False, scatter_kws = {\"alpha\" : 1/10});\n",
    "\n",
    "plt.xlabel(\"Loan Amount($)\") \n",
    "plt.ylabel(\"Interest Rate\")\n",
    "plt.title(\"Relationship between Loan Amount and Interest Rate\");\n",
    "\n"
   ]
  },
  {
   "cell_type": "markdown",
   "metadata": {},
   "source": [
    "##### Observations\n",
    "\n",
    "- The relationship is negative. \n",
    "\n",
    "- There is a decrease in interest rate as loan amount increases."
   ]
  },
  {
   "cell_type": "markdown",
   "metadata": {},
   "source": [
    "### Talk about some of the relationships you observed in this part of the investigation. How did the feature(s) of interest vary with other features in the dataset?\n",
    "\n",
    "One interesting relationship was seen between loan length and interest rate. The bivariate visualization of both variables showed a positive relationship,  as the interest rate increased with increasing loan length, from short to long term.<br> \n",
    "\n",
    "A positive relationship was also noticed between loan amount and loan length. As loan amount increased, there was also an increase in loan length with progression from short to mid, and then to long term.<br>\n",
    "\n",
    "Another relationship noticed was that between income range, and loans listed in the debt consolidation category. From the visualization created, there were by far more high-income earners who took loans for debt consolidation than there were low-income earners.<br> \n",
    "\n",
    "\n",
    "### Did you observe any interesting relationships between the other features (not the main feature(s) of interest)?\n",
    "\n",
    "An interesting relationship was noticed between loan amount and interest rate. The visualization of the relationship showed a decrease in interest rate as loan amount increased."
   ]
  },
  {
   "cell_type": "markdown",
   "metadata": {},
   "source": [
    "<a id=\"multivariate\"><\\a>"
   ]
  },
  {
   "cell_type": "markdown",
   "metadata": {},
   "source": [
    "## Multivariate Exploration \n",
    "\n",
    "Here, the relationship between interest rates, loan amount and loan length, as well as that between loan amount/interest rate, loan status and loan length will be visualized.\n",
    "\n",
    "\n",
    "During the bivariate exploration of the dataset, separate visualizations were created between different pairs of these variables, but a single visualization combining some of the different pairs will help us gain a better understanding of the data."
   ]
  },
  {
   "cell_type": "markdown",
   "metadata": {},
   "source": [
    "##### What is the relationship between interest rates, loan amount and loan length? "
   ]
  },
  {
   "cell_type": "code",
   "execution_count": 89,
   "metadata": {},
   "outputs": [
    {
     "data": {
      "image/png": "[encoded data removed]",
      "text/plain": [
       "<Figure size 1080x360 with 3 Axes>"
      ]
     },
     "metadata": {
      "needs_background": "light"
     },
     "output_type": "display_data"
    }
   ],
   "source": [
    "#visualize\n",
    "g = sb.FacetGrid(data = loans_clean, col = \"Term\", \n",
    "                 height = 5) \n",
    "g.map(sb.regplot, \"LoanOriginalAmount\", \"BorrowerRate\", \n",
    "      truncate = False, scatter_kws = {\"alpha\" : 1/4});\n",
    "\n",
    "#set x-axis label for each plot in the facet grid \n",
    "for ax in g.axes.flat: \n",
    "    ax.set_xlabel(\"Loan Amount($)\")\n",
    "    ax.set_ylabel(\"Interest Rate\")\n",
    "\n",
    "#set y-axis label and title of figure\n",
    "plt.suptitle(\"Interest Rate Distribution by Length of Loan and Loan Amount\", y = 1.1);\n"
   ]
  },
  {
   "cell_type": "markdown",
   "metadata": {},
   "source": [
    "##### Observations \n",
    "\n",
    "- Generally, there is an increase in loan amount as loan length increases.\n",
    "- As the loan amount increases, the interest rate decreases. \n",
    "- Also, there is a general increase in interest rate from short to long term (loan length)."
   ]
  },
  {
   "cell_type": "markdown",
   "metadata": {},
   "source": [
    "##### What trend does loan status follow with increasing loan amount and loan length?"
   ]
  },
  {
   "cell_type": "code",
   "execution_count": 90,
   "metadata": {},
   "outputs": [],
   "source": [
    "#create order by which the hue is created\n",
    "order_hue = [\"Defaulted\", \"Chargedoff\", \"Completed\", \n",
    "             \"Past Due\", \"FinalPaymentInProgress\"]\n",
    "\n"
   ]
  },
  {
   "cell_type": "code",
   "execution_count": 91,
   "metadata": {},
   "outputs": [
    {
     "data": {
      "image/png": "[encoded data removed]",
      "text/plain": [
       "<Figure size 432x288 with 1 Axes>"
      ]
     },
     "metadata": {
      "needs_background": "light"
     },
     "output_type": "display_data"
    }
   ],
   "source": [
    "#visualize\n",
    "sb.barplot(data = loans_clean, x = \"Term\", y = \"LoanOriginalAmount\", \n",
    "           hue = \"LoanStatus\", hue_order = order_hue, palette = \"deep\", \n",
    "           errwidth = 0);\n",
    "\n",
    "plt.legend(title = \"Loan Status\", ncol = 2, loc = 6, bbox_to_anchor = (1.0, 0.5));\n",
    "plt.xlabel(\"Loan Length\") \n",
    "plt.ylabel(\"Average Loan Amount($)\")\n",
    "plt.title(\"Distribution of Loan Status by Loan Amount and Loan Length\");\n"
   ]
  },
  {
   "cell_type": "markdown",
   "metadata": {},
   "source": [
    "##### Observations \n",
    "\n",
    "- Generally, as loan amount increases, there is an increase in loan length.\n",
    "- Each term has loan statuses distributed across \"Defaulted\", \"Chargedoff\", \"Completed\", \"Past Due\", and \"FinalPaymentInProgress\".\n",
    "- Generally, as loan amount increases, loan status goes from defaulted to charged off to completed to past due and to final payment in progress in each loan length.\n",
    "- There is an exception with mid term loans where increasing loan amount causes loan status to go from charged off to completed to defaulted to past due, and finally to final payment in progress."
   ]
  },
  {
   "cell_type": "markdown",
   "metadata": {},
   "source": [
    "##### What trend does loan status follow with increasing interest rate and loan length?"
   ]
  },
  {
   "cell_type": "code",
   "execution_count": 92,
   "metadata": {
    "scrolled": true
   },
   "outputs": [
    {
     "data": {
      "image/png": "[encoded data removed]",
      "text/plain": [
       "<Figure size 576x360 with 1 Axes>"
      ]
     },
     "metadata": {
      "needs_background": "light"
     },
     "output_type": "display_data"
    }
   ],
   "source": [
    "#set figure \n",
    "plt.figure(figsize = (8,5))\n",
    "\n",
    "#visualise\n",
    "sb.pointplot(data = loans_clean, x = \"Term\", y = \"BorrowerRate\", \n",
    "           hue = \"LoanStatus\", palette = \"dark\", \n",
    "             dodge = 0.3, linestyles = \"\", errwidth = 0);\n",
    "\n",
    "#set legend\n",
    "plt.legend(title = \"Loan Status\", ncol = 2, loc = 6, bbox_to_anchor = (1.0, 0.5)); \n",
    "\n",
    "plt.xlabel(\"Loan Length\") \n",
    "plt.ylabel(\"Average Interest Rate\") \n",
    "plt.title(\"Distribution of Loan Status by Interest Rate and Loan Length\");\n"
   ]
  },
  {
   "cell_type": "markdown",
   "metadata": {},
   "source": [
    "##### Observations\n",
    "\n",
    "- Generally, there is an increase in interest rates from short to long term (loan length).\n",
    "- Loans with high-interest rates are usually past due, defaulted, or charged off.\n",
    "- Each term has its loan status spread across final payment in progress, completed, past due, defaulted, and charged off.\n",
    "- For short term loans, as interest rate increases, loan status goes from final payment in progress to completed to past due to charged off to defaulted.\n",
    "- For mid term loans, as interest rate increases, loan status goes from completed to final payment in progress to defaulted to past due to charged off.\n",
    "- For long term loans, as interest rate increases, loan status goes from final payment in progress to completed to past due to defaulted to charged off with increasing interest rate."
   ]
  },
  {
   "cell_type": "markdown",
   "metadata": {},
   "source": [
    "### Talk about some of the relationships you observed in this part of the investigation. Were there features that strengthened each other in terms of looking at your feature(s) of interest?\n",
    "\n",
    "The distribution of loan status by loan amount followed the same pattern in the short and long term loan lengths, although, for the short term loan length, loans with their final payment in progress had a much higher average loan amount than the loans with other statuses. For the mid term loan length though, defaulted loans had a higher average loan amount than charged off and completed loans.<br>\n",
    "\n",
    "The visualization of the relationship between loan amount, loan status and loan length allowed for a better understanding of the distribution of the various loan statuses by loan amount, across the different loan lengths. In the same way, the visualization of the relationship between interest rate, loan status and loan length provided a better understanding of the distribution of the various loan statuses by interest rate, across the different loan lengths.<br>\n",
    "\n",
    "### Were there any interesting or surprising interactions between features?\n",
    "\n",
    "In the visualization of the relationship between loan amount, interest rate and loan length, it was seen that increasing loan amount is associated with a decrease in interest rate across the three loan lengths."
   ]
  },
  {
   "cell_type": "markdown",
   "metadata": {},
   "source": [
    "<a id=\"conclusions\"><\\a>"
   ]
  },
  {
   "cell_type": "markdown",
   "metadata": {},
   "source": [
    "## Conclusions\n",
    "\n",
    "In the exploration of the modified Loan Data from Prosper dataset, various visualizations were created to find relationships between variables. First relationships were created in pairs, and then multiple pairs were combined for a better understanding of the relationship between some variables. The results of the exploration showed that:<br>\n",
    "\n",
    "75.34% of loans taken for student use are usually completed. Only 19.26% of the loans are charged off, and only an even smaller percentage, 5.41%, are defaulted. \n",
    "\n",
    "Across each loan length, from short to long term, interest rates as well as loan amount, increases, and higher loan amounts usually have a lower interest rate. This could be a result of other factors/variables which were not included in this analysis such as the borrower's credit risk rating, as high-risk borrowers usually get high-interest rates.\n",
    "\n",
    "Loans are mostly taken for debt consolidation, and these debt consolidation loans are usually taken by borrowers with high incomes (\\\\$75,000-100,000+). Also, generally, loan amounts increase with an increase in income range. \n",
    "\n",
    "Lastly, irrespective of loan length, loans with high-interest rates, are usually either not paid in time, become defaulted or are charged off, and lower loan amounts are likely to become defaulted or charged off. This reiterates the effect of increasing loan amounts on interest rates."
   ]
  },
  {
   "cell_type": "code",
   "execution_count": null,
   "metadata": {},
   "outputs": [],
   "source": []
  }
 ],
 "metadata": {
  "kernelspec": {
   "display_name": "Python 3 (ipykernel)",
   "language": "python",
   "name": "python3"
  },
  "language_info": {
   "codemirror_mode": {
    "name": "ipython",
    "version": 3
   },
   "file_extension": ".py",
   "mimetype": "text/x-python",
   "name": "python",
   "nbconvert_exporter": "python",
   "pygments_lexer": "ipython3",
   "version": "3.9.7"
  }
 },
 "nbformat": 4,
 "nbformat_minor": 2
}
