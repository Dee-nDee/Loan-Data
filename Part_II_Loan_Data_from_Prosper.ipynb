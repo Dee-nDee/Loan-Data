{
 "cells": [
  {
   "cell_type": "markdown",
   "metadata": {
    "slideshow": {
     "slide_type": "slide"
    }
   },
   "source": [
    "# Part II - Presentation of Key Insights from the Exploration of the Loan Data from Prosper Dataset\n",
    "\n",
    "## by Ubogun O. Divine-Favour"
   ]
  },
  {
   "cell_type": "markdown",
   "metadata": {
    "slideshow": {
     "slide_type": "slide"
    }
   },
   "source": [
    "## Investigation Overview\n",
    "\n",
    "The investigation focuses on conveying certain insights obtained in the exploratory analysis of the loans in the Loan Data from Prosper dataset. The insights include:<br>\n",
    "1. Most loans taken for student use are usually completed.\n",
    "2. High-income earners are more likely to take loans for debt consolidation. \n",
    "3. Loans with longer loan lengths have a higher interest rate. \n",
    "4. Borrowers who take high loan amounts are more likely to opt for long-term loans. \n",
    "5. High-income earners are more likely to take high loan amounts.\n",
    "6. Lower loan amounts for each loan length, are more likely to be defaulted or charged off. \n",
    "7. For each loan length, loans with higher interest rates will likely get defaulted, charged off or not paid in time."
   ]
  },
  {
   "cell_type": "markdown",
   "metadata": {
    "slideshow": {
     "slide_type": "slide"
    }
   },
   "source": [
    "## Dataset Overview\n",
    "\n",
    "The Loan Data from Prosper dataset originally has over 110,000 loan entries on 81 variables but was modified into only 14,882 loan entries on 13 variables for the analysis. The variables include the loan amount (__LoanOriginalAmount__), interest rate (__BorrowerRate__), loan length (__Term__), loan listing category (__ListingCategory__), loan status (__LoanStatus__), \n",
    "borrowers' income range (__IncomeRange__) and other characteristics of the borrowers. "
   ]
  },
  {
   "cell_type": "code",
   "execution_count": 1,
   "metadata": {
    "slideshow": {
     "slide_type": "skip"
    }
   },
   "outputs": [],
   "source": [
    "# import all packages and set plots to be embedded inline\n",
    "import numpy as np\n",
    "import pandas as pd\n",
    "import matplotlib.pyplot as plt\n",
    "import seaborn as sb\n",
    "\n",
    "%matplotlib inline\n",
    "\n",
    "# suppress warnings from final output\n",
    "import warnings\n",
    "warnings.simplefilter(\"ignore\")"
   ]
  },
  {
   "cell_type": "code",
   "execution_count": 2,
   "metadata": {
    "slideshow": {
     "slide_type": "skip"
    }
   },
   "outputs": [],
   "source": [
    "# load in the dataset into a pandas dataframe\n",
    "prosper_loans = pd.read_csv(\"prosperLoanData.csv\")\n"
   ]
  },
  {
   "cell_type": "markdown",
   "metadata": {
    "slideshow": {
     "slide_type": "skip"
    }
   },
   "source": [
    "The dataset will be cleaned to remove rows and columns not needed for this analysis."
   ]
  },
  {
   "cell_type": "code",
   "execution_count": 3,
   "metadata": {
    "slideshow": {
     "slide_type": "skip"
    }
   },
   "outputs": [],
   "source": [
    "def drop_unwanted_cols(df, list_of_cols_to_keep): \n",
    "    \"\"\"This function selects out unwanted columns in a dataframe \n",
    "    and drops them\"\"\"\n",
    "    new_list = []\n",
    "    for col in df.columns: \n",
    "        if col not in list_of_cols_to_keep: \n",
    "            new_list.append(col) \n",
    "    return df.drop(new_list, axis = 1) \n"
   ]
  },
  {
   "cell_type": "code",
   "execution_count": 4,
   "metadata": {
    "slideshow": {
     "slide_type": "skip"
    }
   },
   "outputs": [],
   "source": [
    "#create a list of wanted columns\n",
    "wanted_cols = [\"Term\",\"LoanOriginalAmount\", \"LoanStatus\", \"BorrowerAPR\", \"BorrowerRate\", \"ListingCategory (numeric)\", \"BorrowerState\", \"Occupation\", \"EmploymentStatus\", \"IsBorrowerHomeowner\", \"IncomeRange\"]\n",
    "\n",
    "#apply the drop_unwanted_cols function to the dataframe  \n",
    "prosper_loans = drop_unwanted_cols(prosper_loans, wanted_cols)\n"
   ]
  },
  {
   "cell_type": "code",
   "execution_count": 5,
   "metadata": {
    "slideshow": {
     "slide_type": "skip"
    }
   },
   "outputs": [],
   "source": [
    "#make copy of dataset to clean \n",
    "loans_clean = prosper_loans.copy()"
   ]
  },
  {
   "cell_type": "code",
   "execution_count": 6,
   "metadata": {
    "slideshow": {
     "slide_type": "skip"
    }
   },
   "outputs": [],
   "source": [
    "#drop duplicated rows \n",
    "loans_clean.drop_duplicates(inplace = True)"
   ]
  },
  {
   "cell_type": "code",
   "execution_count": 7,
   "metadata": {
    "slideshow": {
     "slide_type": "skip"
    }
   },
   "outputs": [],
   "source": [
    "def rename_pastdue(x): \n",
    "    \"\"\"The function renames every variation of \"Past Due\" values \n",
    "    to just \"Past Due\"\"\"\n",
    "    \n",
    "    if \"Past Due\" in x: \n",
    "        return \"Past Due\" \n",
    "    else: \n",
    "        return x"
   ]
  },
  {
   "cell_type": "code",
   "execution_count": 8,
   "metadata": {
    "slideshow": {
     "slide_type": "skip"
    }
   },
   "outputs": [
    {
     "data": {
      "text/plain": [
       "array(['Completed', 'Current', 'Past Due', 'Defaulted', 'Chargedoff',\n",
       "       'Cancelled', 'FinalPaymentInProgress'], dtype=object)"
      ]
     },
     "execution_count": 8,
     "metadata": {},
     "output_type": "execute_result"
    }
   ],
   "source": [
    "#apply rename_pastdue on LoanStatus column \n",
    "loans_clean[\"LoanStatus\"] = loans_clean[\"LoanStatus\"].apply(rename_pastdue)\n",
    "\n",
    "#confirm \n",
    "loans_clean.LoanStatus.unique()\n"
   ]
  },
  {
   "cell_type": "code",
   "execution_count": 9,
   "metadata": {
    "slideshow": {
     "slide_type": "skip"
    }
   },
   "outputs": [],
   "source": [
    "def list_category(x): \n",
    "    \"\"\"This function changes each numeric value in the \"ListingCategory (numeric)\" column \n",
    "    to its appropriate word meaning\"\"\"\n",
    "    \n",
    "    cat_listing = {0 : \"Not Available\", 1 : \"Debt Consolidation\", 2 : \"Home Improvement\", \n",
    "                   3 : \"Business\", 4 : \"Personal Loan\", 5 : \"Student Use\", 6 : \"Auto\", \n",
    "                   7 : \"Other\", 8 : \"Baby & Adoption\", 9 : \"Boat\", 10 : \"Cosmetic Procedure\", \n",
    "                   11 : \"Engagement Ring\", 12 : \"Green Loans\", 13 : \"Household Expenses\", \n",
    "                   14 : \"Large Purchases\", 15 : \"Medical/Dental\", 16 : \"Motorcycle\", 17 : \"RV\", \n",
    "                   18 : \"Taxes\", 19 : \"Vacation\", 20 : \"Wedding Loans\"}\n",
    "    for key, value in cat_listing.items(): \n",
    "        if x == key: \n",
    "            return cat_listing[key] \n",
    "        "
   ]
  },
  {
   "cell_type": "code",
   "execution_count": 10,
   "metadata": {
    "slideshow": {
     "slide_type": "skip"
    }
   },
   "outputs": [
    {
     "data": {
      "text/plain": [
       "RV                       52\n",
       "Green Loans              58\n",
       "Boat                     85\n",
       "Cosmetic Procedure       91\n",
       "Baby & Adoption         196\n",
       "Engagement Ring         214\n",
       "Motorcycle              304\n",
       "Student Use             756\n",
       "Wedding Loans           762\n",
       "Vacation                764\n",
       "Large Purchases         863\n",
       "Taxes                   882\n",
       "Medical/Dental         1507\n",
       "Household Expenses     1984\n",
       "Personal Loan          2393\n",
       "Auto                   2568\n",
       "Business               7145\n",
       "Home Improvement       7379\n",
       "Other                 10427\n",
       "Not Available         16518\n",
       "Debt Consolidation    57247\n",
       "Name: ListingCategory (numeric), dtype: int64"
      ]
     },
     "execution_count": 10,
     "metadata": {},
     "output_type": "execute_result"
    }
   ],
   "source": [
    "#apply function \n",
    "loans_clean[\"ListingCategory (numeric)\"] = loans_clean[\"ListingCategory (numeric)\"].apply(list_category)\n",
    "\n",
    "#check \n",
    "loans_clean[\"ListingCategory (numeric)\"].value_counts().sort_values()\n"
   ]
  },
  {
   "cell_type": "code",
   "execution_count": 11,
   "metadata": {
    "slideshow": {
     "slide_type": "skip"
    }
   },
   "outputs": [
    {
     "data": {
      "text/html": [
       "<div>\n",
       "<style scoped>\n",
       "    .dataframe tbody tr th:only-of-type {\n",
       "        vertical-align: middle;\n",
       "    }\n",
       "\n",
       "    .dataframe tbody tr th {\n",
       "        vertical-align: top;\n",
       "    }\n",
       "\n",
       "    .dataframe thead th {\n",
       "        text-align: right;\n",
       "    }\n",
       "</style>\n",
       "<table border=\"1\" class=\"dataframe\">\n",
       "  <thead>\n",
       "    <tr style=\"text-align: right;\">\n",
       "      <th></th>\n",
       "      <th>Term</th>\n",
       "      <th>LoanStatus</th>\n",
       "      <th>BorrowerAPR</th>\n",
       "      <th>BorrowerRate</th>\n",
       "      <th>ListingCategory</th>\n",
       "      <th>BorrowerState</th>\n",
       "      <th>Occupation</th>\n",
       "      <th>EmploymentStatus</th>\n",
       "      <th>IsBorrowerHomeowner</th>\n",
       "      <th>IncomeRange</th>\n",
       "      <th>LoanOriginalAmount</th>\n",
       "    </tr>\n",
       "  </thead>\n",
       "  <tbody>\n",
       "    <tr>\n",
       "      <th>0</th>\n",
       "      <td>36</td>\n",
       "      <td>Completed</td>\n",
       "      <td>0.16516</td>\n",
       "      <td>0.158</td>\n",
       "      <td>Not Available</td>\n",
       "      <td>CO</td>\n",
       "      <td>Other</td>\n",
       "      <td>Self-employed</td>\n",
       "      <td>True</td>\n",
       "      <td>$25,000-49,999</td>\n",
       "      <td>9425</td>\n",
       "    </tr>\n",
       "  </tbody>\n",
       "</table>\n",
       "</div>"
      ],
      "text/plain": [
       "   Term LoanStatus  BorrowerAPR  BorrowerRate ListingCategory BorrowerState  \\\n",
       "0    36  Completed      0.16516         0.158   Not Available            CO   \n",
       "\n",
       "  Occupation EmploymentStatus  IsBorrowerHomeowner     IncomeRange  \\\n",
       "0      Other    Self-employed                 True  $25,000-49,999   \n",
       "\n",
       "   LoanOriginalAmount  \n",
       "0                9425  "
      ]
     },
     "execution_count": 11,
     "metadata": {},
     "output_type": "execute_result"
    }
   ],
   "source": [
    "#Rename the \"ListingCategory (numeric)\" column \n",
    "loans_clean.rename(columns = {\"ListingCategory (numeric)\" : \"ListingCategory\"}, inplace = True)\n",
    "\n",
    "#confirm \n",
    "loans_clean.head(1)"
   ]
  },
  {
   "cell_type": "code",
   "execution_count": 12,
   "metadata": {
    "slideshow": {
     "slide_type": "skip"
    }
   },
   "outputs": [],
   "source": [
    "def make_title(x): \n",
    "    \"\"\"This function capitalizes the first letter of each\n",
    "    word in a string\"\"\"\n",
    "    if type(x) == str: \n",
    "        return x.title() \n",
    "    else: \n",
    "        return x \n",
    "    "
   ]
  },
  {
   "cell_type": "code",
   "execution_count": 13,
   "metadata": {
    "slideshow": {
     "slide_type": "skip"
    }
   },
   "outputs": [
    {
     "name": "stdout",
     "output_type": "stream",
     "text": [
      "['Self-Employed' 'Employed' 'Not Available' 'Full-Time' 'Other' nan\n",
      " 'Not Employed' 'Part-Time' 'Retired']\n"
     ]
    },
    {
     "data": {
      "text/plain": [
       "array(['$25,000-49,999', '$50,000-74,999', 'Not Displayed', '$100,000+',\n",
       "       '$75,000-99,999', '$1-24,999', 'Not Employed', '$0'], dtype=object)"
      ]
     },
     "execution_count": 13,
     "metadata": {},
     "output_type": "execute_result"
    }
   ],
   "source": [
    "#apply function on dataframe \n",
    "loans_clean[\"EmploymentStatus\"] = loans_clean[\"EmploymentStatus\"].apply(make_title) \n",
    "loans_clean[\"IncomeRange\"] = loans_clean[\"IncomeRange\"].apply(make_title)\n",
    "\n",
    "#view random rows \n",
    "print(loans_clean.EmploymentStatus.unique()) \n",
    "loans_clean.IncomeRange.unique() \n"
   ]
  },
  {
   "cell_type": "code",
   "execution_count": 14,
   "metadata": {
    "slideshow": {
     "slide_type": "skip"
    }
   },
   "outputs": [],
   "source": [
    "def change_to_null(x): \n",
    "    \"\"\"The function changes \"Not Available\" and \"Not \n",
    "    Displayed\" values in a column to null values\"\"\"\n",
    "    \n",
    "    if x == \"Not Available\" or x == \"Not Displayed\":\n",
    "        return np.nan\n",
    "    else:\n",
    "        return x \n",
    "    "
   ]
  },
  {
   "cell_type": "code",
   "execution_count": 15,
   "metadata": {
    "slideshow": {
     "slide_type": "skip"
    }
   },
   "outputs": [
    {
     "data": {
      "text/html": [
       "<div>\n",
       "<style scoped>\n",
       "    .dataframe tbody tr th:only-of-type {\n",
       "        vertical-align: middle;\n",
       "    }\n",
       "\n",
       "    .dataframe tbody tr th {\n",
       "        vertical-align: top;\n",
       "    }\n",
       "\n",
       "    .dataframe thead th {\n",
       "        text-align: right;\n",
       "    }\n",
       "</style>\n",
       "<table border=\"1\" class=\"dataframe\">\n",
       "  <thead>\n",
       "    <tr style=\"text-align: right;\">\n",
       "      <th></th>\n",
       "      <th>Term</th>\n",
       "      <th>LoanStatus</th>\n",
       "      <th>BorrowerAPR</th>\n",
       "      <th>BorrowerRate</th>\n",
       "      <th>ListingCategory</th>\n",
       "      <th>BorrowerState</th>\n",
       "      <th>Occupation</th>\n",
       "      <th>EmploymentStatus</th>\n",
       "      <th>IsBorrowerHomeowner</th>\n",
       "      <th>IncomeRange</th>\n",
       "      <th>LoanOriginalAmount</th>\n",
       "    </tr>\n",
       "  </thead>\n",
       "  <tbody>\n",
       "  </tbody>\n",
       "</table>\n",
       "</div>"
      ],
      "text/plain": [
       "Empty DataFrame\n",
       "Columns: [Term, LoanStatus, BorrowerAPR, BorrowerRate, ListingCategory, BorrowerState, Occupation, EmploymentStatus, IsBorrowerHomeowner, IncomeRange, LoanOriginalAmount]\n",
       "Index: []"
      ]
     },
     "execution_count": 15,
     "metadata": {},
     "output_type": "execute_result"
    }
   ],
   "source": [
    "#apply on dataframe \n",
    "loans_clean = loans_clean.applymap(change_to_null)\n",
    "\n",
    "#confirm \n",
    "loans_clean.query('EmploymentStatus == \"Not Available\" or IncomeRange == \"Not Displayed\" or ListingCategory == \"Not Available\"') \n"
   ]
  },
  {
   "cell_type": "code",
   "execution_count": 16,
   "metadata": {
    "slideshow": {
     "slide_type": "skip"
    }
   },
   "outputs": [],
   "source": [
    "#select out rows with zero dollars income range\n",
    "zero_dollars_df = loans_clean.query('IncomeRange == \"$0\"')  \n",
    "\n",
    "#filter out rows that belong to people with jobs \n",
    "zero_with_job = zero_dollars_df.query('EmploymentStatus == \"Full-Time\" or EmploymentStatus == \"Self-Employed\" or EmploymentStatus == \"Employed\" or EmploymentStatus == \"Part-Time\"')\n"
   ]
  },
  {
   "cell_type": "code",
   "execution_count": 17,
   "metadata": {
    "slideshow": {
     "slide_type": "skip"
    }
   },
   "outputs": [],
   "source": [
    "#drop rows in zero_with_job \n",
    "loans_clean.drop(zero_with_job.index, inplace = True) \n"
   ]
  },
  {
   "cell_type": "code",
   "execution_count": 18,
   "metadata": {
    "slideshow": {
     "slide_type": "skip"
    }
   },
   "outputs": [
    {
     "data": {
      "text/html": [
       "<div>\n",
       "<style scoped>\n",
       "    .dataframe tbody tr th:only-of-type {\n",
       "        vertical-align: middle;\n",
       "    }\n",
       "\n",
       "    .dataframe tbody tr th {\n",
       "        vertical-align: top;\n",
       "    }\n",
       "\n",
       "    .dataframe thead th {\n",
       "        text-align: right;\n",
       "    }\n",
       "</style>\n",
       "<table border=\"1\" class=\"dataframe\">\n",
       "  <thead>\n",
       "    <tr style=\"text-align: right;\">\n",
       "      <th></th>\n",
       "      <th>Term</th>\n",
       "      <th>LoanStatus</th>\n",
       "      <th>BorrowerAPR</th>\n",
       "      <th>BorrowerRate</th>\n",
       "      <th>ListingCategory</th>\n",
       "      <th>BorrowerState</th>\n",
       "      <th>Occupation</th>\n",
       "      <th>EmploymentStatus</th>\n",
       "      <th>IsBorrowerHomeowner</th>\n",
       "      <th>IncomeRange</th>\n",
       "      <th>LoanOriginalAmount</th>\n",
       "    </tr>\n",
       "  </thead>\n",
       "  <tbody>\n",
       "  </tbody>\n",
       "</table>\n",
       "</div>"
      ],
      "text/plain": [
       "Empty DataFrame\n",
       "Columns: [Term, LoanStatus, BorrowerAPR, BorrowerRate, ListingCategory, BorrowerState, Occupation, EmploymentStatus, IsBorrowerHomeowner, IncomeRange, LoanOriginalAmount]\n",
       "Index: []"
      ]
     },
     "execution_count": 18,
     "metadata": {},
     "output_type": "execute_result"
    }
   ],
   "source": [
    "#confirm for \"Full-Time\" EmploymentStatus\n",
    "loans_clean.query('IncomeRange == \"$0\" & EmploymentStatus == \"Full-Time\"')\n"
   ]
  },
  {
   "cell_type": "code",
   "execution_count": 19,
   "metadata": {
    "slideshow": {
     "slide_type": "skip"
    }
   },
   "outputs": [
    {
     "data": {
      "text/html": [
       "<div>\n",
       "<style scoped>\n",
       "    .dataframe tbody tr th:only-of-type {\n",
       "        vertical-align: middle;\n",
       "    }\n",
       "\n",
       "    .dataframe tbody tr th {\n",
       "        vertical-align: top;\n",
       "    }\n",
       "\n",
       "    .dataframe thead th {\n",
       "        text-align: right;\n",
       "    }\n",
       "</style>\n",
       "<table border=\"1\" class=\"dataframe\">\n",
       "  <thead>\n",
       "    <tr style=\"text-align: right;\">\n",
       "      <th></th>\n",
       "      <th>Term</th>\n",
       "      <th>LoanStatus</th>\n",
       "      <th>BorrowerAPR</th>\n",
       "      <th>BorrowerRate</th>\n",
       "      <th>ListingCategory</th>\n",
       "      <th>BorrowerState</th>\n",
       "      <th>Occupation</th>\n",
       "      <th>EmploymentStatus</th>\n",
       "      <th>IsBorrowerHomeowner</th>\n",
       "      <th>IncomeRange</th>\n",
       "      <th>LoanOriginalAmount</th>\n",
       "    </tr>\n",
       "  </thead>\n",
       "  <tbody>\n",
       "  </tbody>\n",
       "</table>\n",
       "</div>"
      ],
      "text/plain": [
       "Empty DataFrame\n",
       "Columns: [Term, LoanStatus, BorrowerAPR, BorrowerRate, ListingCategory, BorrowerState, Occupation, EmploymentStatus, IsBorrowerHomeowner, IncomeRange, LoanOriginalAmount]\n",
       "Index: []"
      ]
     },
     "execution_count": 19,
     "metadata": {},
     "output_type": "execute_result"
    }
   ],
   "source": [
    "#confirm for \"Self-Employed\" EmploymentStatus\n",
    "loans_clean.query('IncomeRange == \"$0\" & EmploymentStatus == \"Self-Employed\"')\n"
   ]
  },
  {
   "cell_type": "code",
   "execution_count": 20,
   "metadata": {
    "slideshow": {
     "slide_type": "skip"
    }
   },
   "outputs": [
    {
     "data": {
      "text/html": [
       "<div>\n",
       "<style scoped>\n",
       "    .dataframe tbody tr th:only-of-type {\n",
       "        vertical-align: middle;\n",
       "    }\n",
       "\n",
       "    .dataframe tbody tr th {\n",
       "        vertical-align: top;\n",
       "    }\n",
       "\n",
       "    .dataframe thead th {\n",
       "        text-align: right;\n",
       "    }\n",
       "</style>\n",
       "<table border=\"1\" class=\"dataframe\">\n",
       "  <thead>\n",
       "    <tr style=\"text-align: right;\">\n",
       "      <th></th>\n",
       "      <th>Term</th>\n",
       "      <th>LoanStatus</th>\n",
       "      <th>BorrowerAPR</th>\n",
       "      <th>BorrowerRate</th>\n",
       "      <th>ListingCategory</th>\n",
       "      <th>BorrowerState</th>\n",
       "      <th>Occupation</th>\n",
       "      <th>EmploymentStatus</th>\n",
       "      <th>IsBorrowerHomeowner</th>\n",
       "      <th>IncomeRange</th>\n",
       "      <th>LoanOriginalAmount</th>\n",
       "    </tr>\n",
       "  </thead>\n",
       "  <tbody>\n",
       "  </tbody>\n",
       "</table>\n",
       "</div>"
      ],
      "text/plain": [
       "Empty DataFrame\n",
       "Columns: [Term, LoanStatus, BorrowerAPR, BorrowerRate, ListingCategory, BorrowerState, Occupation, EmploymentStatus, IsBorrowerHomeowner, IncomeRange, LoanOriginalAmount]\n",
       "Index: []"
      ]
     },
     "execution_count": 20,
     "metadata": {},
     "output_type": "execute_result"
    }
   ],
   "source": [
    "#confirm for \"Employed\" EmploymentStatus\n",
    "loans_clean.query('IncomeRange == \"$0\" & EmploymentStatus == \"Employed\"')\n"
   ]
  },
  {
   "cell_type": "code",
   "execution_count": 21,
   "metadata": {
    "slideshow": {
     "slide_type": "skip"
    }
   },
   "outputs": [
    {
     "data": {
      "text/html": [
       "<div>\n",
       "<style scoped>\n",
       "    .dataframe tbody tr th:only-of-type {\n",
       "        vertical-align: middle;\n",
       "    }\n",
       "\n",
       "    .dataframe tbody tr th {\n",
       "        vertical-align: top;\n",
       "    }\n",
       "\n",
       "    .dataframe thead th {\n",
       "        text-align: right;\n",
       "    }\n",
       "</style>\n",
       "<table border=\"1\" class=\"dataframe\">\n",
       "  <thead>\n",
       "    <tr style=\"text-align: right;\">\n",
       "      <th></th>\n",
       "      <th>Term</th>\n",
       "      <th>LoanStatus</th>\n",
       "      <th>BorrowerAPR</th>\n",
       "      <th>BorrowerRate</th>\n",
       "      <th>ListingCategory</th>\n",
       "      <th>BorrowerState</th>\n",
       "      <th>Occupation</th>\n",
       "      <th>EmploymentStatus</th>\n",
       "      <th>IsBorrowerHomeowner</th>\n",
       "      <th>IncomeRange</th>\n",
       "      <th>LoanOriginalAmount</th>\n",
       "    </tr>\n",
       "  </thead>\n",
       "  <tbody>\n",
       "  </tbody>\n",
       "</table>\n",
       "</div>"
      ],
      "text/plain": [
       "Empty DataFrame\n",
       "Columns: [Term, LoanStatus, BorrowerAPR, BorrowerRate, ListingCategory, BorrowerState, Occupation, EmploymentStatus, IsBorrowerHomeowner, IncomeRange, LoanOriginalAmount]\n",
       "Index: []"
      ]
     },
     "execution_count": 21,
     "metadata": {},
     "output_type": "execute_result"
    }
   ],
   "source": [
    "#confirm for \"Part-Time\" EmploymentStatus\n",
    "loans_clean.query('IncomeRange == \"$0\" & EmploymentStatus == \"Part-Time\"')\n"
   ]
  },
  {
   "cell_type": "code",
   "execution_count": 22,
   "metadata": {
    "slideshow": {
     "slide_type": "skip"
    }
   },
   "outputs": [],
   "source": [
    "def zero_dollar(x): \n",
    "    \"\"\"This function replaces every \"Not Employed\"\n",
    "    value with a \"$0\" value\"\"\"\n",
    "    if x == \"Not Employed\": \n",
    "        return \"$0\"\n",
    "    else: \n",
    "        return x \n",
    "    "
   ]
  },
  {
   "cell_type": "code",
   "execution_count": 23,
   "metadata": {
    "slideshow": {
     "slide_type": "skip"
    }
   },
   "outputs": [
    {
     "data": {
      "text/plain": [
       "array(['$25,000-49,999', '$50,000-74,999', nan, '$100,000+',\n",
       "       '$75,000-99,999', '$1-24,999', '$0'], dtype=object)"
      ]
     },
     "execution_count": 23,
     "metadata": {},
     "output_type": "execute_result"
    }
   ],
   "source": [
    "#apply the zero_dollar function on IncomeRange column \n",
    "loans_clean[\"IncomeRange\"] = loans_clean[\"IncomeRange\"].apply(zero_dollar) \n",
    "\n",
    "#confirm \n",
    "loans_clean.IncomeRange.unique()\n"
   ]
  },
  {
   "cell_type": "code",
   "execution_count": 24,
   "metadata": {
    "slideshow": {
     "slide_type": "skip"
    }
   },
   "outputs": [
    {
     "data": {
      "text/html": [
       "<div>\n",
       "<style scoped>\n",
       "    .dataframe tbody tr th:only-of-type {\n",
       "        vertical-align: middle;\n",
       "    }\n",
       "\n",
       "    .dataframe tbody tr th {\n",
       "        vertical-align: top;\n",
       "    }\n",
       "\n",
       "    .dataframe thead th {\n",
       "        text-align: right;\n",
       "    }\n",
       "</style>\n",
       "<table border=\"1\" class=\"dataframe\">\n",
       "  <thead>\n",
       "    <tr style=\"text-align: right;\">\n",
       "      <th></th>\n",
       "      <th>Term</th>\n",
       "      <th>LoanStatus</th>\n",
       "      <th>BorrowerAPR</th>\n",
       "      <th>BorrowerRate</th>\n",
       "      <th>ListingCategory</th>\n",
       "      <th>BorrowerState</th>\n",
       "      <th>Occupation</th>\n",
       "      <th>EmploymentStatus</th>\n",
       "      <th>IsBorrowerHomeowner</th>\n",
       "      <th>IncomeRange</th>\n",
       "      <th>LoanOriginalAmount</th>\n",
       "    </tr>\n",
       "  </thead>\n",
       "  <tbody>\n",
       "  </tbody>\n",
       "</table>\n",
       "</div>"
      ],
      "text/plain": [
       "Empty DataFrame\n",
       "Columns: [Term, LoanStatus, BorrowerAPR, BorrowerRate, ListingCategory, BorrowerState, Occupation, EmploymentStatus, IsBorrowerHomeowner, IncomeRange, LoanOriginalAmount]\n",
       "Index: []"
      ]
     },
     "execution_count": 24,
     "metadata": {},
     "output_type": "execute_result"
    }
   ],
   "source": [
    "#filter out rows with \"Current\" loan status \n",
    "current_loans = loans_clean.query('LoanStatus == \"Current\"') \n",
    "\n",
    "#drop rows with \"Current\" loan status \n",
    "loans_clean.drop(current_loans.index, inplace = True) \n",
    "\n",
    "#confirm \n",
    "loans_clean.query('LoanStatus == \"Current\"') \n"
   ]
  },
  {
   "cell_type": "code",
   "execution_count": 25,
   "metadata": {
    "slideshow": {
     "slide_type": "skip"
    }
   },
   "outputs": [
    {
     "data": {
      "text/html": [
       "<div>\n",
       "<style scoped>\n",
       "    .dataframe tbody tr th:only-of-type {\n",
       "        vertical-align: middle;\n",
       "    }\n",
       "\n",
       "    .dataframe tbody tr th {\n",
       "        vertical-align: top;\n",
       "    }\n",
       "\n",
       "    .dataframe thead th {\n",
       "        text-align: right;\n",
       "    }\n",
       "</style>\n",
       "<table border=\"1\" class=\"dataframe\">\n",
       "  <thead>\n",
       "    <tr style=\"text-align: right;\">\n",
       "      <th></th>\n",
       "      <th>Term</th>\n",
       "      <th>LoanStatus</th>\n",
       "      <th>BorrowerAPR</th>\n",
       "      <th>BorrowerRate</th>\n",
       "      <th>ListingCategory</th>\n",
       "      <th>BorrowerState</th>\n",
       "      <th>Occupation</th>\n",
       "      <th>EmploymentStatus</th>\n",
       "      <th>IsBorrowerHomeowner</th>\n",
       "      <th>IncomeRange</th>\n",
       "      <th>LoanOriginalAmount</th>\n",
       "    </tr>\n",
       "  </thead>\n",
       "  <tbody>\n",
       "  </tbody>\n",
       "</table>\n",
       "</div>"
      ],
      "text/plain": [
       "Empty DataFrame\n",
       "Columns: [Term, LoanStatus, BorrowerAPR, BorrowerRate, ListingCategory, BorrowerState, Occupation, EmploymentStatus, IsBorrowerHomeowner, IncomeRange, LoanOriginalAmount]\n",
       "Index: []"
      ]
     },
     "execution_count": 25,
     "metadata": {},
     "output_type": "execute_result"
    }
   ],
   "source": [
    "#select out rows with \"Other\" value in employment status column \n",
    "other_status = loans_clean[loans_clean[\"EmploymentStatus\"] == \"Other\"] \n",
    "\n",
    "#drop the rows \n",
    "loans_clean.drop(other_status.index, inplace = True) \n",
    "\n",
    "#confirm \n",
    "loans_clean[loans_clean[\"EmploymentStatus\"] == \"Other\"] \n"
   ]
  },
  {
   "cell_type": "code",
   "execution_count": 26,
   "metadata": {
    "slideshow": {
     "slide_type": "skip"
    }
   },
   "outputs": [],
   "source": [
    "def job_status(col_name): \n",
    "    \"\"\"This function returns a list containing values \n",
    "    of \"Working\" or \"Not Working\" for a borrower's job \n",
    "    status\"\"\"\n",
    "    status_list = [] \n",
    "    for x in col_name: \n",
    "        if x == \"Not Employed\" or x == \"Retired\":\n",
    "            status_list.append(\"Not Working\") \n",
    "        \n",
    "        else:\n",
    "            status_list.append(\"Working\") \n",
    "    return status_list\n"
   ]
  },
  {
   "cell_type": "code",
   "execution_count": 27,
   "metadata": {
    "slideshow": {
     "slide_type": "skip"
    }
   },
   "outputs": [],
   "source": [
    "#apply the function to the EmploymentStatus column \n",
    "#and assign the list returned to a new variable \n",
    "job_status_list = job_status(loans_clean.EmploymentStatus) \n",
    "\n",
    "#create new column for job status in clean loans dataframe\n",
    "loans_clean[\"JobStatus\"] = job_status_list\n"
   ]
  },
  {
   "cell_type": "code",
   "execution_count": 28,
   "metadata": {
    "slideshow": {
     "slide_type": "skip"
    }
   },
   "outputs": [
    {
     "data": {
      "text/html": [
       "<div>\n",
       "<style scoped>\n",
       "    .dataframe tbody tr th:only-of-type {\n",
       "        vertical-align: middle;\n",
       "    }\n",
       "\n",
       "    .dataframe tbody tr th {\n",
       "        vertical-align: top;\n",
       "    }\n",
       "\n",
       "    .dataframe thead th {\n",
       "        text-align: right;\n",
       "    }\n",
       "</style>\n",
       "<table border=\"1\" class=\"dataframe\">\n",
       "  <thead>\n",
       "    <tr style=\"text-align: right;\">\n",
       "      <th></th>\n",
       "      <th>Term</th>\n",
       "      <th>LoanStatus</th>\n",
       "      <th>BorrowerAPR</th>\n",
       "      <th>BorrowerRate</th>\n",
       "      <th>ListingCategory</th>\n",
       "      <th>BorrowerState</th>\n",
       "      <th>Occupation</th>\n",
       "      <th>EmploymentStatus</th>\n",
       "      <th>IsBorrowerHomeowner</th>\n",
       "      <th>IncomeRange</th>\n",
       "      <th>LoanOriginalAmount</th>\n",
       "      <th>JobStatus</th>\n",
       "    </tr>\n",
       "  </thead>\n",
       "  <tbody>\n",
       "  </tbody>\n",
       "</table>\n",
       "</div>"
      ],
      "text/plain": [
       "Empty DataFrame\n",
       "Columns: [Term, LoanStatus, BorrowerAPR, BorrowerRate, ListingCategory, BorrowerState, Occupation, EmploymentStatus, IsBorrowerHomeowner, IncomeRange, LoanOriginalAmount, JobStatus]\n",
       "Index: []"
      ]
     },
     "execution_count": 28,
     "metadata": {},
     "output_type": "execute_result"
    }
   ],
   "source": [
    "#confirm for borrowers with \"Full-Time\" employment status \n",
    "loans_clean.query('EmploymentStatus == \"Full-Time\" & JobStatus == \"Not Working\"')\n"
   ]
  },
  {
   "cell_type": "code",
   "execution_count": 29,
   "metadata": {
    "slideshow": {
     "slide_type": "skip"
    }
   },
   "outputs": [
    {
     "data": {
      "text/html": [
       "<div>\n",
       "<style scoped>\n",
       "    .dataframe tbody tr th:only-of-type {\n",
       "        vertical-align: middle;\n",
       "    }\n",
       "\n",
       "    .dataframe tbody tr th {\n",
       "        vertical-align: top;\n",
       "    }\n",
       "\n",
       "    .dataframe thead th {\n",
       "        text-align: right;\n",
       "    }\n",
       "</style>\n",
       "<table border=\"1\" class=\"dataframe\">\n",
       "  <thead>\n",
       "    <tr style=\"text-align: right;\">\n",
       "      <th></th>\n",
       "      <th>Term</th>\n",
       "      <th>LoanStatus</th>\n",
       "      <th>BorrowerAPR</th>\n",
       "      <th>BorrowerRate</th>\n",
       "      <th>ListingCategory</th>\n",
       "      <th>BorrowerState</th>\n",
       "      <th>Occupation</th>\n",
       "      <th>EmploymentStatus</th>\n",
       "      <th>IsBorrowerHomeowner</th>\n",
       "      <th>IncomeRange</th>\n",
       "      <th>LoanOriginalAmount</th>\n",
       "      <th>JobStatus</th>\n",
       "    </tr>\n",
       "  </thead>\n",
       "  <tbody>\n",
       "  </tbody>\n",
       "</table>\n",
       "</div>"
      ],
      "text/plain": [
       "Empty DataFrame\n",
       "Columns: [Term, LoanStatus, BorrowerAPR, BorrowerRate, ListingCategory, BorrowerState, Occupation, EmploymentStatus, IsBorrowerHomeowner, IncomeRange, LoanOriginalAmount, JobStatus]\n",
       "Index: []"
      ]
     },
     "execution_count": 29,
     "metadata": {},
     "output_type": "execute_result"
    }
   ],
   "source": [
    "#confirm for borrowers with \"Part-Time\" EmploymentStatus\n",
    "loans_clean.query('EmploymentStatus == \"Part-Time\" & JobStatus == \"Not Working\"')\n"
   ]
  },
  {
   "cell_type": "code",
   "execution_count": 30,
   "metadata": {
    "slideshow": {
     "slide_type": "skip"
    }
   },
   "outputs": [
    {
     "data": {
      "text/html": [
       "<div>\n",
       "<style scoped>\n",
       "    .dataframe tbody tr th:only-of-type {\n",
       "        vertical-align: middle;\n",
       "    }\n",
       "\n",
       "    .dataframe tbody tr th {\n",
       "        vertical-align: top;\n",
       "    }\n",
       "\n",
       "    .dataframe thead th {\n",
       "        text-align: right;\n",
       "    }\n",
       "</style>\n",
       "<table border=\"1\" class=\"dataframe\">\n",
       "  <thead>\n",
       "    <tr style=\"text-align: right;\">\n",
       "      <th></th>\n",
       "      <th>Term</th>\n",
       "      <th>LoanStatus</th>\n",
       "      <th>BorrowerAPR</th>\n",
       "      <th>BorrowerRate</th>\n",
       "      <th>ListingCategory</th>\n",
       "      <th>BorrowerState</th>\n",
       "      <th>Occupation</th>\n",
       "      <th>EmploymentStatus</th>\n",
       "      <th>IsBorrowerHomeowner</th>\n",
       "      <th>IncomeRange</th>\n",
       "      <th>LoanOriginalAmount</th>\n",
       "      <th>JobStatus</th>\n",
       "    </tr>\n",
       "  </thead>\n",
       "  <tbody>\n",
       "  </tbody>\n",
       "</table>\n",
       "</div>"
      ],
      "text/plain": [
       "Empty DataFrame\n",
       "Columns: [Term, LoanStatus, BorrowerAPR, BorrowerRate, ListingCategory, BorrowerState, Occupation, EmploymentStatus, IsBorrowerHomeowner, IncomeRange, LoanOriginalAmount, JobStatus]\n",
       "Index: []"
      ]
     },
     "execution_count": 30,
     "metadata": {},
     "output_type": "execute_result"
    }
   ],
   "source": [
    "#confirm for borrowers with \"Self-Employed\" EmploymentStatus\n",
    "loans_clean.query('EmploymentStatus == \"Self-Employed\" & JobStatus == \"Not Working\"')\n"
   ]
  },
  {
   "cell_type": "code",
   "execution_count": 31,
   "metadata": {
    "slideshow": {
     "slide_type": "skip"
    }
   },
   "outputs": [
    {
     "data": {
      "text/html": [
       "<div>\n",
       "<style scoped>\n",
       "    .dataframe tbody tr th:only-of-type {\n",
       "        vertical-align: middle;\n",
       "    }\n",
       "\n",
       "    .dataframe tbody tr th {\n",
       "        vertical-align: top;\n",
       "    }\n",
       "\n",
       "    .dataframe thead th {\n",
       "        text-align: right;\n",
       "    }\n",
       "</style>\n",
       "<table border=\"1\" class=\"dataframe\">\n",
       "  <thead>\n",
       "    <tr style=\"text-align: right;\">\n",
       "      <th></th>\n",
       "      <th>Term</th>\n",
       "      <th>LoanStatus</th>\n",
       "      <th>BorrowerAPR</th>\n",
       "      <th>BorrowerRate</th>\n",
       "      <th>ListingCategory</th>\n",
       "      <th>BorrowerState</th>\n",
       "      <th>Occupation</th>\n",
       "      <th>EmploymentStatus</th>\n",
       "      <th>IsBorrowerHomeowner</th>\n",
       "      <th>IncomeRange</th>\n",
       "      <th>LoanOriginalAmount</th>\n",
       "      <th>JobStatus</th>\n",
       "    </tr>\n",
       "  </thead>\n",
       "  <tbody>\n",
       "  </tbody>\n",
       "</table>\n",
       "</div>"
      ],
      "text/plain": [
       "Empty DataFrame\n",
       "Columns: [Term, LoanStatus, BorrowerAPR, BorrowerRate, ListingCategory, BorrowerState, Occupation, EmploymentStatus, IsBorrowerHomeowner, IncomeRange, LoanOriginalAmount, JobStatus]\n",
       "Index: []"
      ]
     },
     "execution_count": 31,
     "metadata": {},
     "output_type": "execute_result"
    }
   ],
   "source": [
    "#confirm for borrowers with \"Employed\" EmploymentStatus \n",
    "loans_clean.query('EmploymentStatus == \"Employed\" & JobStatus == \"Not Working\"')\n"
   ]
  },
  {
   "cell_type": "code",
   "execution_count": 32,
   "metadata": {
    "slideshow": {
     "slide_type": "skip"
    }
   },
   "outputs": [
    {
     "data": {
      "text/html": [
       "<div>\n",
       "<style scoped>\n",
       "    .dataframe tbody tr th:only-of-type {\n",
       "        vertical-align: middle;\n",
       "    }\n",
       "\n",
       "    .dataframe tbody tr th {\n",
       "        vertical-align: top;\n",
       "    }\n",
       "\n",
       "    .dataframe thead th {\n",
       "        text-align: right;\n",
       "    }\n",
       "</style>\n",
       "<table border=\"1\" class=\"dataframe\">\n",
       "  <thead>\n",
       "    <tr style=\"text-align: right;\">\n",
       "      <th></th>\n",
       "      <th>Term</th>\n",
       "      <th>LoanStatus</th>\n",
       "      <th>BorrowerAPR</th>\n",
       "      <th>BorrowerRate</th>\n",
       "      <th>ListingCategory</th>\n",
       "      <th>BorrowerState</th>\n",
       "      <th>Occupation</th>\n",
       "      <th>EmploymentStatus</th>\n",
       "      <th>IsBorrowerHomeowner</th>\n",
       "      <th>IncomeRange</th>\n",
       "      <th>LoanOriginalAmount</th>\n",
       "      <th>JobStatus</th>\n",
       "    </tr>\n",
       "  </thead>\n",
       "  <tbody>\n",
       "  </tbody>\n",
       "</table>\n",
       "</div>"
      ],
      "text/plain": [
       "Empty DataFrame\n",
       "Columns: [Term, LoanStatus, BorrowerAPR, BorrowerRate, ListingCategory, BorrowerState, Occupation, EmploymentStatus, IsBorrowerHomeowner, IncomeRange, LoanOriginalAmount, JobStatus]\n",
       "Index: []"
      ]
     },
     "execution_count": 32,
     "metadata": {},
     "output_type": "execute_result"
    }
   ],
   "source": [
    "#confirm for borrowers with \"Not Employed\" EmploymentStatus \n",
    "loans_clean.query('EmploymentStatus == \"Not Employed\" & JobStatus == \"Working\"')\n"
   ]
  },
  {
   "cell_type": "code",
   "execution_count": 33,
   "metadata": {
    "slideshow": {
     "slide_type": "skip"
    }
   },
   "outputs": [
    {
     "data": {
      "text/html": [
       "<div>\n",
       "<style scoped>\n",
       "    .dataframe tbody tr th:only-of-type {\n",
       "        vertical-align: middle;\n",
       "    }\n",
       "\n",
       "    .dataframe tbody tr th {\n",
       "        vertical-align: top;\n",
       "    }\n",
       "\n",
       "    .dataframe thead th {\n",
       "        text-align: right;\n",
       "    }\n",
       "</style>\n",
       "<table border=\"1\" class=\"dataframe\">\n",
       "  <thead>\n",
       "    <tr style=\"text-align: right;\">\n",
       "      <th></th>\n",
       "      <th>Term</th>\n",
       "      <th>LoanStatus</th>\n",
       "      <th>BorrowerAPR</th>\n",
       "      <th>BorrowerRate</th>\n",
       "      <th>ListingCategory</th>\n",
       "      <th>BorrowerState</th>\n",
       "      <th>Occupation</th>\n",
       "      <th>EmploymentStatus</th>\n",
       "      <th>IsBorrowerHomeowner</th>\n",
       "      <th>IncomeRange</th>\n",
       "      <th>LoanOriginalAmount</th>\n",
       "      <th>JobStatus</th>\n",
       "    </tr>\n",
       "  </thead>\n",
       "  <tbody>\n",
       "  </tbody>\n",
       "</table>\n",
       "</div>"
      ],
      "text/plain": [
       "Empty DataFrame\n",
       "Columns: [Term, LoanStatus, BorrowerAPR, BorrowerRate, ListingCategory, BorrowerState, Occupation, EmploymentStatus, IsBorrowerHomeowner, IncomeRange, LoanOriginalAmount, JobStatus]\n",
       "Index: []"
      ]
     },
     "execution_count": 33,
     "metadata": {},
     "output_type": "execute_result"
    }
   ],
   "source": [
    "#confirm for borrowers with \"Retired\" EmploymentStatus \n",
    "loans_clean.query('EmploymentStatus == \"Retired\" & JobStatus == \"Working\"')\n"
   ]
  },
  {
   "cell_type": "code",
   "execution_count": 34,
   "metadata": {
    "slideshow": {
     "slide_type": "skip"
    }
   },
   "outputs": [
    {
     "data": {
      "text/html": [
       "<div>\n",
       "<style scoped>\n",
       "    .dataframe tbody tr th:only-of-type {\n",
       "        vertical-align: middle;\n",
       "    }\n",
       "\n",
       "    .dataframe tbody tr th {\n",
       "        vertical-align: top;\n",
       "    }\n",
       "\n",
       "    .dataframe thead th {\n",
       "        text-align: right;\n",
       "    }\n",
       "</style>\n",
       "<table border=\"1\" class=\"dataframe\">\n",
       "  <thead>\n",
       "    <tr style=\"text-align: right;\">\n",
       "      <th></th>\n",
       "      <th>TermMonths</th>\n",
       "      <th>LoanStatus</th>\n",
       "      <th>BorrowerAPR</th>\n",
       "      <th>BorrowerRate</th>\n",
       "      <th>ListingCategory</th>\n",
       "      <th>BorrowerState</th>\n",
       "      <th>Occupation</th>\n",
       "      <th>EmploymentStatus</th>\n",
       "      <th>IsBorrowerHomeowner</th>\n",
       "      <th>IncomeRange</th>\n",
       "      <th>LoanOriginalAmount</th>\n",
       "      <th>JobStatus</th>\n",
       "    </tr>\n",
       "  </thead>\n",
       "  <tbody>\n",
       "    <tr>\n",
       "      <th>0</th>\n",
       "      <td>36</td>\n",
       "      <td>Completed</td>\n",
       "      <td>0.16516</td>\n",
       "      <td>0.158</td>\n",
       "      <td>NaN</td>\n",
       "      <td>CO</td>\n",
       "      <td>Other</td>\n",
       "      <td>Self-Employed</td>\n",
       "      <td>True</td>\n",
       "      <td>$25,000-49,999</td>\n",
       "      <td>9425</td>\n",
       "      <td>Working</td>\n",
       "    </tr>\n",
       "  </tbody>\n",
       "</table>\n",
       "</div>"
      ],
      "text/plain": [
       "   TermMonths LoanStatus  BorrowerAPR  BorrowerRate ListingCategory  \\\n",
       "0          36  Completed      0.16516         0.158             NaN   \n",
       "\n",
       "  BorrowerState Occupation EmploymentStatus  IsBorrowerHomeowner  \\\n",
       "0            CO      Other    Self-Employed                 True   \n",
       "\n",
       "      IncomeRange  LoanOriginalAmount JobStatus  \n",
       "0  $25,000-49,999                9425   Working  "
      ]
     },
     "execution_count": 34,
     "metadata": {},
     "output_type": "execute_result"
    }
   ],
   "source": [
    "#Rename Term variable \n",
    "loans_clean.rename(columns = {\"Term\" : \"TermMonths\"}, inplace = True)\n",
    "\n",
    "#confirm \n",
    "loans_clean.head(1)\n"
   ]
  },
  {
   "cell_type": "code",
   "execution_count": 35,
   "metadata": {
    "slideshow": {
     "slide_type": "skip"
    }
   },
   "outputs": [],
   "source": [
    "def term_words(col_name): \n",
    "    \"\"\"This function returns a list of the term \n",
    "    (in words) each loan belongs in\"\"\"\n",
    "    term_list = [] \n",
    "    for x in col_name: \n",
    "        if x == 12: \n",
    "            term_list.append(\"Short Term\") \n",
    "        elif x == 36: \n",
    "            term_list.append(\"Mid Term\")\n",
    "        else: \n",
    "            term_list.append(\"Long Term\")\n",
    "    return term_list \n"
   ]
  },
  {
   "cell_type": "code",
   "execution_count": 36,
   "metadata": {
    "slideshow": {
     "slide_type": "skip"
    }
   },
   "outputs": [],
   "source": [
    "#apply function to TermMonths column \n",
    "term_words_list = term_words(loans_clean.TermMonths)\n",
    "\n",
    "#create a new variable for the term in words \n",
    "loans_clean[\"Term\"] = term_words_list\n"
   ]
  },
  {
   "cell_type": "code",
   "execution_count": 37,
   "metadata": {
    "slideshow": {
     "slide_type": "skip"
    }
   },
   "outputs": [
    {
     "name": "stdout",
     "output_type": "stream",
     "text": [
      "36    49535\n",
      "60     4276\n",
      "12     1505\n",
      "Name: TermMonths, dtype: int64\n"
     ]
    },
    {
     "data": {
      "text/plain": [
       "Mid Term      49535\n",
       "Long Term      4276\n",
       "Short Term     1505\n",
       "Name: Term, dtype: int64"
      ]
     },
     "execution_count": 37,
     "metadata": {},
     "output_type": "execute_result"
    }
   ],
   "source": [
    "#confirm by viewing random rows\n",
    "print(loans_clean.TermMonths.value_counts()) \n",
    "\n",
    "loans_clean.Term.value_counts()\n"
   ]
  },
  {
   "cell_type": "code",
   "execution_count": 38,
   "metadata": {
    "slideshow": {
     "slide_type": "skip"
    }
   },
   "outputs": [],
   "source": [
    "#create loop to change TermMonths, IncomeRange and Term datatypes to category\n",
    "ord_data_dict = {\"TermMonths\": [12, 36, 60], \n",
    "            \"IncomeRange\": [\"$0\", \"$1-24,999\", \"$25,000-49,999\" \n",
    "                             \"$50,000-74,999\", \"$75,000-99,999\", \"$100,000+\"], \n",
    "                 \"Term\": [\"Short Term\", \"Mid Term\", \"Long Term\"]\n",
    "                }\n",
    "for ord_data in ord_data_dict: \n",
    "    ord_cat = pd.api.types.CategoricalDtype(ordered = True, categories = ord_data_dict[ord_data]) \n",
    "    loans_clean[ord_data] = loans_clean[ord_data].astype(ord_cat)\n"
   ]
  },
  {
   "cell_type": "code",
   "execution_count": 39,
   "metadata": {
    "slideshow": {
     "slide_type": "skip"
    }
   },
   "outputs": [
    {
     "data": {
      "text/plain": [
       "TermMonths             category\n",
       "LoanStatus               object\n",
       "BorrowerAPR             float64\n",
       "BorrowerRate            float64\n",
       "ListingCategory          object\n",
       "BorrowerState            object\n",
       "Occupation               object\n",
       "EmploymentStatus         object\n",
       "IsBorrowerHomeowner        bool\n",
       "IncomeRange            category\n",
       "LoanOriginalAmount        int64\n",
       "JobStatus                object\n",
       "Term                   category\n",
       "dtype: object"
      ]
     },
     "execution_count": 39,
     "metadata": {},
     "output_type": "execute_result"
    }
   ],
   "source": [
    "#confirm \n",
    "loans_clean.dtypes"
   ]
  },
  {
   "cell_type": "code",
   "execution_count": 40,
   "metadata": {
    "slideshow": {
     "slide_type": "skip"
    }
   },
   "outputs": [],
   "source": [
    "#drop null values\n",
    "loans_clean.dropna(inplace = True)\n"
   ]
  },
  {
   "cell_type": "code",
   "execution_count": 41,
   "metadata": {
    "slideshow": {
     "slide_type": "skip"
    }
   },
   "outputs": [
    {
     "data": {
      "text/plain": [
       "(14882, 13)"
      ]
     },
     "execution_count": 41,
     "metadata": {},
     "output_type": "execute_result"
    }
   ],
   "source": [
    "#obtain number of rows and columns of clean dataset\n",
    "loans_clean.shape \n"
   ]
  },
  {
   "cell_type": "code",
   "execution_count": 42,
   "metadata": {
    "slideshow": {
     "slide_type": "skip"
    }
   },
   "outputs": [],
   "source": [
    "#drop outlier interest rate rows\n",
    "low_rates = loans_clean.query('BorrowerRate >= 0.00 & BorrowerRate < 0.02') \n",
    "high_rates = loans_clean.query('BorrowerRate >= 0.35 & BorrowerRate < 0.36')\n"
   ]
  },
  {
   "cell_type": "code",
   "execution_count": 43,
   "metadata": {
    "slideshow": {
     "slide_type": "skip"
    }
   },
   "outputs": [
    {
     "data": {
      "text/html": [
       "<div>\n",
       "<style scoped>\n",
       "    .dataframe tbody tr th:only-of-type {\n",
       "        vertical-align: middle;\n",
       "    }\n",
       "\n",
       "    .dataframe tbody tr th {\n",
       "        vertical-align: top;\n",
       "    }\n",
       "\n",
       "    .dataframe thead th {\n",
       "        text-align: right;\n",
       "    }\n",
       "</style>\n",
       "<table border=\"1\" class=\"dataframe\">\n",
       "  <thead>\n",
       "    <tr style=\"text-align: right;\">\n",
       "      <th></th>\n",
       "      <th>TermMonths</th>\n",
       "      <th>LoanStatus</th>\n",
       "      <th>BorrowerAPR</th>\n",
       "      <th>BorrowerRate</th>\n",
       "      <th>ListingCategory</th>\n",
       "      <th>BorrowerState</th>\n",
       "      <th>Occupation</th>\n",
       "      <th>EmploymentStatus</th>\n",
       "      <th>IsBorrowerHomeowner</th>\n",
       "      <th>IncomeRange</th>\n",
       "      <th>LoanOriginalAmount</th>\n",
       "      <th>JobStatus</th>\n",
       "      <th>Term</th>\n",
       "    </tr>\n",
       "  </thead>\n",
       "  <tbody>\n",
       "  </tbody>\n",
       "</table>\n",
       "</div>"
      ],
      "text/plain": [
       "Empty DataFrame\n",
       "Columns: [TermMonths, LoanStatus, BorrowerAPR, BorrowerRate, ListingCategory, BorrowerState, Occupation, EmploymentStatus, IsBorrowerHomeowner, IncomeRange, LoanOriginalAmount, JobStatus, Term]\n",
       "Index: []"
      ]
     },
     "execution_count": 43,
     "metadata": {},
     "output_type": "execute_result"
    }
   ],
   "source": [
    "#drop BorrowerRate outlier rows \n",
    "loans_clean.drop(low_rates.index, inplace = True) \n",
    "loans_clean.drop(high_rates.index, inplace = True) \n",
    "\n",
    "#confirm \n",
    "#for low interest rates \n",
    "loans_clean.query('BorrowerRate >= 0.00 & BorrowerRate < 0.02')\n",
    "\n"
   ]
  },
  {
   "cell_type": "code",
   "execution_count": 44,
   "metadata": {
    "slideshow": {
     "slide_type": "skip"
    }
   },
   "outputs": [
    {
     "data": {
      "text/html": [
       "<div>\n",
       "<style scoped>\n",
       "    .dataframe tbody tr th:only-of-type {\n",
       "        vertical-align: middle;\n",
       "    }\n",
       "\n",
       "    .dataframe tbody tr th {\n",
       "        vertical-align: top;\n",
       "    }\n",
       "\n",
       "    .dataframe thead th {\n",
       "        text-align: right;\n",
       "    }\n",
       "</style>\n",
       "<table border=\"1\" class=\"dataframe\">\n",
       "  <thead>\n",
       "    <tr style=\"text-align: right;\">\n",
       "      <th></th>\n",
       "      <th>TermMonths</th>\n",
       "      <th>LoanStatus</th>\n",
       "      <th>BorrowerAPR</th>\n",
       "      <th>BorrowerRate</th>\n",
       "      <th>ListingCategory</th>\n",
       "      <th>BorrowerState</th>\n",
       "      <th>Occupation</th>\n",
       "      <th>EmploymentStatus</th>\n",
       "      <th>IsBorrowerHomeowner</th>\n",
       "      <th>IncomeRange</th>\n",
       "      <th>LoanOriginalAmount</th>\n",
       "      <th>JobStatus</th>\n",
       "      <th>Term</th>\n",
       "    </tr>\n",
       "  </thead>\n",
       "  <tbody>\n",
       "  </tbody>\n",
       "</table>\n",
       "</div>"
      ],
      "text/plain": [
       "Empty DataFrame\n",
       "Columns: [TermMonths, LoanStatus, BorrowerAPR, BorrowerRate, ListingCategory, BorrowerState, Occupation, EmploymentStatus, IsBorrowerHomeowner, IncomeRange, LoanOriginalAmount, JobStatus, Term]\n",
       "Index: []"
      ]
     },
     "execution_count": 44,
     "metadata": {},
     "output_type": "execute_result"
    }
   ],
   "source": [
    "#for high interest rates \n",
    "loans_clean.query('BorrowerRate >= 0.35 & BorrowerRate < 0.36')\n"
   ]
  },
  {
   "cell_type": "markdown",
   "metadata": {
    "slideshow": {
     "slide_type": "slide"
    }
   },
   "source": [
    "## Percentage Proportion of Loan Status for Loans taken for Student Use \n",
    "\n",
    "The bar chart below depicts the percentage proportion of each loan status for loans taken for student use. It shows that 75.34% of these student use loans are completed. Thereby indicating that most loans taken for student use are usually completed."
   ]
  },
  {
   "cell_type": "code",
   "execution_count": 45,
   "metadata": {
    "slideshow": {
     "slide_type": "skip"
    }
   },
   "outputs": [],
   "source": [
    "#select out rows with listing category as Student Use\n",
    "student_use = loans_clean.query('ListingCategory == \"Student Use\"')\n",
    "\n",
    "#get the count for each loan status\n",
    "loan_stats_count = student_use.LoanStatus.value_counts() \n",
    "\n",
    "#get the total number of loan status values \n",
    "total_student_stats = loan_stats_count.sum()\n",
    "\n",
    "#obtain status order for the student use data \n",
    "stat_order = loan_stats_count.index\n"
   ]
  },
  {
   "cell_type": "code",
   "execution_count": 46,
   "metadata": {
    "slideshow": {
     "slide_type": "subslide"
    }
   },
   "outputs": [
    {
     "data": {
      "image/png": "[encoded data removed]",
      "text/plain": [
       "<Figure size 432x288 with 1 Axes>"
      ]
     },
     "metadata": {
      "needs_background": "light"
     },
     "output_type": "display_data"
    }
   ],
   "source": [
    "#choose color \n",
    "base_color = sb.color_palette()[0]\n",
    "\n",
    "#visualize \n",
    "g = sb.countplot(data = student_use, y = \"LoanStatus\", color = base_color, \n",
    "            order = stat_order)\n",
    "\n",
    "#input percentage of each status as texts on their respective bars\n",
    "for i in range(loan_stats_count.shape[0]):\n",
    "    count = loan_stats_count[i]\n",
    "    pct_text = \"{:0.2f}%\".format(100 * (count/total_student_stats))\n",
    "    plt.text(count + 15, i , pct_text, ha = \"center\");  \n",
    "    \n",
    "#remove spines \n",
    "g.spines[\"top\"].set_visible(False)\n",
    "g.spines[\"right\"].set_visible(False)\n",
    "g.spines[\"left\"].set_visible(False)\n",
    "g.spines[\"bottom\"].set_visible(False)\n",
    "\n",
    "#remove x-axis \n",
    "g.get_xaxis().set_visible(False)\n",
    "\n",
    "plt.ylabel(\"Loan Status\")\n",
    "plt.title(\"Percentage Proportion of Loan Status for Loans Taken for Student Use\");\n"
   ]
  },
  {
   "cell_type": "markdown",
   "metadata": {
    "collapsed": true,
    "slideshow": {
     "slide_type": "slide"
    }
   },
   "source": [
    "## Income Range Level Distribution for Debt Consolidation Loans. \n",
    "\n",
    "The bar chart below shows the frequency or sum of borrowers who took loans for debt consolidation in their various income levels. In the bar chart, the number of high-income earners shown is far more than the number of low-income earners, which supports the finding that high-income earners are more likely to take loans for debt consolidation."
   ]
  },
  {
   "cell_type": "code",
   "execution_count": 47,
   "metadata": {
    "slideshow": {
     "slide_type": "skip"
    }
   },
   "outputs": [],
   "source": [
    "#filter out debt consolidation rows \n",
    "debt_cons = loans_clean[loans_clean[\"ListingCategory\"] == \"Debt Consolidation\"] \n",
    "\n",
    "#select out the count of each income range \n",
    "cons_inc1 = debt_cons[debt_cons[\"IncomeRange\"] == \"$0\"].IncomeRange.count()\n",
    "cons_inc2 = debt_cons[debt_cons[\"IncomeRange\"] == \"$1-24,999\"].IncomeRange.count()\n",
    "cons_inc3 = debt_cons[debt_cons[\"IncomeRange\"] == \"$25,000-49,999\"].IncomeRange.count() \n",
    "cons_inc4 = debt_cons[debt_cons[\"IncomeRange\"] == \"$50,000-74,999\"].IncomeRange.count() \n",
    "cons_inc5 = debt_cons[debt_cons[\"IncomeRange\"] == \"$75,000-99,999\"].IncomeRange.count()\n",
    "cons_inc6 = debt_cons[debt_cons[\"IncomeRange\"] == \"$100,000+\"].IncomeRange.count()\n"
   ]
  },
  {
   "cell_type": "code",
   "execution_count": 48,
   "metadata": {
    "slideshow": {
     "slide_type": "skip"
    }
   },
   "outputs": [],
   "source": [
    "#get total value for low income earners \n",
    "#sum of count for income range $0 - $74,999\n",
    "total_low_inc = cons_inc1 + cons_inc2\n",
    "\n",
    "#get total value for higher income earners \n",
    "#sum of count for income range $75,000-99,999\n",
    "#and $100,0000+ \n",
    "total_high_inc = cons_inc5 + cons_inc6\n"
   ]
  },
  {
   "cell_type": "code",
   "execution_count": 49,
   "metadata": {
    "slideshow": {
     "slide_type": "subslide"
    }
   },
   "outputs": [
    {
     "data": {
      "image/png": "[encoded data removed]",
      "text/plain": [
       "<Figure size 432x288 with 1 Axes>"
      ]
     },
     "metadata": {
      "needs_background": "light"
     },
     "output_type": "display_data"
    }
   ],
   "source": [
    "#set bar chart parameters \n",
    "x_num = np.arange(2)\n",
    "y_values = [total_low_inc, total_high_inc]\n",
    "labels = [\"Low-income Range\", \"High-Income Range\"]\n",
    "\n",
    "#plot \n",
    "plt.bar(x_num, y_values, tick_label = labels)\n",
    "plt.xlabel(\"Income Range Level\")\n",
    "plt.ylabel(\"Count\")\n",
    "plt.title(\"Income Range Level Distribution for Debt Consolidation Loans\");\n"
   ]
  },
  {
   "cell_type": "markdown",
   "metadata": {
    "slideshow": {
     "slide_type": "slide"
    }
   },
   "source": [
    "## Effect of Loan Length on Interest Rate \n",
    "\n",
    "The point and violin plots created below depict the relationship between interest rate and loan length.\n",
    "\n",
    "In the point plot, there is an obvious increase in the average interest rate from short term to long term. A similar progression is also seen in the violin plot, with more values distributed in higher interest rates as the loan length goes from short to long term, showing that longer-term loans have a higher interest rate.\n"
   ]
  },
  {
   "cell_type": "code",
   "execution_count": 50,
   "metadata": {
    "slideshow": {
     "slide_type": "subslide"
    }
   },
   "outputs": [
    {
     "data": {
      "image/png": "[encoded data removed]",
      "text/plain": [
       "<Figure size 1080x360 with 2 Axes>"
      ]
     },
     "metadata": {
      "needs_background": "light"
     },
     "output_type": "display_data"
    }
   ],
   "source": [
    "#set fig size \n",
    "plt.figure(figsize = (15, 5)) \n",
    "\n",
    "#subplot for point plot \n",
    "plt.subplot(1, 2, 1)\n",
    "g = sb.pointplot(data = loans_clean, x = \"Term\", y = \"BorrowerRate\",\n",
    "             color = base_color);\n",
    "\n",
    "#remove top and right spines\n",
    "g.spines[\"top\"].set_visible(False)\n",
    "g.spines[\"right\"].set_visible(False)\n",
    "plt.xlabel(\"Loan Length\") \n",
    "plt.ylabel(\"Average Interest Rate\")\n",
    "\n",
    "#subplot for violin plot\n",
    "plt.subplot(1, 2, 2) \n",
    "sb.violinplot(data = loans_clean, x = \"Term\", y = \"BorrowerRate\", \n",
    "              color = base_color, inner = \"quartile\"); \n",
    "plt.xlabel(\"Loan Length\") \n",
    "plt.ylabel(\"Interest Rate\")\n",
    "\n",
    "#set title of figure\n",
    "plt.suptitle(\"Effect of Loan Length on Interest Rate\"); \n"
   ]
  },
  {
   "cell_type": "markdown",
   "metadata": {
    "slideshow": {
     "slide_type": "slide"
    }
   },
   "source": [
    "## Distribution of Loan Amount by Loan Length\n",
    "\n",
    "A violin plot was created below to show the relationship between the loan amount and interest rate. The plot shows an increase in loan amount distribution from short term to long term, and long term loans have the most distribution of values at high-interest rates, supporting the finding that borrowers taking high loan amounts are more likely to opt for long-term loans.\n"
   ]
  },
  {
   "cell_type": "code",
   "execution_count": 51,
   "metadata": {
    "slideshow": {
     "slide_type": "subslide"
    }
   },
   "outputs": [
    {
     "data": {
      "image/png": "[encoded data removed]",
      "text/plain": [
       "<Figure size 432x288 with 1 Axes>"
      ]
     },
     "metadata": {
      "needs_background": "light"
     },
     "output_type": "display_data"
    }
   ],
   "source": [
    "#visualize\n",
    "sb.violinplot(data = loans_clean, x = \"Term\", y = \"LoanOriginalAmount\", \n",
    "              color = base_color, inner = \"quartile\");\n",
    "\n",
    "plt.xlabel(\"Loan Length\") \n",
    "plt.ylabel(\"Loan Amount($)\")\n",
    "plt.title(\"Distribution of Loan Amount by Length of Loan\");\n"
   ]
  },
  {
   "cell_type": "markdown",
   "metadata": {
    "slideshow": {
     "slide_type": "slide"
    }
   },
   "source": [
    "##  Distribution of Loan Amount by Income Range\n",
    "\n",
    "A bar plot was used to depict the relationship between the income range of borrowers and loan amount. The plot shows that borrowers having an income value within the \\\\$75,000-100,000+ range take higher loan amounts, with borrowers that earn \\\\$100,000+ having the highest average loan amount, indicating that high-income earners are more likely to take high loan amounts. "
   ]
  },
  {
   "cell_type": "code",
   "execution_count": 52,
   "metadata": {
    "slideshow": {
     "slide_type": "skip"
    }
   },
   "outputs": [],
   "source": [
    "#obtain the average loan amount for each income range values \n",
    "range1_mean = loans_clean[loans_clean[\"IncomeRange\"] == \"$0\"].LoanOriginalAmount.mean() \n",
    "range2_mean = loans_clean[loans_clean[\"IncomeRange\"] == \"$1-24,999\"].LoanOriginalAmount.mean() \n",
    "range3_mean = loans_clean[loans_clean[\"IncomeRange\"] == \"$25,000-49,999\"].LoanOriginalAmount.mean() \n",
    "range4_mean = loans_clean[loans_clean[\"IncomeRange\"] == \"$50,000-74,999\"].LoanOriginalAmount.mean() \n",
    "range5_mean = loans_clean[loans_clean[\"IncomeRange\"] == \"$75,000-99,999\"].LoanOriginalAmount.mean() \n",
    "range6_mean = loans_clean[loans_clean[\"IncomeRange\"] == \"$100,000+\"].LoanOriginalAmount.mean() \n"
   ]
  },
  {
   "cell_type": "code",
   "execution_count": 53,
   "metadata": {
    "slideshow": {
     "slide_type": "subslide"
    }
   },
   "outputs": [
    {
     "data": {
      "image/png": "[encoded data removed]",
      "text/plain": [
       "<Figure size 432x288 with 1 Axes>"
      ]
     },
     "metadata": {
      "needs_background": "light"
     },
     "output_type": "display_data"
    }
   ],
   "source": [
    "#set parameters for bar plot\n",
    "x_num = np.arange(6) \n",
    "y_values = [range1_mean, range2_mean, range3_mean, range4_mean, range5_mean,\n",
    "            range6_mean]\n",
    "labels = [\"$0\", \"$1-24,999\", \"$25,000-49,999\", \n",
    "          \"$50,000-74,999\", \"$75,000-99,999\",\n",
    "          \"$100,000+\"] \n",
    "\n",
    "#plot bar plot \n",
    "plt.bar(x_num, y_values, tick_label = labels)\n",
    "plt.xticks(rotation = 90)\n",
    "plt.xlabel(\"Income Range\")\n",
    "plt.ylabel(\"Average Loan Amount ($)\");\n",
    "plt.title(\"Distribution of Loan Amount by Income Range\"); \n"
   ]
  },
  {
   "cell_type": "markdown",
   "metadata": {
    "slideshow": {
     "slide_type": "slide"
    }
   },
   "source": [
    "## Distribution of Loan Status by Loan Amount and Loan Length \n",
    "\n",
    "In the bar plot used to show the relationship between loan amount, loan status and loan length below, usually, for each term, the lower loan amounts can be seen to have a defaulted or charged off loan status. This supports the finding that lower loan amounts for each loan length, are more likely to be defaulted or charged off."
   ]
  },
  {
   "cell_type": "code",
   "execution_count": 54,
   "metadata": {
    "slideshow": {
     "slide_type": "subslide"
    }
   },
   "outputs": [
    {
     "data": {
      "image/png": "[encoded data removed]",
      "text/plain": [
       "<Figure size 432x288 with 1 Axes>"
      ]
     },
     "metadata": {
      "needs_background": "light"
     },
     "output_type": "display_data"
    }
   ],
   "source": [
    "#create order by which the hue is created\n",
    "order_hue = [\"Defaulted\", \"Chargedoff\", \"Completed\", \n",
    "             \"Past Due\", \"FinalPaymentInProgress\"]\n",
    "\n",
    "#visualize\n",
    "sb.barplot(data = loans_clean, x = \"Term\", y = \"LoanOriginalAmount\", \n",
    "           hue = \"LoanStatus\", hue_order = order_hue, palette = \"deep\", \n",
    "           errwidth = 0);\n",
    "plt.legend(title = \"Loan Status\", ncol = 2, loc = 6, bbox_to_anchor = (1.0, 0.5));\n",
    "plt.xlabel(\"Loan Length\") \n",
    "plt.ylabel(\"Average Loan Amount($)\")\n",
    "plt.title(\"Distribution of Loan Status by Loan Amount and Loan Length\"); \n"
   ]
  },
  {
   "cell_type": "markdown",
   "metadata": {
    "slideshow": {
     "slide_type": "slide"
    }
   },
   "source": [
    "## Distribution of Loan Status by Interest Rate and Loan Length  \n",
    "\n",
    "The point plot visualizes the relationship between loan length, loan status, and interest rates. \n",
    "\n",
    "For each loan length in the plot, generally, higher interest rate loans can be seen to have a defaulted or charged off or past due loan status, supporting the finding that for each loan length, loans with higher interest rates will likely get defaulted, charged off or not paid in time.\n",
    "\n"
   ]
  },
  {
   "cell_type": "code",
   "execution_count": 55,
   "metadata": {
    "slideshow": {
     "slide_type": "subslide"
    }
   },
   "outputs": [
    {
     "data": {
      "image/png": "[encoded data removed]",
      "text/plain": [
       "<Figure size 576x360 with 1 Axes>"
      ]
     },
     "metadata": {
      "needs_background": "light"
     },
     "output_type": "display_data"
    }
   ],
   "source": [
    "#set figure \n",
    "plt.figure(figsize = (8,5))\n",
    "\n",
    "#visualise\n",
    "sb.pointplot(data = loans_clean, x = \"Term\", y = \"BorrowerRate\", \n",
    "           hue = \"LoanStatus\", palette = \"dark\", \n",
    "             dodge = 0.3, linestyles = \"\", errwidth = 0);\n",
    "\n",
    "#set legend\n",
    "plt.legend(title = \"Loan Status\", ncol = 2, loc = 6, bbox_to_anchor = (1.0, 0.5)); \n",
    "plt.xlabel(\"Loan Length\") \n",
    "plt.ylabel(\"Average Interest Rate\") \n",
    "plt.title(\"Distribution of Loan Status by Interest Rate and Loan Length\");\n"
   ]
  },
  {
   "cell_type": "code",
   "execution_count": null,
   "metadata": {
    "scrolled": true,
    "slideshow": {
     "slide_type": "skip"
    }
   },
   "outputs": [
    {
     "name": "stdout",
     "output_type": "stream",
     "text": [
      "[NbConvertApp] Converting notebook Part_II_Loan_Data_from_Prosper.ipynb to slides\n",
      "[NbConvertApp] Writing 775357 bytes to Part_II_Loan_Data_from_Prosper.slides.html\n",
      "[NbConvertApp] Redirecting reveal.js requests to https://cdnjs.cloudflare.com/ajax/libs/reveal.js/3.5.0\n",
      "Serving your slides at http://127.0.0.1:8000/Part_II_Loan_Data_from_Prosper.slides.html\n",
      "Use Control-C to stop this server\n"
     ]
    }
   ],
   "source": [
    "!jupyter nbconvert Part_II_Loan_Data_from_Prosper.ipynb --to slides --post serve --no-input --no-prompt \n"
   ]
  },
  {
   "cell_type": "code",
   "execution_count": null,
   "metadata": {},
   "outputs": [],
   "source": []
  }
 ],
 "metadata": {
  "celltoolbar": "Slideshow",
  "kernelspec": {
   "display_name": "Python 3 (ipykernel)",
   "language": "python",
   "name": "python3"
  },
  "language_info": {
   "codemirror_mode": {
    "name": "ipython",
    "version": 3
   },
   "file_extension": ".py",
   "mimetype": "text/x-python",
   "name": "python",
   "nbconvert_exporter": "python",
   "pygments_lexer": "ipython3",
   "version": "3.9.7"
  }
 },
 "nbformat": 4,
 "nbformat_minor": 2
}
